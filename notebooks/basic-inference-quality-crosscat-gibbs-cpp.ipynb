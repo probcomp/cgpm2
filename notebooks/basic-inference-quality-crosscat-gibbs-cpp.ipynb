{
 "cells": [
  {
   "cell_type": "code",
   "execution_count": 1,
   "metadata": {},
   "outputs": [],
   "source": [
    "%matplotlib inline\n",
    "import matplotlib.pyplot as plt"
   ]
  },
  {
   "cell_type": "code",
   "execution_count": 2,
   "metadata": {},
   "outputs": [],
   "source": [
    "import numpy as np\n",
    "import pandas as pd"
   ]
  },
  {
   "cell_type": "code",
   "execution_count": 3,
   "metadata": {},
   "outputs": [],
   "source": [
    "prng = np.random.RandomState(10)"
   ]
  },
  {
   "cell_type": "code",
   "execution_count": 4,
   "metadata": {},
   "outputs": [],
   "source": [
    "from cgpm2.transition_crosscat import GibbsCrossCat"
   ]
  },
  {
   "cell_type": "code",
   "execution_count": 5,
   "metadata": {},
   "outputs": [],
   "source": [
    "from cgpm2.flexible_rowmix import FlexibleRowMixture\n",
    "from cgpm2.product import Product\n",
    "from cgpm2.crp import CRP\n",
    "from cgpm2.normal import Normal\n",
    "from cgpm2.categorical import Categorical\n",
    "from cgpm2.sample_crosscat import render_trace_in_embedded_dsl"
   ]
  },
  {
   "cell_type": "markdown",
   "metadata": {},
   "source": [
    "### Basic univariate 3 component mixture "
   ]
  },
  {
   "cell_type": "code",
   "execution_count": 6,
   "metadata": {},
   "outputs": [],
   "source": [
    "data0 = prng.normal(loc=0, scale=2, size=20)\n",
    "data1 = prng.normal(loc=30, scale=1, size=20)\n",
    "data2 = prng.normal(loc=-30, scale=1, size=20)"
   ]
  },
  {
   "cell_type": "code",
   "execution_count": 7,
   "metadata": {},
   "outputs": [],
   "source": [
    "data = np.concatenate((data0, data1, data2))"
   ]
  },
  {
   "cell_type": "code",
   "execution_count": 8,
   "metadata": {},
   "outputs": [],
   "source": [
    "view = FlexibleRowMixture(\n",
    "    cgpm_row_divide=CRP([-1], [], rng=prng),\n",
    "    cgpm_components_base=Product(cgpms=[Normal([0], [], rng=prng)]),\n",
    "    rng=prng)\n",
    "crosscat = Product(cgpms=[view])"
   ]
  },
  {
   "cell_type": "code",
   "execution_count": 9,
   "metadata": {},
   "outputs": [],
   "source": [
    "for rowid, value in enumerate(data):\n",
    "    crosscat.incorporate(rowid, {0: value})"
   ]
  },
  {
   "cell_type": "code",
   "execution_count": 10,
   "metadata": {},
   "outputs": [
    {
     "name": "stdout",
     "output_type": "stream",
     "text": [
      "from cgpm2.categorical import Categorical\n",
      "from cgpm2.crp import CRP\n",
      "from cgpm2.flexible_rowmix import FlexibleRowMixture\n",
      "from cgpm2.normal import Normal\n",
      "from cgpm2.poisson import Poisson\n",
      "from cgpm2.product import Product\n",
      "\n",
      "view0 = FlexibleRowMixture(\n",
      "  cgpm_row_divide=CRP(outputs=[100000], inputs=[], hypers={'alpha': 1},),\n",
      "  cgpm_components_base=Product(cgpms=[\n",
      "    Normal(outputs=[0], inputs=[], hypers={'s': 1, 'r': 1, 'm': 0, 'nu': 1},),])\n",
      ")\n",
      "crosscat = Product(cgpms=[view0])\n",
      "\n",
      "crosscat.incorporate(0, observation={0: 2.663173008259036, -1: 0})\n",
      "crosscat.incorporate(1, observation={0: 1.430557948796811, -1: 0})\n",
      "crosscat.incorporate(2, observation={0: -3.0908005842225363, -1: 0})\n",
      "crosscat.incorporate(3, observation={0: -0.016767699857044512, -1: 0})\n",
      "crosscat.incorporate(4, observation={0: 1.242671947780961, -1: 0})\n",
      "crosscat.incorporate(5, observation={0: -1.4401711214377937, -1: 0})\n",
      "crosscat.incorporate(6, observation={0: 0.531023171384239, -1: 0})\n",
      "crosscat.incorporate(7, observation={0: 0.21709705142993888, -1: 0})\n",
      "crosscat.incorporate(8, observation={0: 0.008582861868066472, -1: 0})\n",
      "crosscat.incorporate(9, observation={0: -0.34920042118588257, -1: 0})\n",
      "crosscat.incorporate(10, observation={0: 0.866052379907196, -1: 0})\n",
      "crosscat.incorporate(11, observation={0: 2.406074747624424, -1: 0})\n",
      "crosscat.incorporate(12, observation={0: -1.9301313410335266, -1: 0})\n",
      "crosscat.incorporate(13, observation={0: 2.056548155965408, -1: 0})\n",
      "crosscat.incorporate(14, observation={0: 0.4572602602493194, -1: 0})\n",
      "crosscat.incorporate(15, observation={0: 0.8902752256606957, -1: 0})\n",
      "crosscat.incorporate(16, observation={0: -2.2732044236620883, -1: 0})\n",
      "crosscat.incorporate(17, observation={0: 0.270273756897271, -1: 0})\n",
      "crosscat.incorporate(18, observation={0: 2.9690740036731644, -1: 0})\n",
      "crosscat.incorporate(19, observation={0: -2.159609771570552, -1: 0})\n",
      "crosscat.incorporate(20, observation={0: 28.022271719342093, -1: 0})\n",
      "crosscat.incorporate(21, observation={0: 28.256627704101092, -1: 0})\n",
      "crosscat.incorporate(22, observation={0: 30.266070164000553, -1: 0})\n",
      "crosscat.incorporate(23, observation={0: 32.3849673307111, -1: 0})\n",
      "crosscat.incorporate(24, observation={0: 31.123691253409422, -1: 0})\n",
      "crosscat.incorporate(25, observation={0: 31.67262221330783, -1: 0})\n",
      "crosscat.incorporate(26, observation={0: 30.099149215835244, -1: 0})\n",
      "crosscat.incorporate(27, observation={0: 31.397996377093577, -1: 0})\n",
      "crosscat.incorporate(28, observation={0: 29.72875201203422, -1: 1})\n",
      "crosscat.incorporate(29, observation={0: 30.61320418485964, -1: 0})\n",
      "crosscat.incorporate(30, observation={0: 29.73268281132643, -1: 0})\n",
      "crosscat.incorporate(31, observation={0: 29.45069098589452, -1: 2})\n",
      "crosscat.incorporate(32, observation={0: 30.13270829575995, -1: 0})\n",
      "crosscat.incorporate(33, observation={0: 29.523857985072663, -1: 0})\n",
      "crosscat.incorporate(34, observation={0: 31.30847308086348, -1: 0})\n",
      "crosscat.incorporate(35, observation={0: 30.19501327923309, -1: 0})\n",
      "crosscat.incorporate(36, observation={0: 30.40020998825235, -1: 0})\n",
      "crosscat.incorporate(37, observation={0: 29.66236766291447, -1: 0})\n",
      "crosscat.incorporate(38, observation={0: 31.256472263755157, -1: 0})\n",
      "crosscat.incorporate(39, observation={0: 29.268030497998794, -1: 0})\n",
      "crosscat.incorporate(40, observation={0: -29.339768448773686, -1: 0})\n",
      "crosscat.incorporate(41, observation={0: -30.350871891439873, -1: 0})\n",
      "crosscat.incorporate(42, observation={0: -30.93943335976255, -1: 0})\n",
      "crosscat.incorporate(43, observation={0: -30.489337216884653, -1: 0})\n",
      "crosscat.incorporate(44, observation={0: -30.804591142269956, -1: 0})\n",
      "crosscat.incorporate(45, observation={0: -30.212697638710512, -1: 0})\n",
      "crosscat.incorporate(46, observation={0: -30.339140246063433, -1: 0})\n",
      "crosscat.incorporate(47, observation={0: -29.68783006368678, -1: 0})\n",
      "crosscat.incorporate(48, observation={0: -29.434847330343374, -1: 0})\n",
      "crosscat.incorporate(49, observation={0: -30.14742025772702, -1: 0})\n",
      "crosscat.incorporate(50, observation={0: -30.025905336816187, -1: 0})\n",
      "crosscat.incorporate(51, observation={0: -29.710905796196066, -1: 0})\n",
      "crosscat.incorporate(52, observation={0: -30.539879071332702, -1: 0})\n",
      "crosscat.incorporate(53, observation={0: -29.291839980073398, -1: 0})\n",
      "crosscat.incorporate(54, observation={0: -29.157775261617346, -1: 0})\n",
      "crosscat.incorporate(55, observation={0: -29.79641920267252, -1: 0})\n",
      "crosscat.incorporate(56, observation={0: -27.605296335115465, -1: 0})\n",
      "crosscat.incorporate(57, observation={0: -29.08254106248957, -1: 0})\n",
      "crosscat.incorporate(58, observation={0: -30.11227247119416, -1: 0})\n",
      "crosscat.incorporate(59, observation={0: -30.36218044714224, -1: 0})\n",
      "\n",
      "\n"
     ]
    }
   ],
   "source": [
    "print render_trace_in_embedded_dsl(crosscat).getvalue()"
   ]
  },
  {
   "cell_type": "code",
   "execution_count": 11,
   "metadata": {},
   "outputs": [
    {
     "name": "stdout",
     "output_type": "stream",
     "text": [
      "Completed: 1000 iterations in 7.299253 seconds.\n"
     ]
    }
   ],
   "source": [
    "inference = GibbsCrossCat(crosscat, prng)\n",
    "inference.transition_structure_cpp(N=1000)"
   ]
  },
  {
   "cell_type": "code",
   "execution_count": 12,
   "metadata": {},
   "outputs": [
    {
     "data": {
      "image/png": "[encoded data removed]",
      "text/plain": [
       "<matplotlib.figure.Figure at 0x7f39ba79dc90>"
      ]
     },
     "metadata": {},
     "output_type": "display_data"
    }
   ],
   "source": [
    "assignments = inference.crosscat.cgpms[0].cgpm_row_divide.data\n",
    "counts = inference.crosscat.cgpms[0].cgpm_row_divide.counts\n",
    "fig, ax = plt.subplots()\n",
    "for cluster in counts:\n",
    "    rowids = [rowid for rowid, z in assignments.iteritems() if z == cluster]\n",
    "    ax.hist(data[rowids])"
   ]
  },
  {
   "cell_type": "code",
   "execution_count": 13,
   "metadata": {},
   "outputs": [
    {
     "data": {
      "image/png": "[encoded data removed]",
      "text/plain": [
       "<matplotlib.figure.Figure at 0x7f39ba8a51d0>"
      ]
     },
     "metadata": {},
     "output_type": "display_data"
    }
   ],
   "source": [
    "crp_output = inference.crosscat.cgpms[0].cgpm_row_divide.outputs[0]\n",
    "samples = inference.crosscat.simulate(None, [crp_output,0], N=100)\n",
    "fig, ax = plt.subplots()\n",
    "zs = set([s[crp_output] for s in samples])\n",
    "for z in zs:\n",
    "    xs = [s[0] for s in samples if s[crp_output] == z]\n",
    "    ax.hist(xs)"
   ]
  },
  {
   "cell_type": "code",
   "execution_count": 14,
   "metadata": {
    "scrolled": false
   },
   "outputs": [
    {
     "name": "stdout",
     "output_type": "stream",
     "text": [
      "Completed: 100 iterations in 1.506419 seconds.\n"
     ]
    }
   ],
   "source": [
    "inference.transition(N=100, kernels=['hypers_distributions','hypers_row_divide'])"
   ]
  },
  {
   "cell_type": "code",
   "execution_count": 15,
   "metadata": {},
   "outputs": [
    {
     "data": {
      "image/png": "[encoded data removed]",
      "text/plain": [
       "<matplotlib.figure.Figure at 0x7f39b86d3c50>"
      ]
     },
     "metadata": {},
     "output_type": "display_data"
    }
   ],
   "source": [
    "crp_output = inference.crosscat.cgpms[0].cgpm_row_divide.outputs[0]\n",
    "samples = inference.crosscat.simulate(None, [crp_output,0], N=100)\n",
    "fig, ax = plt.subplots()\n",
    "zs = set([s[crp_output] for s in samples])\n",
    "for z in zs:\n",
    "    xs = [s[0] for s in samples if s[crp_output] == z]\n",
    "    ax.hist(xs)"
   ]
  },
  {
   "cell_type": "code",
   "execution_count": 16,
   "metadata": {},
   "outputs": [
    {
     "name": "stdout",
     "output_type": "stream",
     "text": [
      "from cgpm2.categorical import Categorical\n",
      "from cgpm2.crp import CRP\n",
      "from cgpm2.flexible_rowmix import FlexibleRowMixture\n",
      "from cgpm2.normal import Normal\n",
      "from cgpm2.poisson import Poisson\n",
      "from cgpm2.product import Product\n",
      "\n",
      "view0 = FlexibleRowMixture(\n",
      "  cgpm_row_divide=CRP(outputs=[100001], inputs=[], hypers={'alpha': 0.6547},),\n",
      "  cgpm_components_base=Product(cgpms=[\n",
      "    Normal(outputs=[0], inputs=[], hypers={'s': 362.0648, 'r': 0.0167, 'm': 13.8248, 'nu': 60.0},),])\n",
      ")\n",
      "crosscat = Product(cgpms=[view0])\n",
      "\n",
      "crosscat.incorporate(0, observation={2264328864: 10, 0: 2.663173008259036})\n",
      "crosscat.incorporate(1, observation={2264328864: 10, 0: 1.430557948796811})\n",
      "crosscat.incorporate(2, observation={2264328864: 10, 0: -3.0908005842225363})\n",
      "crosscat.incorporate(3, observation={2264328864: 10, 0: -0.016767699857044512})\n",
      "crosscat.incorporate(4, observation={2264328864: 10, 0: 1.242671947780961})\n",
      "crosscat.incorporate(5, observation={2264328864: 10, 0: -1.4401711214377937})\n",
      "crosscat.incorporate(6, observation={2264328864: 10, 0: 0.531023171384239})\n",
      "crosscat.incorporate(7, observation={2264328864: 10, 0: 0.21709705142993888})\n",
      "crosscat.incorporate(8, observation={2264328864: 10, 0: 0.008582861868066472})\n",
      "crosscat.incorporate(9, observation={2264328864: 10, 0: -0.34920042118588257})\n",
      "crosscat.incorporate(10, observation={2264328864: 10, 0: 0.866052379907196})\n",
      "crosscat.incorporate(11, observation={2264328864: 10, 0: 2.406074747624424})\n",
      "crosscat.incorporate(12, observation={2264328864: 10, 0: -1.9301313410335266})\n",
      "crosscat.incorporate(13, observation={2264328864: 10, 0: 2.056548155965408})\n",
      "crosscat.incorporate(14, observation={2264328864: 10, 0: 0.4572602602493194})\n",
      "crosscat.incorporate(15, observation={2264328864: 10, 0: 0.8902752256606957})\n",
      "crosscat.incorporate(16, observation={2264328864: 10, 0: -2.2732044236620883})\n",
      "crosscat.incorporate(17, observation={2264328864: 10, 0: 0.270273756897271})\n",
      "crosscat.incorporate(18, observation={2264328864: 10, 0: 2.9690740036731644})\n",
      "crosscat.incorporate(19, observation={2264328864: 10, 0: -2.159609771570552})\n",
      "crosscat.incorporate(20, observation={2264328864: 9, 0: 28.022271719342093})\n",
      "crosscat.incorporate(21, observation={2264328864: 9, 0: 28.256627704101092})\n",
      "crosscat.incorporate(22, observation={2264328864: 9, 0: 30.266070164000553})\n",
      "crosscat.incorporate(23, observation={2264328864: 9, 0: 32.3849673307111})\n",
      "crosscat.incorporate(24, observation={2264328864: 9, 0: 31.123691253409422})\n",
      "crosscat.incorporate(25, observation={2264328864: 9, 0: 31.67262221330783})\n",
      "crosscat.incorporate(26, observation={2264328864: 9, 0: 30.099149215835244})\n",
      "crosscat.incorporate(27, observation={2264328864: 9, 0: 31.397996377093577})\n",
      "crosscat.incorporate(28, observation={2264328864: 9, 0: 29.72875201203422})\n",
      "crosscat.incorporate(29, observation={2264328864: 9, 0: 30.61320418485964})\n",
      "crosscat.incorporate(30, observation={2264328864: 9, 0: 29.73268281132643})\n",
      "crosscat.incorporate(31, observation={2264328864: 9, 0: 29.45069098589452})\n",
      "crosscat.incorporate(32, observation={2264328864: 9, 0: 30.13270829575995})\n",
      "crosscat.incorporate(33, observation={2264328864: 9, 0: 29.523857985072663})\n",
      "crosscat.incorporate(34, observation={2264328864: 9, 0: 31.30847308086348})\n",
      "crosscat.incorporate(35, observation={2264328864: 9, 0: 30.19501327923309})\n",
      "crosscat.incorporate(36, observation={2264328864: 9, 0: 30.40020998825235})\n",
      "crosscat.incorporate(37, observation={2264328864: 9, 0: 29.66236766291447})\n",
      "crosscat.incorporate(38, observation={2264328864: 9, 0: 31.256472263755157})\n",
      "crosscat.incorporate(39, observation={2264328864: 9, 0: 29.268030497998794})\n",
      "crosscat.incorporate(40, observation={2264328864: 8, 0: -29.339768448773686})\n",
      "crosscat.incorporate(41, observation={2264328864: 8, 0: -30.350871891439873})\n",
      "crosscat.incorporate(42, observation={2264328864: 8, 0: -30.93943335976255})\n",
      "crosscat.incorporate(43, observation={2264328864: 8, 0: -30.489337216884653})\n",
      "crosscat.incorporate(44, observation={2264328864: 8, 0: -30.804591142269956})\n",
      "crosscat.incorporate(45, observation={2264328864: 8, 0: -30.212697638710512})\n",
      "crosscat.incorporate(46, observation={2264328864: 8, 0: -30.339140246063433})\n",
      "crosscat.incorporate(47, observation={2264328864: 8, 0: -29.68783006368678})\n",
      "crosscat.incorporate(48, observation={2264328864: 8, 0: -29.434847330343374})\n",
      "crosscat.incorporate(49, observation={2264328864: 8, 0: -30.14742025772702})\n",
      "crosscat.incorporate(50, observation={2264328864: 8, 0: -30.025905336816187})\n",
      "crosscat.incorporate(51, observation={2264328864: 8, 0: -29.710905796196066})\n",
      "crosscat.incorporate(52, observation={2264328864: 8, 0: -30.539879071332702})\n",
      "crosscat.incorporate(53, observation={2264328864: 8, 0: -29.291839980073398})\n",
      "crosscat.incorporate(54, observation={2264328864: 8, 0: -29.157775261617346})\n",
      "crosscat.incorporate(55, observation={2264328864: 8, 0: -29.79641920267252})\n",
      "crosscat.incorporate(56, observation={2264328864: 8, 0: -27.605296335115465})\n",
      "crosscat.incorporate(57, observation={2264328864: 8, 0: -29.08254106248957})\n",
      "crosscat.incorporate(58, observation={2264328864: 8, 0: -30.11227247119416})\n",
      "crosscat.incorporate(59, observation={2264328864: 8, 0: -30.36218044714224})\n",
      "\n",
      "\n"
     ]
    }
   ],
   "source": [
    "print render_trace_in_embedded_dsl(inference.crosscat).getvalue()"
   ]
  },
  {
   "cell_type": "markdown",
   "metadata": {},
   "source": [
    "### Basic bivariate 2 component mixture with DPMM "
   ]
  },
  {
   "cell_type": "code",
   "execution_count": 17,
   "metadata": {},
   "outputs": [],
   "source": [
    "view = FlexibleRowMixture(\n",
    "    cgpm_row_divide=CRP([-1], [], rng=prng),\n",
    "    cgpm_components_base=Product([\n",
    "        Normal([0], [], rng=prng),\n",
    "        Normal([1], [], rng=prng),\n",
    "    ]),\n",
    "    rng=prng)\n",
    "crosscat = Product(cgpms=[view])"
   ]
  },
  {
   "cell_type": "code",
   "execution_count": 18,
   "metadata": {},
   "outputs": [],
   "source": [
    "df = pd.read_csv('resources/two_clusters.csv', index_col=False)"
   ]
  },
  {
   "cell_type": "code",
   "execution_count": 19,
   "metadata": {},
   "outputs": [],
   "source": [
    "df.loc[0,'x'] = df.loc[50,'y'] = np.nan\n",
    "df.loc[10,'x'] = df.loc[30,'y'] = np.nan\n",
    "df.loc[33,'x'] = df.loc[33,'y'] = np.nan"
   ]
  },
  {
   "cell_type": "code",
   "execution_count": 20,
   "metadata": {},
   "outputs": [
    {
     "data": {
      "text/plain": [
       "<matplotlib.collections.PathCollection at 0x7f39b8362890>"
      ]
     },
     "execution_count": 20,
     "metadata": {},
     "output_type": "execute_result"
    },
    {
     "data": {
      "image/png": "[encoded data removed]",
      "text/plain": [
       "<matplotlib.figure.Figure at 0x7f39befd51d0>"
      ]
     },
     "metadata": {},
     "output_type": "display_data"
    }
   ],
   "source": [
    "fig, ax = plt.subplots()\n",
    "ax.scatter(df.x, df.y)"
   ]
  },
  {
   "cell_type": "code",
   "execution_count": 21,
   "metadata": {},
   "outputs": [],
   "source": [
    "for rowid, row in df.iterrows():\n",
    "    crosscat.incorporate(rowid, {0: row.x, 1: row.y})"
   ]
  },
  {
   "cell_type": "code",
   "execution_count": 22,
   "metadata": {},
   "outputs": [
    {
     "name": "stdout",
     "output_type": "stream",
     "text": [
      "Completed: 1000 iterations in 6.390220 seconds.\n"
     ]
    }
   ],
   "source": [
    "inference = GibbsCrossCat(crosscat, prng)\n",
    "inference.transition_row_assignments_cpp(N=1000)"
   ]
  },
  {
   "cell_type": "code",
   "execution_count": 23,
   "metadata": {},
   "outputs": [
    {
     "data": {
      "image/png": "[encoded data removed]",
      "text/plain": [
       "<matplotlib.figure.Figure at 0x7f39bb0c9110>"
      ]
     },
     "metadata": {},
     "output_type": "display_data"
    }
   ],
   "source": [
    "assignments = inference.crosscat.cgpms[0].cgpm_row_divide.data\n",
    "counts = inference.crosscat.cgpms[0].cgpm_row_divide.counts\n",
    "fig, ax = plt.subplots()\n",
    "for cluster,color in zip(counts, ['r','k','g','y','b']):\n",
    "    rowids = [rowid for rowid, z in assignments.iteritems() if z == cluster]\n",
    "    ax.scatter(df.loc[rowids].x, df.loc[rowids].y, color=color)"
   ]
  },
  {
   "cell_type": "code",
   "execution_count": 24,
   "metadata": {},
   "outputs": [
    {
     "data": {
      "image/png": "[encoded data removed]",
      "text/plain": [
       "<matplotlib.figure.Figure at 0x7f39b8288210>"
      ]
     },
     "metadata": {},
     "output_type": "display_data"
    }
   ],
   "source": [
    "crp_output = inference.crosscat.cgpms[0].cgpm_row_divide.outputs[0]\n",
    "samples = inference.crosscat.simulate(None, [crp_output,0, 1], N=100)\n",
    "fig, ax = plt.subplots()\n",
    "zs = set([s[crp_output] for s in samples])\n",
    "for z, c in zip(zs, ['r','k','b','g']):\n",
    "    xs = [s[0] for s in samples if s[crp_output] == z]\n",
    "    ys = [s[1] for s in samples if s[crp_output] == z]\n",
    "    ax.scatter(xs,ys, color=c)"
   ]
  },
  {
   "cell_type": "code",
   "execution_count": 25,
   "metadata": {},
   "outputs": [
    {
     "name": "stdout",
     "output_type": "stream",
     "text": [
      "Completed: 100 iterations in 1.745604 seconds.\n"
     ]
    }
   ],
   "source": [
    "inference.transition(N=100, kernels=['hypers_distributions','hypers_row_divide'])"
   ]
  },
  {
   "cell_type": "code",
   "execution_count": 26,
   "metadata": {},
   "outputs": [
    {
     "data": {
      "image/png": "[encoded data removed]",
      "text/plain": [
       "<matplotlib.figure.Figure at 0x7f39b81ab790>"
      ]
     },
     "metadata": {},
     "output_type": "display_data"
    }
   ],
   "source": [
    "crp_output = inference.crosscat.cgpms[0].cgpm_row_divide.outputs[0]\n",
    "samples = inference.crosscat.simulate(None, [crp_output,0, 1], N=100)\n",
    "fig, ax = plt.subplots()\n",
    "zs = set([s[crp_output] for s in samples])\n",
    "for z, c in zip(zs, ['r','k','b','g']):\n",
    "    xs = [s[0] for s in samples if s[crp_output] == z]\n",
    "    ys = [s[1] for s in samples if s[crp_output] == z]\n",
    "    ax.scatter(xs,ys, color=c)"
   ]
  },
  {
   "cell_type": "markdown",
   "metadata": {},
   "source": [
    "### Basic bivariate 2 component mixture with CrossCat and category inference"
   ]
  },
  {
   "cell_type": "code",
   "execution_count": 27,
   "metadata": {},
   "outputs": [],
   "source": [
    "crosscat = Product([\n",
    "    FlexibleRowMixture(\n",
    "        cgpm_row_divide=CRP([-1], [], rng=prng),\n",
    "        cgpm_components_base=Product([\n",
    "            Normal([10], [], rng=prng),\n",
    "        ]),\n",
    "        rng=prng),\n",
    "    FlexibleRowMixture(\n",
    "        cgpm_row_divide=CRP([-2], [], rng=prng),\n",
    "        cgpm_components_base=Product([\n",
    "            Normal([11], [], rng=prng),\n",
    "        ]),\n",
    "        rng=prng),\n",
    "])"
   ]
  },
  {
   "cell_type": "code",
   "execution_count": 28,
   "metadata": {},
   "outputs": [],
   "source": [
    "for rowid, row in df.iterrows():\n",
    "    crosscat.incorporate(rowid, {10: row.x, 11: row.y})"
   ]
  },
  {
   "cell_type": "code",
   "execution_count": 29,
   "metadata": {},
   "outputs": [
    {
     "name": "stdout",
     "output_type": "stream",
     "text": [
      "Completed: 2000 iterations in 16.593759 seconds.\n"
     ]
    }
   ],
   "source": [
    "inference = GibbsCrossCat(crosscat, prng)\n",
    "inference.transition_structure_cpp(N=2000)"
   ]
  },
  {
   "cell_type": "code",
   "execution_count": 30,
   "metadata": {},
   "outputs": [
    {
     "name": "stdout",
     "output_type": "stream",
     "text": [
      "Completed: 300 iterations in 5.905872 seconds.\n"
     ]
    }
   ],
   "source": [
    "inference.transition(N=300, kernels=['hypers_distributions','hypers_row_divide'])"
   ]
  },
  {
   "cell_type": "code",
   "execution_count": 31,
   "metadata": {},
   "outputs": [
    {
     "data": {
      "image/png": "[encoded data removed]",
      "text/plain": [
       "<matplotlib.figure.Figure at 0x7f39b82036d0>"
      ]
     },
     "metadata": {},
     "output_type": "display_data"
    }
   ],
   "source": [
    "crp_output = inference.crosscat.cgpms[0].cgpm_row_divide.outputs[0]\n",
    "samples = inference.crosscat.simulate(None, [crp_output,10,11], N=100)\n",
    "fig, ax = plt.subplots()\n",
    "zs = set([s[crp_output] for s in samples])\n",
    "for z, c in zip(zs, ['r','k','b','g']):\n",
    "    xs = [s[10] for s in samples if s[crp_output] == z]\n",
    "    ys = [s[11] for s in samples if s[crp_output] == z]\n",
    "    ax.scatter(xs,ys, color=c)"
   ]
  },
  {
   "cell_type": "code",
   "execution_count": 32,
   "metadata": {
    "scrolled": true
   },
   "outputs": [
    {
     "data": {
      "image/png": "[encoded data removed]",
      "text/plain": [
       "<matplotlib.figure.Figure at 0x7f39b810a790>"
      ]
     },
     "metadata": {},
     "output_type": "display_data"
    }
   ],
   "source": [
    "fig, ax = plt.subplots()\n",
    "ax.hist(df['x'].dropna(), bins=20, normed=True, alpha=0.3, color='r');\n",
    "ax.hist([s[10] for s in samples], bins=20, normed=True, alpha=0.3, color='g');"
   ]
  },
  {
   "cell_type": "code",
   "execution_count": 33,
   "metadata": {},
   "outputs": [
    {
     "data": {
      "image/png": "[encoded data removed]",
      "text/plain": [
       "<matplotlib.figure.Figure at 0x7f39b7ff34d0>"
      ]
     },
     "metadata": {},
     "output_type": "display_data"
    }
   ],
   "source": [
    "fig, ax = plt.subplots()\n",
    "ax.hist(df['y'].dropna(), bins=20, normed=True, alpha=0.3, color='r');\n",
    "ax.hist([s[11] for s in samples], bins=20, normed=True, alpha=0.3, color='g');"
   ]
  },
  {
   "cell_type": "markdown",
   "metadata": {},
   "source": [
    "### Basic bivariate 2 component mixture with CrossCat and category inference and nominal variable"
   ]
  },
  {
   "cell_type": "code",
   "execution_count": 34,
   "metadata": {},
   "outputs": [],
   "source": [
    "df['z'] = 0\n",
    "df.loc[:15,'z'] = 0\n",
    "df.loc[15:30,'z'] = 1\n",
    "df.loc[30:45,'z'] = 2\n",
    "df.loc[45:60,'z'] = 3"
   ]
  },
  {
   "cell_type": "code",
   "execution_count": 35,
   "metadata": {},
   "outputs": [],
   "source": [
    "crosscat = Product([\n",
    "    FlexibleRowMixture(\n",
    "        cgpm_row_divide=CRP([-1], [], rng=prng),\n",
    "        cgpm_components_base=Product([\n",
    "            Normal([10], [], rng=prng),\n",
    "        ]),\n",
    "        rng=prng),\n",
    "    FlexibleRowMixture(\n",
    "        cgpm_row_divide=CRP([-2], [], rng=prng),\n",
    "        cgpm_components_base=Product([\n",
    "            Normal([11], [], rng=prng),\n",
    "            Categorical([50], [], distargs={'k':4}, rng=prng),\n",
    "        ]),\n",
    "        rng=prng),\n",
    "])"
   ]
  },
  {
   "cell_type": "code",
   "execution_count": 36,
   "metadata": {},
   "outputs": [],
   "source": [
    "for rowid, row in df.iterrows():\n",
    "    crosscat.incorporate(rowid, {10: row.x, 11: row.y, 50:row.z})"
   ]
  },
  {
   "cell_type": "code",
   "execution_count": 37,
   "metadata": {},
   "outputs": [
    {
     "name": "stdout",
     "output_type": "stream",
     "text": [
      "Completed: 2000 iterations in 17.791875 seconds.\n"
     ]
    }
   ],
   "source": [
    "inference = GibbsCrossCat(crosscat, prng)\n",
    "inference.transition_structure_cpp(N=2000)"
   ]
  },
  {
   "cell_type": "code",
   "execution_count": 38,
   "metadata": {},
   "outputs": [
    {
     "data": {
      "image/png": "[encoded data removed]",
      "text/plain": [
       "<matplotlib.figure.Figure at 0x7f39b8193650>"
      ]
     },
     "metadata": {},
     "output_type": "display_data"
    }
   ],
   "source": [
    "crp_output = inference.crosscat.cgpms[0].cgpm_row_divide.outputs[0]\n",
    "samples = inference.crosscat.simulate(None, [crp_output,10,11], N=100)\n",
    "fig, ax = plt.subplots()\n",
    "zs = set([s[crp_output] for s in samples])\n",
    "for z, c in zip(zs, ['r','k','b','g']):\n",
    "    xs = [s[10] for s in samples if s[crp_output] == z]\n",
    "    ys = [s[11] for s in samples if s[crp_output] == z]\n",
    "    ax.scatter(xs,ys, color=c)"
   ]
  },
  {
   "cell_type": "code",
   "execution_count": 39,
   "metadata": {},
   "outputs": [
    {
     "name": "stderr",
     "output_type": "stream",
     "text": [
      "/usr/lib/python2.7/dist-packages/matplotlib/figure.py:1744: UserWarning: This figure includes Axes that are not compatible with tight_layout, so its results might be incorrect.\n",
      "  warnings.warn(\"This figure includes Axes that are not \"\n"
     ]
    },
    {
     "data": {
      "image/png": "[encoded data removed]",
      "text/plain": [
       "<matplotlib.figure.Figure at 0x7f39b8193d50>"
      ]
     },
     "metadata": {},
     "output_type": "display_data"
    }
   ],
   "source": [
    "fig, axes = plt.subplots(nrows=4)\n",
    "for ax, z, c in zip(axes, [0,1,2,3], ['r','k','b','g']):\n",
    "    samples = inference.crosscat.simulate(None, [10,11], {50:z}, N=100)\n",
    "    xs = [s[10] for s in samples]\n",
    "    ys = [s[11] for s in samples]\n",
    "    ax.scatter(xs,ys, color=c)\n",
    "fig.set_size_inches(4,10)\n",
    "fig.set_tight_layout(True)"
   ]
  }
 ],
 "metadata": {
  "kernelspec": {
   "display_name": "Python 2",
   "language": "python",
   "name": "python2"
  },
  "language_info": {
   "codemirror_mode": {
    "name": "ipython",
    "version": 2
   },
   "file_extension": ".py",
   "mimetype": "text/x-python",
   "name": "python",
   "nbconvert_exporter": "python",
   "pygments_lexer": "ipython2",
   "version": "2.7.12"
  }
 },
 "nbformat": 4,
 "nbformat_minor": 2
}
