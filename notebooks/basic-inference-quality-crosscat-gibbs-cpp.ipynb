{
 "cells": [
  {
   "cell_type": "code",
   "execution_count": 1,
   "metadata": {},
   "outputs": [],
   "source": [
    "%matplotlib inline\n",
    "import matplotlib.pyplot as plt"
   ]
  },
  {
   "cell_type": "code",
   "execution_count": 2,
   "metadata": {},
   "outputs": [],
   "source": [
    "import numpy as np\n",
    "import pandas as pd"
   ]
  },
  {
   "cell_type": "code",
   "execution_count": 3,
   "metadata": {},
   "outputs": [],
   "source": [
    "prng = np.random.RandomState(10)"
   ]
  },
  {
   "cell_type": "code",
   "execution_count": 4,
   "metadata": {},
   "outputs": [],
   "source": [
    "from cgpm2.transition_crosscat import GibbsCrossCat"
   ]
  },
  {
   "cell_type": "code",
   "execution_count": 5,
   "metadata": {},
   "outputs": [],
   "source": [
    "from cgpm2.flexible_rowmix import FlexibleRowMixture\n",
    "from cgpm2.product import Product\n",
    "from cgpm2.crp import CRP\n",
    "from cgpm2.normal import Normal\n",
    "from cgpm2.categorical import Categorical"
   ]
  },
  {
   "cell_type": "markdown",
   "metadata": {},
   "source": [
    "### Basic univariate 3 component mixture "
   ]
  },
  {
   "cell_type": "code",
   "execution_count": 6,
   "metadata": {},
   "outputs": [],
   "source": [
    "data0 = prng.normal(loc=0, scale=2, size=20)\n",
    "data1 = prng.normal(loc=30, scale=1, size=20)\n",
    "data2 = prng.normal(loc=-30, scale=1, size=20)"
   ]
  },
  {
   "cell_type": "code",
   "execution_count": 7,
   "metadata": {},
   "outputs": [],
   "source": [
    "data = np.concatenate((data0, data1, data2))"
   ]
  },
  {
   "cell_type": "code",
   "execution_count": 8,
   "metadata": {},
   "outputs": [],
   "source": [
    "view = FlexibleRowMixture(\n",
    "    cgpm_row_divide=CRP([-1], [], rng=prng),\n",
    "    cgpm_components_base=Product(cgpms=[Normal([0], [], rng=prng)]),\n",
    "    rng=prng)\n",
    "crosscat = Product(cgpms=[view])"
   ]
  },
  {
   "cell_type": "code",
   "execution_count": 9,
   "metadata": {},
   "outputs": [],
   "source": [
    "for rowid, value in enumerate(data):\n",
    "    crosscat.incorporate(rowid, {0: value})"
   ]
  },
  {
   "cell_type": "code",
   "execution_count": 10,
   "metadata": {},
   "outputs": [
    {
     "name": "stdout",
     "output_type": "stream",
     "text": [
      "Completed: 1000 iterations in 7.141326 seconds.\n"
     ]
    }
   ],
   "source": [
    "inference = GibbsCrossCat(crosscat, prng)\n",
    "inference.transition_structure_cpp(N=1000)"
   ]
  },
  {
   "cell_type": "code",
   "execution_count": 11,
   "metadata": {},
   "outputs": [
    {
     "data": {
      "image/png": "[encoded data removed]",
      "text/plain": [
       "<matplotlib.figure.Figure at 0x7f6f49055890>"
      ]
     },
     "metadata": {},
     "output_type": "display_data"
    }
   ],
   "source": [
    "assignments = inference.crosscat.cgpms[0].cgpm_row_divide.data\n",
    "counts = inference.crosscat.cgpms[0].cgpm_row_divide.counts\n",
    "fig, ax = plt.subplots()\n",
    "for cluster in counts:\n",
    "    rowids = [rowid for rowid, z in assignments.iteritems() if z == cluster]\n",
    "    ax.hist(data[rowids])"
   ]
  },
  {
   "cell_type": "code",
   "execution_count": 12,
   "metadata": {},
   "outputs": [
    {
     "data": {
      "image/png": "[encoded data removed]",
      "text/plain": [
       "<matplotlib.figure.Figure at 0x7f6f46f77fd0>"
      ]
     },
     "metadata": {},
     "output_type": "display_data"
    }
   ],
   "source": [
    "crp_output = inference.crosscat.cgpms[0].cgpm_row_divide.outputs[0]\n",
    "samples = inference.crosscat.simulate(None, [crp_output,0], N=100)\n",
    "fig, ax = plt.subplots()\n",
    "zs = set([s[crp_output] for s in samples])\n",
    "for z in zs:\n",
    "    xs = [s[0] for s in samples if s[crp_output] == z]\n",
    "    ax.hist(xs)"
   ]
  },
  {
   "cell_type": "code",
   "execution_count": 13,
   "metadata": {
    "scrolled": false
   },
   "outputs": [
    {
     "name": "stdout",
     "output_type": "stream",
     "text": [
      "Completed: 100 iterations in 1.554741 seconds.\n"
     ]
    }
   ],
   "source": [
    "inference.transition(N=100, kernels=['hypers_distributions','hypers_row_divide'])"
   ]
  },
  {
   "cell_type": "code",
   "execution_count": 14,
   "metadata": {},
   "outputs": [
    {
     "data": {
      "image/png": "[encoded data removed]",
      "text/plain": [
       "<matplotlib.figure.Figure at 0x7f6f46ef0390>"
      ]
     },
     "metadata": {},
     "output_type": "display_data"
    }
   ],
   "source": [
    "crp_output = inference.crosscat.cgpms[0].cgpm_row_divide.outputs[0]\n",
    "samples = inference.crosscat.simulate(None, [crp_output,0], N=100)\n",
    "fig, ax = plt.subplots()\n",
    "zs = set([s[crp_output] for s in samples])\n",
    "for z in zs:\n",
    "    xs = [s[0] for s in samples if s[crp_output] == z]\n",
    "    ax.hist(xs)"
   ]
  },
  {
   "cell_type": "markdown",
   "metadata": {},
   "source": [
    "### Basic bivariate 2 component mixture with DPMM "
   ]
  },
  {
   "cell_type": "code",
   "execution_count": 15,
   "metadata": {},
   "outputs": [],
   "source": [
    "view = FlexibleRowMixture(\n",
    "    cgpm_row_divide=CRP([-1], [], rng=prng),\n",
    "    cgpm_components_base=Product([\n",
    "        Normal([0], [], rng=prng),\n",
    "        Normal([1], [], rng=prng),\n",
    "    ]),\n",
    "    rng=prng)\n",
    "crosscat = Product(cgpms=[view])"
   ]
  },
  {
   "cell_type": "code",
   "execution_count": 16,
   "metadata": {},
   "outputs": [],
   "source": [
    "df = pd.read_csv('resources/two_clusters.csv', index_col=False)"
   ]
  },
  {
   "cell_type": "code",
   "execution_count": 17,
   "metadata": {},
   "outputs": [],
   "source": [
    "df.loc[0,'x'] = df.loc[50,'y'] = np.nan\n",
    "df.loc[10,'x'] = df.loc[30,'y'] = np.nan\n",
    "df.loc[33,'x'] = df.loc[33,'y'] = np.nan"
   ]
  },
  {
   "cell_type": "code",
   "execution_count": 18,
   "metadata": {},
   "outputs": [
    {
     "data": {
      "text/plain": [
       "<matplotlib.collections.PathCollection at 0x7f6f46bb8fd0>"
      ]
     },
     "execution_count": 18,
     "metadata": {},
     "output_type": "execute_result"
    },
    {
     "data": {
      "image/png": "[encoded data removed]",
      "text/plain": [
       "<matplotlib.figure.Figure at 0x7f6f46f8f310>"
      ]
     },
     "metadata": {},
     "output_type": "display_data"
    }
   ],
   "source": [
    "fig, ax = plt.subplots()\n",
    "ax.scatter(df.x, df.y)"
   ]
  },
  {
   "cell_type": "code",
   "execution_count": 19,
   "metadata": {},
   "outputs": [],
   "source": [
    "for rowid, row in df.iterrows():\n",
    "    crosscat.incorporate(rowid, {0: row.x, 1: row.y})"
   ]
  },
  {
   "cell_type": "code",
   "execution_count": 20,
   "metadata": {},
   "outputs": [
    {
     "name": "stdout",
     "output_type": "stream",
     "text": [
      "Completed: 1000 iterations in 6.321995 seconds.\n"
     ]
    }
   ],
   "source": [
    "inference = GibbsCrossCat(crosscat, prng)\n",
    "inference.transition_row_assignments_cpp(N=1000)"
   ]
  },
  {
   "cell_type": "code",
   "execution_count": 21,
   "metadata": {},
   "outputs": [
    {
     "data": {
      "image/png": "[encoded data removed]",
      "text/plain": [
       "<matplotlib.figure.Figure at 0x7f6f494f54d0>"
      ]
     },
     "metadata": {},
     "output_type": "display_data"
    }
   ],
   "source": [
    "assignments = inference.crosscat.cgpms[0].cgpm_row_divide.data\n",
    "counts = inference.crosscat.cgpms[0].cgpm_row_divide.counts\n",
    "fig, ax = plt.subplots()\n",
    "for cluster,color in zip(counts, ['r','k','g','y','b']):\n",
    "    rowids = [rowid for rowid, z in assignments.iteritems() if z == cluster]\n",
    "    ax.scatter(df.loc[rowids].x, df.loc[rowids].y, color=color)"
   ]
  },
  {
   "cell_type": "code",
   "execution_count": 22,
   "metadata": {},
   "outputs": [
    {
     "data": {
      "image/png": "[encoded data removed]",
      "text/plain": [
       "<matplotlib.figure.Figure at 0x7f6f46b19fd0>"
      ]
     },
     "metadata": {},
     "output_type": "display_data"
    }
   ],
   "source": [
    "crp_output = inference.crosscat.cgpms[0].cgpm_row_divide.outputs[0]\n",
    "samples = inference.crosscat.simulate(None, [crp_output,0, 1], N=100)\n",
    "fig, ax = plt.subplots()\n",
    "zs = set([s[crp_output] for s in samples])\n",
    "for z, c in zip(zs, ['r','k','b','g']):\n",
    "    xs = [s[0] for s in samples if s[crp_output] == z]\n",
    "    ys = [s[1] for s in samples if s[crp_output] == z]\n",
    "    ax.scatter(xs,ys, color=c)"
   ]
  },
  {
   "cell_type": "code",
   "execution_count": 23,
   "metadata": {},
   "outputs": [
    {
     "name": "stdout",
     "output_type": "stream",
     "text": [
      "Completed: 100 iterations in 1.763184 seconds.\n"
     ]
    }
   ],
   "source": [
    "inference.transition(N=100, kernels=['hypers_distributions','hypers_row_divide'])"
   ]
  },
  {
   "cell_type": "code",
   "execution_count": 24,
   "metadata": {},
   "outputs": [
    {
     "data": {
      "image/png": "[encoded data removed]",
      "text/plain": [
       "<matplotlib.figure.Figure at 0x7f6f46d2d5d0>"
      ]
     },
     "metadata": {},
     "output_type": "display_data"
    }
   ],
   "source": [
    "crp_output = inference.crosscat.cgpms[0].cgpm_row_divide.outputs[0]\n",
    "samples = inference.crosscat.simulate(None, [crp_output,0, 1], N=100)\n",
    "fig, ax = plt.subplots()\n",
    "zs = set([s[crp_output] for s in samples])\n",
    "for z, c in zip(zs, ['r','k','b','g']):\n",
    "    xs = [s[0] for s in samples if s[crp_output] == z]\n",
    "    ys = [s[1] for s in samples if s[crp_output] == z]\n",
    "    ax.scatter(xs,ys, color=c)"
   ]
  },
  {
   "cell_type": "markdown",
   "metadata": {},
   "source": [
    "### Basic bivariate 2 component mixture with CrossCat and category inference"
   ]
  },
  {
   "cell_type": "code",
   "execution_count": 25,
   "metadata": {},
   "outputs": [],
   "source": [
    "crosscat = Product([\n",
    "    FlexibleRowMixture(\n",
    "        cgpm_row_divide=CRP([-1], [], rng=prng),\n",
    "        cgpm_components_base=Product([\n",
    "            Normal([10], [], rng=prng),\n",
    "        ]),\n",
    "        rng=prng),\n",
    "    FlexibleRowMixture(\n",
    "        cgpm_row_divide=CRP([-2], [], rng=prng),\n",
    "        cgpm_components_base=Product([\n",
    "            Normal([11], [], rng=prng),\n",
    "        ]),\n",
    "        rng=prng),\n",
    "])"
   ]
  },
  {
   "cell_type": "code",
   "execution_count": 26,
   "metadata": {},
   "outputs": [],
   "source": [
    "for rowid, row in df.iterrows():\n",
    "    crosscat.incorporate(rowid, {10: row.x, 11: row.y})"
   ]
  },
  {
   "cell_type": "code",
   "execution_count": 27,
   "metadata": {},
   "outputs": [
    {
     "name": "stdout",
     "output_type": "stream",
     "text": [
      "Completed: 2000 iterations in 16.530178 seconds.\n"
     ]
    }
   ],
   "source": [
    "inference = GibbsCrossCat(crosscat, prng)\n",
    "inference.transition_structure_cpp(N=2000)"
   ]
  },
  {
   "cell_type": "code",
   "execution_count": 28,
   "metadata": {},
   "outputs": [
    {
     "name": "stdout",
     "output_type": "stream",
     "text": [
      "Completed: 300 iterations in 4.800651 seconds.\n"
     ]
    }
   ],
   "source": [
    "inference.transition(N=300, kernels=['hypers_distributions','hypers_row_divide'])"
   ]
  },
  {
   "cell_type": "code",
   "execution_count": 29,
   "metadata": {},
   "outputs": [
    {
     "data": {
      "image/png": "[encoded data removed]",
      "text/plain": [
       "<matplotlib.figure.Figure at 0x7f6f46fa67d0>"
      ]
     },
     "metadata": {},
     "output_type": "display_data"
    }
   ],
   "source": [
    "crp_output = inference.crosscat.cgpms[0].cgpm_row_divide.outputs[0]\n",
    "samples = inference.crosscat.simulate(None, [crp_output,10,11], N=100)\n",
    "fig, ax = plt.subplots()\n",
    "zs = set([s[crp_output] for s in samples])\n",
    "for z, c in zip(zs, ['r','k','b','g']):\n",
    "    xs = [s[10] for s in samples if s[crp_output] == z]\n",
    "    ys = [s[11] for s in samples if s[crp_output] == z]\n",
    "    ax.scatter(xs,ys, color=c)"
   ]
  },
  {
   "cell_type": "code",
   "execution_count": 30,
   "metadata": {
    "scrolled": true
   },
   "outputs": [
    {
     "data": {
      "image/png": "[encoded data removed]",
      "text/plain": [
       "<matplotlib.figure.Figure at 0x7f6f494f5ed0>"
      ]
     },
     "metadata": {},
     "output_type": "display_data"
    }
   ],
   "source": [
    "fig, ax = plt.subplots()\n",
    "ax.hist(df['x'].dropna(), bins=20, normed=True, alpha=0.3, color='r');\n",
    "ax.hist([s[10] for s in samples], bins=20, normed=True, alpha=0.3, color='g');"
   ]
  },
  {
   "cell_type": "code",
   "execution_count": 31,
   "metadata": {},
   "outputs": [
    {
     "data": {
      "image/png": "[encoded data removed]",
      "text/plain": [
       "<matplotlib.figure.Figure at 0x7f6f467d9710>"
      ]
     },
     "metadata": {},
     "output_type": "display_data"
    }
   ],
   "source": [
    "fig, ax = plt.subplots()\n",
    "ax.hist(df['y'].dropna(), bins=20, normed=True, alpha=0.3, color='r');\n",
    "ax.hist([s[11] for s in samples], bins=20, normed=True, alpha=0.3, color='g');"
   ]
  },
  {
   "cell_type": "markdown",
   "metadata": {},
   "source": [
    "### Basic bivariate 2 component mixture with CrossCat and category inference and nominal variable"
   ]
  },
  {
   "cell_type": "code",
   "execution_count": 32,
   "metadata": {},
   "outputs": [],
   "source": [
    "df['z'] = 0\n",
    "df.loc[:15,'z'] = 0\n",
    "df.loc[15:30,'z'] = 1\n",
    "df.loc[30:45,'z'] = 2\n",
    "df.loc[45:60,'z'] = 3"
   ]
  },
  {
   "cell_type": "code",
   "execution_count": 33,
   "metadata": {},
   "outputs": [],
   "source": [
    "crosscat = Product([\n",
    "    FlexibleRowMixture(\n",
    "        cgpm_row_divide=CRP([-1], [], rng=prng),\n",
    "        cgpm_components_base=Product([\n",
    "            Normal([10], [], rng=prng),\n",
    "        ]),\n",
    "        rng=prng),\n",
    "    FlexibleRowMixture(\n",
    "        cgpm_row_divide=CRP([-2], [], rng=prng),\n",
    "        cgpm_components_base=Product([\n",
    "            Normal([11], [], rng=prng),\n",
    "            Categorical([50], [], distargs={'k':4}, rng=prng),\n",
    "        ]),\n",
    "        rng=prng),\n",
    "])"
   ]
  },
  {
   "cell_type": "code",
   "execution_count": 34,
   "metadata": {},
   "outputs": [],
   "source": [
    "for rowid, row in df.iterrows():\n",
    "    crosscat.incorporate(rowid, {10: row.x, 11: row.y, 50:row.z})"
   ]
  },
  {
   "cell_type": "code",
   "execution_count": 35,
   "metadata": {},
   "outputs": [
    {
     "name": "stdout",
     "output_type": "stream",
     "text": [
      "Completed: 2000 iterations in 17.973100 seconds.\n"
     ]
    }
   ],
   "source": [
    "inference = GibbsCrossCat(crosscat, prng)\n",
    "inference.transition_structure_cpp(N=2000)"
   ]
  },
  {
   "cell_type": "code",
   "execution_count": 36,
   "metadata": {},
   "outputs": [
    {
     "data": {
      "image/png": "[encoded data removed]",
      "text/plain": [
       "<matplotlib.figure.Figure at 0x7f6f4693f410>"
      ]
     },
     "metadata": {},
     "output_type": "display_data"
    }
   ],
   "source": [
    "crp_output = inference.crosscat.cgpms[0].cgpm_row_divide.outputs[0]\n",
    "samples = inference.crosscat.simulate(None, [crp_output,10,11], N=100)\n",
    "fig, ax = plt.subplots()\n",
    "zs = set([s[crp_output] for s in samples])\n",
    "for z, c in zip(zs, ['r','k','b','g']):\n",
    "    xs = [s[10] for s in samples if s[crp_output] == z]\n",
    "    ys = [s[11] for s in samples if s[crp_output] == z]\n",
    "    ax.scatter(xs,ys, color=c)"
   ]
  },
  {
   "cell_type": "code",
   "execution_count": 37,
   "metadata": {},
   "outputs": [
    {
     "name": "stderr",
     "output_type": "stream",
     "text": [
      "/usr/lib/python2.7/dist-packages/matplotlib/figure.py:1744: UserWarning: This figure includes Axes that are not compatible with tight_layout, so its results might be incorrect.\n",
      "  warnings.warn(\"This figure includes Axes that are not \"\n"
     ]
    },
    {
     "data": {
      "image/png": "[encoded data removed]",
      "text/plain": [
       "<matplotlib.figure.Figure at 0x7f6f46c56c90>"
      ]
     },
     "metadata": {},
     "output_type": "display_data"
    }
   ],
   "source": [
    "fig, axes = plt.subplots(nrows=4)\n",
    "for ax, z, c in zip(axes, [0,1,2,3], ['r','k','b','g']):\n",
    "    samples = inference.crosscat.simulate(None, [10,11], {50:z}, N=100)\n",
    "    xs = [s[10] for s in samples]\n",
    "    ys = [s[11] for s in samples]\n",
    "    ax.scatter(xs,ys, color=c)\n",
    "    ax.set_xlim([-5,10])\n",
    "    ax.set_ylim([-5,10])\n",
    "fig.set_size_inches(4,10)\n",
    "fig.set_tight_layout(True)"
   ]
  }
 ],
 "metadata": {
  "kernelspec": {
   "display_name": "Python 2",
   "language": "python",
   "name": "python2"
  },
  "language_info": {
   "codemirror_mode": {
    "name": "ipython",
    "version": 2
   },
   "file_extension": ".py",
   "mimetype": "text/x-python",
   "name": "python",
   "nbconvert_exporter": "python",
   "pygments_lexer": "ipython2",
   "version": "2.7.12"
  }
 },
 "nbformat": 4,
 "nbformat_minor": 2
}
