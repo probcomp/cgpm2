{
 "cells": [
  {
   "cell_type": "code",
   "execution_count": 1,
   "metadata": {},
   "outputs": [],
   "source": [
    "import numpy as np"
   ]
  },
  {
   "cell_type": "code",
   "execution_count": 2,
   "metadata": {},
   "outputs": [],
   "source": [
    "from cgpm2.sample_crosscat import generate_random_ast\n",
    "from cgpm2.sample_crosscat import compile_ast_to_core_dsl\n",
    "from cgpm2.sample_crosscat import compile_core_dsl_to_embedded_dsl\n",
    "from cgpm2.sample_crosscat import parse_core_dsl_to_ast"
   ]
  },
  {
   "cell_type": "code",
   "execution_count": 3,
   "metadata": {},
   "outputs": [],
   "source": [
    "prng = np.random.RandomState(10)"
   ]
  },
  {
   "cell_type": "code",
   "execution_count": 4,
   "metadata": {},
   "outputs": [],
   "source": [
    "distributions = [\n",
    "    ('normal', None),\n",
    "    ('normal', None),\n",
    "    ('poisson', None),\n",
    "    ('categorical', {'k':3}),\n",
    "    ('categorical', {'k':10}),\n",
    "]"
   ]
  },
  {
   "cell_type": "code",
   "execution_count": 5,
   "metadata": {},
   "outputs": [
    {
     "data": {
      "text/plain": [
       "[((100000, ('crp', None), {'alpha': 0.220725}),\n",
       "  [(0,\n",
       "    ('normal', None),\n",
       "    {'m': 0.092488, 'nu': 0.003956, 'r': 1.156326, 's': 3.066012})]),\n",
       " ((100001, ('crp', None), {'alpha': 1.42933}),\n",
       "  [(1,\n",
       "    ('normal', None),\n",
       "    {'m': 0.717834, 'nu': 1.279254, 'r': 1.674622, 's': 0.948107}),\n",
       "   (4, ('categorical', {'k': 10}), {'alpha': 0.782075})]),\n",
       " ((100002, ('crp', None), {'alpha': 0.185259}),\n",
       "  [(2, ('poisson', None), {'a': 0.345136, 'b': 2.498285}),\n",
       "   (3, ('categorical', {'k': 3}), {'alpha': 1.253779})])]"
      ]
     },
     "execution_count": 5,
     "metadata": {},
     "output_type": "execute_result"
    }
   ],
   "source": [
    "ast = generate_random_ast(distributions, prng)\n",
    "ast"
   ]
  },
  {
   "cell_type": "code",
   "execution_count": 6,
   "metadata": {},
   "outputs": [
    {
     "name": "stdout",
     "output_type": "stream",
     "text": [
      "- view:\n",
      "    row clustering model:\n",
      "      - crp{id:100000}:\n",
      "          distargs:\n",
      "          hypers:\n",
      "            alpha: 0.2207\n",
      "    distribution models:\n",
      "      - normal{id:0}:\n",
      "          distargs:\n",
      "          hypers:\n",
      "            s: 3.0660\n",
      "            r: 1.1563\n",
      "            m: 0.0925\n",
      "            nu: 0.0040\n",
      "- view:\n",
      "    row clustering model:\n",
      "      - crp{id:100001}:\n",
      "          distargs:\n",
      "          hypers:\n",
      "            alpha: 1.4293\n",
      "    distribution models:\n",
      "      - normal{id:1}:\n",
      "          distargs:\n",
      "          hypers:\n",
      "            s: 0.9481\n",
      "            r: 1.6746\n",
      "            m: 0.7178\n",
      "            nu: 1.2793\n",
      "      - categorical{id:4}:\n",
      "          distargs:\n",
      "            k: 10\n",
      "          hypers:\n",
      "            alpha: 0.7821\n",
      "- view:\n",
      "    row clustering model:\n",
      "      - crp{id:100002}:\n",
      "          distargs:\n",
      "          hypers:\n",
      "            alpha: 0.1853\n",
      "    distribution models:\n",
      "      - poisson{id:2}:\n",
      "          distargs:\n",
      "          hypers:\n",
      "            a: 0.3451\n",
      "            b: 2.4983\n",
      "      - categorical{id:3}:\n",
      "          distargs:\n",
      "            k: 3\n",
      "          hypers:\n",
      "            alpha: 1.2538\n",
      "\n"
     ]
    }
   ],
   "source": [
    "core_dsl = compile_ast_to_core_dsl(ast)\n",
    "print core_dsl.getvalue()"
   ]
  },
  {
   "cell_type": "code",
   "execution_count": 7,
   "metadata": {},
   "outputs": [
    {
     "name": "stdout",
     "output_type": "stream",
     "text": [
      "from cgpm2.categorical import Categorical\n",
      "from cgpm2.crp import CRP\n",
      "from cgpm2.flexible_rowmix import FlexibleRowMixture\n",
      "from cgpm2.normal import Normal\n",
      "from cgpm2.poisson import Poisson\n",
      "from cgpm2.product import Product\n",
      "\n",
      "nan = float('nan')\n",
      "\n",
      "view0 = FlexibleRowMixture(\n",
      "  cgpm_row_divide=CRP(outputs=[100000], inputs=[], hypers={'alpha': 0.2207},),\n",
      "  cgpm_components_base=Product(cgpms=[\n",
      "    Normal(outputs=[0], inputs=[], hypers={'s': 3.066, 'r': 1.1563, 'm': 0.0925, 'nu': 0.004},),])\n",
      ")\n",
      "view1 = FlexibleRowMixture(\n",
      "  cgpm_row_divide=CRP(outputs=[100001], inputs=[], hypers={'alpha': 1.4293},),\n",
      "  cgpm_components_base=Product(cgpms=[\n",
      "    Normal(outputs=[1], inputs=[], hypers={'s': 0.9481, 'r': 1.6746, 'm': 0.7178, 'nu': 1.2793},),\n",
      "    Categorical(outputs=[4], inputs=[], distargs={'k': 10}, hypers={'alpha': 0.7821},),])\n",
      ")\n",
      "view2 = FlexibleRowMixture(\n",
      "  cgpm_row_divide=CRP(outputs=[100002], inputs=[], hypers={'alpha': 0.1853},),\n",
      "  cgpm_components_base=Product(cgpms=[\n",
      "    Poisson(outputs=[2], inputs=[], hypers={'a': 0.3451, 'b': 2.4983},),\n",
      "    Categorical(outputs=[3], inputs=[], distargs={'k': 3}, hypers={'alpha': 1.2538},),])\n",
      ")\n",
      "crosscat = Product(cgpms=[view0, view1, view2])\n"
     ]
    }
   ],
   "source": [
    "embedded_dsl = compile_core_dsl_to_embedded_dsl(core_dsl.getvalue())\n",
    "print embedded_dsl.getvalue()"
   ]
  },
  {
   "cell_type": "code",
   "execution_count": 8,
   "metadata": {},
   "outputs": [],
   "source": [
    "exec(embedded_dsl.getvalue())"
   ]
  },
  {
   "cell_type": "code",
   "execution_count": 9,
   "metadata": {},
   "outputs": [
    {
     "data": {
      "text/plain": [
       "<cgpm2.product.Product at 0x7fd5f90e2290>"
      ]
     },
     "execution_count": 9,
     "metadata": {},
     "output_type": "execute_result"
    }
   ],
   "source": [
    "crosscat"
   ]
  },
  {
   "cell_type": "code",
   "execution_count": 10,
   "metadata": {},
   "outputs": [],
   "source": [
    "crosscat.observe(1, {0:0.4, 1:2.5, 2:1, 3:2, 4:8})"
   ]
  },
  {
   "cell_type": "code",
   "execution_count": 11,
   "metadata": {
    "scrolled": true
   },
   "outputs": [
    {
     "data": {
      "text/plain": [
       "['Product',\n",
       " ['cgpms=',\n",
       "  [['FlexibleRowMixture',\n",
       "    ['cgpm_row_divide=',\n",
       "     ['Crp',\n",
       "      ['outputs=', [100000]],\n",
       "      ['inputs=', []],\n",
       "      ['distargs=', {}],\n",
       "      ['params=', {}],\n",
       "      ['hypers=', {'alpha': 0.2207}],\n",
       "      ['suffstats=', {'N': 1, 'counts': [1]}]]],\n",
       "    ['cgpm_components=',\n",
       "     ['FlexibleArray',\n",
       "      ['outputs=', [0]],\n",
       "      ['inputs=', [100000]],\n",
       "      ['cgpms=',\n",
       "       [(0,\n",
       "         ['Product',\n",
       "          ['cgpms=',\n",
       "           [['Normal',\n",
       "             ['outputs=', [0]],\n",
       "             ['inputs=', []],\n",
       "             ['distargs=', {}],\n",
       "             ['params=', {}],\n",
       "             ['hypers=', {'m': 0.0925, 'nu': 0.004, 'r': 1.1563, 's': 3.066}],\n",
       "             ['suffstats=',\n",
       "              {'N': 1.0,\n",
       "               'sum_x': 0.4,\n",
       "               'sum_x_sq': 0.16000000000000003}]]]]])]]]]],\n",
       "   ['FlexibleRowMixture',\n",
       "    ['cgpm_row_divide=',\n",
       "     ['Crp',\n",
       "      ['outputs=', [100001]],\n",
       "      ['inputs=', []],\n",
       "      ['distargs=', {}],\n",
       "      ['params=', {}],\n",
       "      ['hypers=', {'alpha': 1.4293}],\n",
       "      ['suffstats=', {'N': 1, 'counts': [1]}]]],\n",
       "    ['cgpm_components=',\n",
       "     ['FlexibleArray',\n",
       "      ['outputs=', [1, 4]],\n",
       "      ['inputs=', [100001]],\n",
       "      ['cgpms=',\n",
       "       [(0,\n",
       "         ['Product',\n",
       "          ['cgpms=',\n",
       "           [['Normal',\n",
       "             ['outputs=', [1]],\n",
       "             ['inputs=', []],\n",
       "             ['distargs=', {}],\n",
       "             ['params=', {}],\n",
       "             ['hypers=',\n",
       "              {'m': 0.7178, 'nu': 1.2793, 'r': 1.6746, 's': 0.9481}],\n",
       "             ['suffstats=', {'N': 1.0, 'sum_x': 2.5, 'sum_x_sq': 6.25}]],\n",
       "            ['Categorical',\n",
       "             ['outputs=', [4]],\n",
       "             ['inputs=', []],\n",
       "             ['distargs=', {'k': 10}],\n",
       "             ['params=', {}],\n",
       "             ['hypers=', {'alpha': 0.7821}],\n",
       "             ['suffstats=',\n",
       "              {'N': 1,\n",
       "               'counts': [0.0,\n",
       "                0.0,\n",
       "                0.0,\n",
       "                0.0,\n",
       "                0.0,\n",
       "                0.0,\n",
       "                0.0,\n",
       "                0.0,\n",
       "                1.0,\n",
       "                0.0]}]]]]])]]]]],\n",
       "   ['FlexibleRowMixture',\n",
       "    ['cgpm_row_divide=',\n",
       "     ['Crp',\n",
       "      ['outputs=', [100002]],\n",
       "      ['inputs=', []],\n",
       "      ['distargs=', {}],\n",
       "      ['params=', {}],\n",
       "      ['hypers=', {'alpha': 0.1853}],\n",
       "      ['suffstats=', {'N': 1, 'counts': [1]}]]],\n",
       "    ['cgpm_components=',\n",
       "     ['FlexibleArray',\n",
       "      ['outputs=', [2, 3]],\n",
       "      ['inputs=', [100002]],\n",
       "      ['cgpms=',\n",
       "       [(0,\n",
       "         ['Product',\n",
       "          ['cgpms=',\n",
       "           [['Poisson',\n",
       "             ['outputs=', [2]],\n",
       "             ['inputs=', []],\n",
       "             ['distargs=', {}],\n",
       "             ['params=', {}],\n",
       "             ['hypers=', {'a': 0.3451, 'b': 2.4983}],\n",
       "             ['suffstats=', {'N': 1, 'sum_log_fact_x': 0.0, 'sum_x': 1}]],\n",
       "            ['Categorical',\n",
       "             ['outputs=', [3]],\n",
       "             ['inputs=', []],\n",
       "             ['distargs=', {'k': 3}],\n",
       "             ['params=', {}],\n",
       "             ['hypers=', {'alpha': 1.2538}],\n",
       "             ['suffstats=', {'N': 1, 'counts': [0.0, 0.0, 1.0]}]]]]])]]]]]]]]"
      ]
     },
     "execution_count": 11,
     "metadata": {},
     "output_type": "execute_result"
    }
   ],
   "source": [
    "crosscat.render()"
   ]
  },
  {
   "cell_type": "code",
   "execution_count": 12,
   "metadata": {},
   "outputs": [
    {
     "data": {
      "image/png": "[encoded data removed]",
      "text/plain": [
       "<matplotlib.figure.Figure at 0x7fd5f85871d0>"
      ]
     },
     "metadata": {},
     "output_type": "display_data"
    }
   ],
   "source": [
    "%matplotlib inline\n",
    "import matplotlib.pyplot as plt\n",
    "samples = crosscat.simulate(None, [1,2], N=100)\n",
    "plt.hist([s[2] for s in samples]);"
   ]
  }
 ],
 "metadata": {
  "kernelspec": {
   "display_name": "Python 2",
   "language": "python",
   "name": "python2"
  },
  "language_info": {
   "codemirror_mode": {
    "name": "ipython",
    "version": 2
   },
   "file_extension": ".py",
   "mimetype": "text/x-python",
   "name": "python",
   "nbconvert_exporter": "python",
   "pygments_lexer": "ipython2",
   "version": "2.7.12"
  }
 },
 "nbformat": 4,
 "nbformat_minor": 2
}
