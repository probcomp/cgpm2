{
 "cells": [
  {
   "cell_type": "markdown",
   "metadata": {},
   "source": [
    "# Testing the random forest CGPM"
   ]
  },
  {
   "cell_type": "code",
   "execution_count": 1,
   "metadata": {},
   "outputs": [],
   "source": [
    "import numpy as np\n",
    "import pandas as pd"
   ]
  },
  {
   "cell_type": "code",
   "execution_count": 2,
   "metadata": {},
   "outputs": [],
   "source": [
    "prng = np.random.RandomState(10)"
   ]
  },
  {
   "cell_type": "markdown",
   "metadata": {},
   "source": [
    "#### Prepare the population schema"
   ]
  },
  {
   "cell_type": "code",
   "execution_count": 3,
   "metadata": {},
   "outputs": [],
   "source": [
    "schema = [\n",
    "    ('categorical', {'k': 79}),  # 0 Country_of_Operator\n",
    "    ('categorical', {'k': 346}), # 1 Operator_Owner\n",
    "    ('categorical', {'k': 18}),  # 2 Users\n",
    "    ('categorical', {'k': 46}),  # 3 Purpose\n",
    "    ('categorical', {'k': 4}),   # 4 Class_of_Orbit\n",
    "    ('categorical', {'k': 7}),   # 5 Type_of_Orbit\n",
    "    ('normal', None),            # 6 Perigee_km\n",
    "    ('normal', None),            # 7 Apogee_km\n",
    "    ('normal', None),            # 8 Eccentricity\n",
    "    ('normal', None),            # 9 Period_minutes\n",
    "    ('normal', None),            # 10 Launch_Mass_kg\n",
    "    ('normal', None),            # 11 Dry_Mass_kg\n",
    "    ('normal', None),            # 12 Power_watts\n",
    "    ('normal', None),            # 13 Date_of_Launch\n",
    "    ('normal', None),            # 14 Anticipated_Lifetime\n",
    "    ('categorical', {'k': 282}), # 15 Contractor\n",
    "    ('categorical', {'k': 54}),  # 16 Country_of_Contractor\n",
    "    ('categorical', {'k': 25}),  # 17 Launch_Site\n",
    "    ('categorical', {'k': 141}), # 18 Launch_Vehicle\n",
    "    ('categorical', {'k': 38}),  # 19 Source_Used_for_Orbital_Data\n",
    "    ('normal', None),            # 20 longitude_radians_of_geo\n",
    "    ('normal', None),            # 21 Inclination_radians\n",
    "]"
   ]
  },
  {
   "cell_type": "markdown",
   "metadata": {},
   "source": [
    "#### Load observations from .csv file"
   ]
  },
  {
   "cell_type": "code",
   "execution_count": 4,
   "metadata": {},
   "outputs": [],
   "source": [
    "from sklearn.preprocessing import Imputer"
   ]
  },
  {
   "cell_type": "code",
   "execution_count": 5,
   "metadata": {},
   "outputs": [],
   "source": [
    "df = pd.read_csv('/tmp/satellites.coded.csv', index_col=False)\n",
    "variables = range(len(df.columns))"
   ]
  },
  {
   "cell_type": "code",
   "execution_count": 6,
   "metadata": {},
   "outputs": [],
   "source": [
    "target = 2\n",
    "covariates = [v for v in variables if v != target]"
   ]
  },
  {
   "cell_type": "code",
   "execution_count": 7,
   "metadata": {},
   "outputs": [],
   "source": [
    "X = (df.values)[:,covariates]\n",
    "y = (df.values)[:,target]"
   ]
  },
  {
   "cell_type": "code",
   "execution_count": 8,
   "metadata": {},
   "outputs": [],
   "source": [
    "def impute_column(X, i):\n",
    "    stattype, _distargs = schema[i]\n",
    "    strategy = 'mean' if stattype is 'normal' else 'most_frequent'\n",
    "    imputer = Imputer(strategy=strategy)\n",
    "    X_reshape = np.reshape(X[:,i], (-1,1))\n",
    "    X_imputed = imputer.fit_transform(X_reshape)\n",
    "    return np.ravel(X_imputed)"
   ]
  },
  {
   "cell_type": "code",
   "execution_count": 9,
   "metadata": {},
   "outputs": [],
   "source": [
    "for i, _covariate in enumerate(covariates):\n",
    "    X[:,i] = impute_column(X, i)"
   ]
  },
  {
   "cell_type": "markdown",
   "metadata": {},
   "source": [
    "#### Run classification using sklearn forest."
   ]
  },
  {
   "cell_type": "code",
   "execution_count": 10,
   "metadata": {},
   "outputs": [],
   "source": [
    "from sklearn.ensemble import RandomForestClassifier\n",
    "from sklearn.metrics import accuracy_score"
   ]
  },
  {
   "cell_type": "code",
   "execution_count": 11,
   "metadata": {},
   "outputs": [],
   "source": [
    "def get_predictive_accuracy():\n",
    "    rowids = np.arange(len(y))\n",
    "    train_rows = prng.choice(rowids, replace=False, size=800)\n",
    "    test_rows = rowids[~np.isin(rowids, train_rows)]\n",
    "    X_train = X[train_rows]\n",
    "    y_train = y[train_rows]\n",
    "    X_test = X[test_rows]\n",
    "    y_test = y[test_rows]\n",
    "    seed = prng.randint(2**32-1,)\n",
    "    forest = RandomForestClassifier(random_state=seed)\n",
    "    forest.fit(X_train, y_train)\n",
    "    y_prediction = forest.predict(X_test)\n",
    "    return accuracy_score(y_prediction, y_test)"
   ]
  },
  {
   "cell_type": "code",
   "execution_count": 12,
   "metadata": {},
   "outputs": [],
   "source": [
    "accuracies0 = [get_predictive_accuracy() for _i in xrange(10)]"
   ]
  },
  {
   "cell_type": "markdown",
   "metadata": {},
   "source": [
    "#### Run classification using cgpm forest."
   ]
  },
  {
   "cell_type": "code",
   "execution_count": 13,
   "metadata": {},
   "outputs": [],
   "source": [
    "from cgpm2.forest import RandomForest\n",
    "from collections import Counter"
   ]
  },
  {
   "cell_type": "code",
   "execution_count": 14,
   "metadata": {},
   "outputs": [],
   "source": [
    "def get_predictive_accuracy_cgpm():\n",
    "    # Test set.\n",
    "    rowids = np.arange(len(y))\n",
    "    train_rows = prng.choice(rowids, replace=False, size=800)\n",
    "    test_rows = rowids[~np.isin(rowids, train_rows)]\n",
    "    X_train = X[train_rows]\n",
    "    y_train = y[train_rows]\n",
    "    X_test = X[test_rows]\n",
    "    y_test = y[test_rows]\n",
    "    # Build forest.\n",
    "    levels = [s[1]['k'] if s[1] else None for (i, s) in enumerate(schema) if i != target]\n",
    "    assert len(levels) == len(covariates)\n",
    "    distargs = {'k':18, 'levels':levels}\n",
    "    forest = RandomForest(outputs=[target], inputs=covariates, distargs=distargs, rng=prng)\n",
    "    # Incorporate data.\n",
    "    for rowid, (value_output, values_inputs) in enumerate(zip(y_train, X_train)):\n",
    "        inputs = dict(zip(covariates, values_inputs))\n",
    "        observation = {target: value_output}\n",
    "        forest.incorporate(rowid, observation ,inputs)\n",
    "    forest.transition()\n",
    "    # Fetch predictions (rebuild for testing only).\n",
    "    metadata = forest.to_metadata()\n",
    "    forest = RandomForest.from_metadata(metadata, prng)\n",
    "    y_prediction = []\n",
    "    for (value_output, values_inputs) in zip(y_test, X_test):\n",
    "        inputs = dict(zip(covariates, values_inputs))\n",
    "        samples_dict = forest.simulate(None, forest.outputs, inputs=inputs, N=100)\n",
    "        samples_list = [s[target] for s in samples_dict]\n",
    "        counter = Counter(samples_list)\n",
    "        prediction = counter.most_common(1)[0][0]\n",
    "        y_prediction.append(prediction)\n",
    "    return accuracy_score(y_prediction, y_test)"
   ]
  },
  {
   "cell_type": "code",
   "execution_count": 15,
   "metadata": {},
   "outputs": [],
   "source": [
    "accuracies1 = [get_predictive_accuracy_cgpm() for _i in xrange(10)]"
   ]
  },
  {
   "cell_type": "code",
   "execution_count": 16,
   "metadata": {},
   "outputs": [
    {
     "data": {
      "text/plain": [
       "[0.8228882833787466,\n",
       " 0.8119891008174387,\n",
       " 0.784741144414169,\n",
       " 0.7956403269754768,\n",
       " 0.8010899182561307,\n",
       " 0.7983651226158038,\n",
       " 0.8147138964577657,\n",
       " 0.8174386920980926,\n",
       " 0.8147138964577657,\n",
       " 0.782016348773842]"
      ]
     },
     "execution_count": 16,
     "metadata": {},
     "output_type": "execute_result"
    }
   ],
   "source": [
    "accuracies1"
   ]
  }
 ],
 "metadata": {
  "kernelspec": {
   "display_name": "Python 2",
   "language": "python",
   "name": "python2"
  },
  "language_info": {
   "codemirror_mode": {
    "name": "ipython",
    "version": 2
   },
   "file_extension": ".py",
   "mimetype": "text/x-python",
   "name": "python",
   "nbconvert_exporter": "python",
   "pygments_lexer": "ipython2",
   "version": "2.7.12"
  }
 },
 "nbformat": 4,
 "nbformat_minor": 2
}
