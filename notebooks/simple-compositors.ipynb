{
 "cells": [
  {
   "cell_type": "code",
   "execution_count": 1,
   "metadata": {},
   "outputs": [],
   "source": [
    "%matplotlib inline\n",
    "import numpy as np\n",
    "import matplotlib.pyplot as plt"
   ]
  },
  {
   "cell_type": "code",
   "execution_count": 2,
   "metadata": {},
   "outputs": [],
   "source": [
    "from cgpm.utils.general import get_prng\n",
    "prng = get_prng(2)"
   ]
  },
  {
   "cell_type": "code",
   "execution_count": 3,
   "metadata": {},
   "outputs": [],
   "source": [
    "from cgpm2.crp import CRP\n",
    "from cgpm2.categorical import Categorical\n",
    "from cgpm2.normal import Normal\n",
    "from cgpm2.poisson import Poisson"
   ]
  },
  {
   "cell_type": "code",
   "execution_count": 4,
   "metadata": {},
   "outputs": [],
   "source": [
    "from cgpm2.product import Product\n",
    "from cgpm2.finite_array import FiniteArray\n",
    "from cgpm2.flexible_array import FlexibleArray\n",
    "from cgpm2.finite_rowmix import FiniteRowMixture\n",
    "from cgpm2.flexible_rowmix import FlexibleRowMixture\n",
    "from cgpm2.chain import Chain"
   ]
  },
  {
   "cell_type": "code",
   "execution_count": 5,
   "metadata": {},
   "outputs": [],
   "source": [
    "from cgpm2.conversion import convert_cgpm_state_to_cgpm2"
   ]
  },
  {
   "cell_type": "code",
   "execution_count": 6,
   "metadata": {},
   "outputs": [],
   "source": [
    "column0 = Normal([0], [], rng=prng)\n",
    "column1 = Normal([1], [], rng=prng)\n",
    "column2 = Categorical([2], [], distargs={'k':4}, rng=prng)"
   ]
  },
  {
   "cell_type": "code",
   "execution_count": 7,
   "metadata": {},
   "outputs": [],
   "source": [
    "product = Product([column0, column1, column2], prng)"
   ]
  },
  {
   "cell_type": "code",
   "execution_count": 8,
   "metadata": {},
   "outputs": [],
   "source": [
    "import itertools"
   ]
  },
  {
   "cell_type": "code",
   "execution_count": 9,
   "metadata": {},
   "outputs": [
    {
     "data": {
      "text/plain": [
       "{0: -3.3737780266676047, 1: -6.796285952911423, 2: 2}"
      ]
     },
     "execution_count": 9,
     "metadata": {},
     "output_type": "execute_result"
    }
   ],
   "source": [
    "product.simulate(None, [1,2,0])"
   ]
  },
  {
   "cell_type": "code",
   "execution_count": 10,
   "metadata": {},
   "outputs": [],
   "source": [
    "component0 = Normal([0], [], hypers={'m':100}, rng=prng)\n",
    "component1 = Normal([0], [], hypers={'m':-100}, rng=prng)\n",
    "component2 = Normal([0], [], hypers={'m':0}, rng=prng)\n",
    "indexer_1 = 128\n",
    "cgpm_array_1 = FiniteArray(\n",
    "    cgpms=[component0, component1, component2],\n",
    "    indexer=indexer_1,\n",
    "    rng=prng)"
   ]
  },
  {
   "cell_type": "code",
   "execution_count": 11,
   "metadata": {},
   "outputs": [],
   "source": [
    "component0 = Normal([1], [], hypers={'m':100}, rng=prng)\n",
    "component1 = Normal([1], [], hypers={'m':-100}, rng=prng)\n",
    "component2 = Normal([1], [], hypers={'m':0}, rng=prng)\n",
    "indexer_2 = 129\n",
    "cgpm_array_2 = FiniteArray(\n",
    "    cgpms=[component0, component1, component2],\n",
    "    indexer=indexer_2,\n",
    "    rng=prng)"
   ]
  },
  {
   "cell_type": "code",
   "execution_count": 12,
   "metadata": {},
   "outputs": [],
   "source": [
    "product2 = Product([cgpm_array_1, cgpm_array_2], prng)"
   ]
  },
  {
   "cell_type": "code",
   "execution_count": 13,
   "metadata": {},
   "outputs": [
    {
     "data": {
      "text/plain": [
       "{0: -99.08785393745924, 1: 92.74086151356249}"
      ]
     },
     "execution_count": 13,
     "metadata": {},
     "output_type": "execute_result"
    }
   ],
   "source": [
    "product2.simulate(None, [0,1], inputs={indexer_2: 0, indexer_1:1})"
   ]
  },
  {
   "cell_type": "code",
   "execution_count": 14,
   "metadata": {},
   "outputs": [],
   "source": [
    "component0 = Normal([0], [], hypers={'m':0}, rng=prng)\n",
    "indexer_1 = 128\n",
    "cgpm_array_1 = FlexibleArray(\n",
    "    cgpm_base=component0,\n",
    "    indexer=indexer_1,\n",
    "    rng=prng)"
   ]
  },
  {
   "cell_type": "code",
   "execution_count": 15,
   "metadata": {},
   "outputs": [],
   "source": [
    "cgpm_array_1.incorporate(100, {0:10000}, inputs={indexer_1:10})\n",
    "cgpm_array_1.incorporate(101, {0:10000}, inputs={indexer_1:10})\n",
    "cgpm_array_1.incorporate(102, {0:10000}, inputs={indexer_1:10})\n",
    "cgpm_array_1.incorporate(103, {0:10000}, inputs={indexer_1:10})"
   ]
  },
  {
   "cell_type": "code",
   "execution_count": 16,
   "metadata": {},
   "outputs": [
    {
     "data": {
      "text/plain": [
       "[{0: 4832.6810726641115},\n",
       " {0: 1662.0725833080814},\n",
       " {0: 4313.959513343205},\n",
       " {0: 9283.93397548402},\n",
       " {0: 10061.677332778974},\n",
       " {0: 11053.993516929797},\n",
       " {0: 4828.471578136625},\n",
       " {0: 13148.288524333995},\n",
       " {0: 3854.933195631616},\n",
       " {0: -4729.375736354497}]"
      ]
     },
     "execution_count": 16,
     "metadata": {},
     "output_type": "execute_result"
    }
   ],
   "source": [
    "cgpm_array_1.simulate(None, [0], inputs={indexer_1:10}, N=10)"
   ]
  },
  {
   "cell_type": "code",
   "execution_count": 17,
   "metadata": {},
   "outputs": [
    {
     "data": {
      "text/plain": [
       "[{0: 1.6242797701979512},\n",
       " {0: -0.8787751981010887},\n",
       " {0: -69.33149695845817},\n",
       " {0: 0.838833572289609},\n",
       " {0: -3.2174268259802394},\n",
       " {0: -0.8642800156652888},\n",
       " {0: 0.8191402792891178},\n",
       " {0: 1.2141214118882915},\n",
       " {0: 1.3346100641829333},\n",
       " {0: 2.0187195736330352}]"
      ]
     },
     "execution_count": 17,
     "metadata": {},
     "output_type": "execute_result"
    }
   ],
   "source": [
    "cgpm_array_1.simulate(None, [0], inputs={indexer_1:0}, N=10)"
   ]
  },
  {
   "cell_type": "code",
   "execution_count": 18,
   "metadata": {},
   "outputs": [],
   "source": [
    "component0 = Normal([0], [], hypers={'m':100}, rng=prng)\n",
    "component1 = Normal([0], [], hypers={'m':-100}, rng=prng)\n",
    "component2 = Normal([0], [], hypers={'m':0}, rng=prng)\n",
    "indexer_1 = 128\n",
    "cgpm_row_divide = Categorical([1], [], distargs={'k':3}, rng=prng)\n",
    "finite_mixture = FiniteRowMixture(\n",
    "    cgpm_row_divide=cgpm_row_divide,\n",
    "    cgpm_components=[component0, component1, component2],\n",
    "    rng=prng)"
   ]
  },
  {
   "cell_type": "code",
   "execution_count": 19,
   "metadata": {},
   "outputs": [],
   "source": [
    "finite_mixture.incorporate(1, {0:1000})\n",
    "finite_mixture.incorporate(2, {0:1000})\n",
    "finite_mixture.incorporate(3, {0:1000})"
   ]
  },
  {
   "cell_type": "code",
   "execution_count": 20,
   "metadata": {},
   "outputs": [
    {
     "data": {
      "text/plain": [
       "{1: 0, 2: 1, 3: 1}"
      ]
     },
     "execution_count": 20,
     "metadata": {},
     "output_type": "execute_result"
    }
   ],
   "source": [
    "finite_mixture.rowid_to_component"
   ]
  },
  {
   "cell_type": "code",
   "execution_count": 21,
   "metadata": {},
   "outputs": [
    {
     "data": {
      "text/plain": [
       "[{0: -1371.0643369983877},\n",
       " {0: 806.2671232423008},\n",
       " {0: 295.0005450335027},\n",
       " {0: 759.126653134998},\n",
       " {0: 1079.6214688292273},\n",
       " {0: -616.9394478976938},\n",
       " {0: 75.6138731705368},\n",
       " {0: 596.6918109816971},\n",
       " {0: 583.1935996442091},\n",
       " {0: 590.8545523888854}]"
      ]
     },
     "execution_count": 21,
     "metadata": {},
     "output_type": "execute_result"
    }
   ],
   "source": [
    "finite_mixture.simulate(None, [0], N=10)"
   ]
  },
  {
   "cell_type": "code",
   "execution_count": 22,
   "metadata": {},
   "outputs": [
    {
     "data": {
      "text/plain": [
       "[{1: 0},\n",
       " {1: 0},\n",
       " {1: 0},\n",
       " {1: 1},\n",
       " {1: 1},\n",
       " {1: 1},\n",
       " {1: 1},\n",
       " {1: 1},\n",
       " {1: 1},\n",
       " {1: 1}]"
      ]
     },
     "execution_count": 22,
     "metadata": {},
     "output_type": "execute_result"
    }
   ],
   "source": [
    "finite_mixture.simulate(None, [1], constraints={0:100}, N=10)"
   ]
  },
  {
   "cell_type": "code",
   "execution_count": 23,
   "metadata": {},
   "outputs": [
    {
     "data": {
      "text/plain": [
       "-0.8904209693810694"
      ]
     },
     "execution_count": 23,
     "metadata": {},
     "output_type": "execute_result"
    }
   ],
   "source": [
    "finite_mixture.logpdf(None, {1:0}, constraints={0:100})"
   ]
  },
  {
   "cell_type": "code",
   "execution_count": 24,
   "metadata": {},
   "outputs": [
    {
     "data": {
      "text/plain": [
       "-0.5667830354138994"
      ]
     },
     "execution_count": 24,
     "metadata": {},
     "output_type": "execute_result"
    }
   ],
   "source": [
    "finite_mixture.logpdf(None, {1:1}, constraints={0:100})"
   ]
  },
  {
   "cell_type": "code",
   "execution_count": 25,
   "metadata": {},
   "outputs": [
    {
     "data": {
      "text/plain": [
       "-3.809040472510797"
      ]
     },
     "execution_count": 25,
     "metadata": {},
     "output_type": "execute_result"
    }
   ],
   "source": [
    "finite_mixture.logpdf(None, {1:2}, constraints={0:100})"
   ]
  },
  {
   "cell_type": "code",
   "execution_count": 26,
   "metadata": {},
   "outputs": [],
   "source": [
    "component0 = Product([\n",
    "    Normal([0], [], hypers={'m':100}, rng=prng),\n",
    "    Normal([1], [], hypers={'m':100}, rng=prng)\n",
    "    ], rng=prng)\n",
    "component1 = Product([\n",
    "    Normal([0], [], hypers={'m':-100}, rng=prng),\n",
    "    Normal([1], [], hypers={'m':-100}, rng=prng)\n",
    "    ], rng=prng)\n",
    "component2 = Product([\n",
    "    Normal([0], [], hypers={'m':0}, rng=prng),\n",
    "    Normal([1], [], hypers={'m':0}, rng=prng)\n",
    "    ], rng=prng)\n",
    "indexer_1 = 128\n",
    "cgpm_row_divide = Categorical([2], [], distargs={'k':3}, rng=prng)\n",
    "finite_mixture = FiniteRowMixture(\n",
    "    cgpm_row_divide=cgpm_row_divide,\n",
    "    cgpm_components=[component0, component1, component2],\n",
    "    rng=prng)"
   ]
  },
  {
   "cell_type": "code",
   "execution_count": 27,
   "metadata": {},
   "outputs": [],
   "source": [
    "finite_mixture.incorporate(1, {0:1000})\n",
    "finite_mixture.incorporate(2, {0:1000})\n",
    "finite_mixture.incorporate(3, {0:1000})"
   ]
  },
  {
   "cell_type": "code",
   "execution_count": 28,
   "metadata": {},
   "outputs": [],
   "source": [
    "finite_mixture.incorporate(1, {1:1000})\n",
    "finite_mixture.incorporate(2, {1:1000})\n",
    "finite_mixture.incorporate(3, {1:1000})"
   ]
  },
  {
   "cell_type": "code",
   "execution_count": 29,
   "metadata": {},
   "outputs": [
    {
     "data": {
      "text/plain": [
       "[0, 1]"
      ]
     },
     "execution_count": 29,
     "metadata": {},
     "output_type": "execute_result"
    }
   ],
   "source": [
    "finite_mixture.outputs_x"
   ]
  },
  {
   "cell_type": "code",
   "execution_count": 30,
   "metadata": {
    "scrolled": false
   },
   "outputs": [
    {
     "data": {
      "text/plain": [
       "[{0: -100.19243487889084},\n",
       " {0: -99.11667157824286},\n",
       " {0: -100.07968660316114},\n",
       " {0: -100.2080947566717},\n",
       " {0: -95.9112529174069},\n",
       " {0: -100.0863744137253},\n",
       " {0: -98.90754751505582},\n",
       " {0: -98.25278554269158},\n",
       " {0: -99.05666066018405},\n",
       " {0: -99.89188245221573}]"
      ]
     },
     "execution_count": 30,
     "metadata": {},
     "output_type": "execute_result"
    }
   ],
   "source": [
    "finite_mixture.simulate(None, [0], constraints={2:1}, N=10)"
   ]
  },
  {
   "cell_type": "code",
   "execution_count": 31,
   "metadata": {},
   "outputs": [
    {
     "data": {
      "text/plain": [
       "[{0: -102.7192902106232},\n",
       " {0: -99.45529573585095},\n",
       " {0: 346.6202603863929},\n",
       " {0: 3372.135354419728},\n",
       " {0: 766.7098453778257},\n",
       " {0: 247.3451897628088},\n",
       " {0: 117.86685815365911},\n",
       " {0: 983.1397466369856},\n",
       " {0: 1155.6103383057566},\n",
       " {0: 651.0770851990773}]"
      ]
     },
     "execution_count": 31,
     "metadata": {},
     "output_type": "execute_result"
    }
   ],
   "source": [
    "finite_mixture.simulate(None, [0], N=10)"
   ]
  },
  {
   "cell_type": "code",
   "execution_count": 32,
   "metadata": {},
   "outputs": [
    {
     "data": {
      "text/plain": [
       "[{1: 109.70150355781327, 2: 0},\n",
       " {1: 95.80264130375255, 2: 0},\n",
       " {1: 104.09645890679944, 2: 0},\n",
       " {1: 94.91543232253521, 2: 0},\n",
       " {1: 107.16550046392976, 2: 0},\n",
       " {1: 97.3262228837627, 2: 0},\n",
       " {1: 98.46197473478003, 2: 0},\n",
       " {1: 97.20910009025064, 2: 0},\n",
       " {1: 98.9594347230235, 2: 0},\n",
       " {1: 101.6127955778368, 2: 0}]"
      ]
     },
     "execution_count": 32,
     "metadata": {},
     "output_type": "execute_result"
    }
   ],
   "source": [
    "finite_mixture.simulate(None, [1,2], constraints={0:100}, N=10)"
   ]
  },
  {
   "cell_type": "code",
   "execution_count": 33,
   "metadata": {},
   "outputs": [
    {
     "data": {
      "text/plain": [
       "[{}, {}, {}, {}, {}, {}, {}, {}, {}, {}]"
      ]
     },
     "execution_count": 33,
     "metadata": {},
     "output_type": "execute_result"
    }
   ],
   "source": [
    "finite_mixture.simulate(None, [], constraints={0:100}, N=10)"
   ]
  },
  {
   "cell_type": "code",
   "execution_count": 34,
   "metadata": {
    "scrolled": false
   },
   "outputs": [
    {
     "data": {
      "text/plain": [
       "[{0: -101.18759415493348},\n",
       " {0: -98.94042196668391},\n",
       " {0: -91.85273785731745},\n",
       " {0: -101.19532099491003},\n",
       " {0: -106.65864083531349},\n",
       " {0: -99.43427120712168},\n",
       " {0: -93.13394143329052},\n",
       " {0: -157.75911874375862},\n",
       " {0: -103.20839186064957},\n",
       " {0: -99.86478981535937}]"
      ]
     },
     "execution_count": 34,
     "metadata": {},
     "output_type": "execute_result"
    }
   ],
   "source": [
    "finite_mixture.simulate(None, [0], constraints={2:1}, N=10)"
   ]
  },
  {
   "cell_type": "code",
   "execution_count": 35,
   "metadata": {},
   "outputs": [],
   "source": [
    "metadata = finite_mixture.to_metadata()"
   ]
  },
  {
   "cell_type": "code",
   "execution_count": 36,
   "metadata": {
    "scrolled": false
   },
   "outputs": [],
   "source": [
    "finite_mixture2 = FiniteRowMixture.from_metadata(metadata, prng)"
   ]
  },
  {
   "cell_type": "code",
   "execution_count": 37,
   "metadata": {},
   "outputs": [],
   "source": [
    "component0 = Chain([\n",
    "    Poisson([0], [], hypers={'m':100}, rng=prng),\n",
    "    Normal([1], [], hypers={'m':100}, rng=prng)\n",
    "    ],\n",
    "    rng=prng)\n",
    "indexer_1 = 128\n",
    "cgpm_row_divide = CRP([2], [], rng=prng)\n",
    "infinite_mixture = FlexibleRowMixture(\n",
    "    cgpm_row_divide=cgpm_row_divide,\n",
    "    cgpm_components_base=component0,\n",
    "    rng=prng)"
   ]
  },
  {
   "cell_type": "code",
   "execution_count": 38,
   "metadata": {},
   "outputs": [
    {
     "data": {
      "text/plain": [
       "[{0: 0},\n",
       " {0: 0},\n",
       " {0: 0},\n",
       " {0: 0},\n",
       " {0: 4},\n",
       " {0: 1},\n",
       " {0: 1},\n",
       " {0: 5},\n",
       " {0: 2},\n",
       " {0: 1}]"
      ]
     },
     "execution_count": 38,
     "metadata": {},
     "output_type": "execute_result"
    }
   ],
   "source": [
    "infinite_mixture.simulate(None, [0], constraints={2:1}, N=10)"
   ]
  },
  {
   "cell_type": "code",
   "execution_count": 39,
   "metadata": {},
   "outputs": [
    {
     "data": {
      "text/plain": [
       "[{2: 0},\n",
       " {2: 0},\n",
       " {2: 0},\n",
       " {2: 0},\n",
       " {2: 0},\n",
       " {2: 0},\n",
       " {2: 0},\n",
       " {2: 0},\n",
       " {2: 0},\n",
       " {2: 0}]"
      ]
     },
     "execution_count": 39,
     "metadata": {},
     "output_type": "execute_result"
    }
   ],
   "source": [
    "infinite_mixture.simulate(None, [2], constraints={0:1}, N=10)"
   ]
  },
  {
   "cell_type": "code",
   "execution_count": 40,
   "metadata": {},
   "outputs": [
    {
     "data": {
      "text/plain": [
       "[0]"
      ]
     },
     "execution_count": 40,
     "metadata": {},
     "output_type": "execute_result"
    }
   ],
   "source": [
    "infinite_mixture.cgpm_row_divide.support()"
   ]
  },
  {
   "cell_type": "code",
   "execution_count": 41,
   "metadata": {},
   "outputs": [
    {
     "data": {
      "text/plain": [
       "[{1: 101.55211680172292, 2: 0},\n",
       " {1: 97.15787349618168, 2: 0},\n",
       " {1: 98.35167818178807, 2: 0},\n",
       " {1: 100.50194173805673, 2: 0},\n",
       " {1: 100.94784105207712, 2: 0},\n",
       " {1: 97.86474046357597, 2: 0},\n",
       " {1: 100.70088904055345, 2: 0},\n",
       " {1: 108.90829174336886, 2: 0},\n",
       " {1: 103.51461718197056, 2: 0},\n",
       " {1: 120.57958149456306, 2: 0}]"
      ]
     },
     "execution_count": 41,
     "metadata": {},
     "output_type": "execute_result"
    }
   ],
   "source": [
    "infinite_mixture.simulate(None, [1,2], constraints={0:1}, N=10)"
   ]
  },
  {
   "cell_type": "code",
   "execution_count": 42,
   "metadata": {},
   "outputs": [
    {
     "data": {
      "text/plain": [
       "-1.4913034761293729"
      ]
     },
     "execution_count": 42,
     "metadata": {},
     "output_type": "execute_result"
    }
   ],
   "source": [
    "infinite_mixture.logpdf(None, {1:100, 2:0}, constraints={0:1})"
   ]
  },
  {
   "cell_type": "code",
   "execution_count": 43,
   "metadata": {},
   "outputs": [
    {
     "data": {
      "text/plain": [
       "-inf"
      ]
     },
     "execution_count": 43,
     "metadata": {},
     "output_type": "execute_result"
    }
   ],
   "source": [
    "infinite_mixture.logpdf(None, {1:100, 2:1}, constraints={0:1})"
   ]
  },
  {
   "cell_type": "code",
   "execution_count": 44,
   "metadata": {},
   "outputs": [],
   "source": [
    "infinite_mixture.incorporate(0, {1:100})"
   ]
  },
  {
   "cell_type": "code",
   "execution_count": 45,
   "metadata": {},
   "outputs": [
    {
     "name": "stdout",
     "output_type": "stream",
     "text": [
      "-1.589026915173973\n",
      "-2.1844506566893185\n",
      "-inf\n"
     ]
    }
   ],
   "source": [
    "print infinite_mixture.logpdf(None, {1:100, 2:0}, constraints={0:1})\n",
    "print infinite_mixture.logpdf(None, {1:100, 2:1}, constraints={0:1})\n",
    "print infinite_mixture.logpdf(None, {1:100, 2:2}, constraints={0:1})"
   ]
  },
  {
   "cell_type": "code",
   "execution_count": 46,
   "metadata": {},
   "outputs": [
    {
     "data": {
      "text/plain": [
       "({1: 100, 2: 0}, {})"
      ]
     },
     "execution_count": 46,
     "metadata": {},
     "output_type": "execute_result"
    }
   ],
   "source": [
    "infinite_mixture.unincorporate(0)"
   ]
  },
  {
   "cell_type": "code",
   "execution_count": 47,
   "metadata": {},
   "outputs": [],
   "source": [
    "try:\n",
    "    infinite_mixture.unincorporate(0)\n",
    "    assert False\n",
    "except ValueError:\n",
    "    pass"
   ]
  },
  {
   "cell_type": "code",
   "execution_count": 48,
   "metadata": {},
   "outputs": [],
   "source": [
    "infinite_mixture.incorporate(0, {1:100})\n",
    "infinite_mixture.incorporate(1, {1:300})\n",
    "infinite_mixture.incorporate(2, {1:-300})"
   ]
  },
  {
   "cell_type": "code",
   "execution_count": 49,
   "metadata": {
    "scrolled": false
   },
   "outputs": [],
   "source": [
    "infinite_mixture.to_metadata();"
   ]
  },
  {
   "cell_type": "code",
   "execution_count": 50,
   "metadata": {},
   "outputs": [],
   "source": [
    "from cgpm2.walks import get_cgpms_by_output_index\n",
    "from cgpm2.transition_hypers import transition_hypers\n",
    "from cgpm2.transition_hypers import transtion_hyper_grids\n",
    "from cgpm2.transition_rows import transition_rows"
   ]
  },
  {
   "cell_type": "code",
   "execution_count": 51,
   "metadata": {},
   "outputs": [
    {
     "data": {
      "text/plain": [
       "[<cgpm2.poisson.Poisson at 0x7f3855e55f50>,\n",
       " <cgpm2.poisson.Poisson at 0x7f3855e55b90>,\n",
       " <cgpm2.poisson.Poisson at 0x7f3855c82690>,\n",
       " <cgpm2.poisson.Poisson at 0x7f3855c82090>]"
      ]
     },
     "execution_count": 51,
     "metadata": {},
     "output_type": "execute_result"
    }
   ],
   "source": [
    "get_cgpms_by_output_index(infinite_mixture, 0)"
   ]
  },
  {
   "cell_type": "code",
   "execution_count": 52,
   "metadata": {},
   "outputs": [],
   "source": [
    "normal_cgpms = get_cgpms_by_output_index(infinite_mixture, 1)\n",
    "grids_normal = transtion_hyper_grids(normal_cgpms, 30)\n",
    "hypers_normal = [transition_hypers(normal_cgpms, grids_normal, prng) for _i in xrange(100)]"
   ]
  },
  {
   "cell_type": "code",
   "execution_count": 53,
   "metadata": {},
   "outputs": [
    {
     "name": "stdout",
     "output_type": "stream",
     "text": [
      "{'s': 12550.33463504079, 'r': 3.0025887646926703, 'm': -91.37931034482759, 'nu': 1.1542026525859868}\n",
      "{'s': 4840.187684593357, 'r': 0.953321330946634, 'm': 96.37931034482762, 'nu': 2.148676478752431}\n",
      "{'s': 135874.5329830699, 'r': 2.7288174052801484, 'm': -153.9655172413793, 'nu': 1.1003260089454083}\n",
      "{'s': 186667.66666666672, 'r': 2.2538848224646633, 'm': 284.1379310344828, 'nu': 1.0489642553230345}\n"
     ]
    }
   ],
   "source": [
    "print hypers_normal[0]\n",
    "print hypers_normal[1]\n",
    "print hypers_normal[2]\n",
    "print hypers_normal[3]"
   ]
  },
  {
   "cell_type": "code",
   "execution_count": 54,
   "metadata": {},
   "outputs": [],
   "source": [
    "crp_cgpms = get_cgpms_by_output_index(infinite_mixture, 2)\n",
    "grids_crp = transtion_hyper_grids(crp_cgpms, 30)\n",
    "hypers_crp = [transition_hypers(crp_cgpms, grids_crp, prng) for _i in xrange(100)]"
   ]
  },
  {
   "cell_type": "code",
   "execution_count": 55,
   "metadata": {},
   "outputs": [
    {
     "name": "stdout",
     "output_type": "stream",
     "text": [
      "{'alpha': 0.45133436438422775}\n",
      "{'alpha': 0.6111081254223446}\n",
      "{'alpha': 1.038609897842623}\n",
      "{'alpha': 0.8274422920725926}\n",
      "{'alpha': 0.45133436438422775}\n"
     ]
    }
   ],
   "source": [
    "print hypers_crp[0]\n",
    "print hypers_crp[1]\n",
    "print hypers_crp[2]\n",
    "print hypers_crp[3]\n",
    "print hypers_crp[4]"
   ]
  },
  {
   "cell_type": "code",
   "execution_count": 56,
   "metadata": {},
   "outputs": [
    {
     "data": {
      "text/plain": [
       "[OrderedDict([(0, 100), (1, 300), (2, -300)]),\n",
       " OrderedDict(),\n",
       " OrderedDict(),\n",
       " OrderedDict()]"
      ]
     },
     "execution_count": 56,
     "metadata": {},
     "output_type": "execute_result"
    }
   ],
   "source": [
    "[n.data for n in normal_cgpms]"
   ]
  },
  {
   "cell_type": "code",
   "execution_count": 57,
   "metadata": {},
   "outputs": [],
   "source": [
    "transition_rows(infinite_mixture, 0, prng)"
   ]
  },
  {
   "cell_type": "code",
   "execution_count": 58,
   "metadata": {},
   "outputs": [
    {
     "data": {
      "text/plain": [
       "[OrderedDict([(1, 300), (2, -300)]),\n",
       " OrderedDict([(0, 100)]),\n",
       " OrderedDict(),\n",
       " OrderedDict()]"
      ]
     },
     "execution_count": 58,
     "metadata": {},
     "output_type": "execute_result"
    }
   ],
   "source": [
    "[n.data for n in normal_cgpms]"
   ]
  },
  {
   "cell_type": "code",
   "execution_count": 59,
   "metadata": {},
   "outputs": [],
   "source": [
    "hypers_normal = [transition_hypers(normal_cgpms, grids_normal, prng) for _i in xrange(100)]"
   ]
  },
  {
   "cell_type": "code",
   "execution_count": 60,
   "metadata": {},
   "outputs": [
    {
     "data": {
      "text/plain": [
       "{'m': 179.82758620689657,\n",
       " 'nu': 1.332183763236528,\n",
       " 'r': 3.3038265119586097,\n",
       " 's': 12550.33463504079}"
      ]
     },
     "execution_count": 60,
     "metadata": {},
     "output_type": "execute_result"
    }
   ],
   "source": [
    "hypers_normal[-1]"
   ]
  },
  {
   "cell_type": "code",
   "execution_count": 61,
   "metadata": {},
   "outputs": [],
   "source": [
    "transition_rows(infinite_mixture, 0, prng)"
   ]
  },
  {
   "cell_type": "code",
   "execution_count": 62,
   "metadata": {},
   "outputs": [],
   "source": [
    "transition_rows(infinite_mixture, 0, prng)"
   ]
  },
  {
   "cell_type": "code",
   "execution_count": 63,
   "metadata": {},
   "outputs": [],
   "source": [
    "data0 = prng.normal(loc=0, scale=2, size=20)\n",
    "data1 = prng.normal(loc=30, scale=1, size=20)\n",
    "data2 = prng.normal(loc=-30, scale=1, size=20)"
   ]
  },
  {
   "cell_type": "code",
   "execution_count": 64,
   "metadata": {},
   "outputs": [],
   "source": [
    "data = np.concatenate((data0, data1, data2))"
   ]
  },
  {
   "cell_type": "code",
   "execution_count": 65,
   "metadata": {},
   "outputs": [],
   "source": [
    "infinite_mixture = FlexibleRowMixture(\n",
    "    cgpm_row_divide=CRP([-1], [], rng=prng),\n",
    "    cgpm_components_base=Normal([0], [], rng=prng),\n",
    "    rng=prng)"
   ]
  },
  {
   "cell_type": "code",
   "execution_count": 66,
   "metadata": {},
   "outputs": [],
   "source": [
    "for rowid, value in enumerate(data):\n",
    "    infinite_mixture.incorporate(rowid, {0: value})"
   ]
  },
  {
   "cell_type": "code",
   "execution_count": 67,
   "metadata": {},
   "outputs": [],
   "source": [
    "grids = {\n",
    "    0  : transtion_hyper_grids(get_cgpms_by_output_index(infinite_mixture, 0), 30),\n",
    "    -1 : transtion_hyper_grids(get_cgpms_by_output_index(infinite_mixture, -1), 30)\n",
    "}\n",
    "cgpms = {\n",
    "    0: get_cgpms_by_output_index(infinite_mixture, 0),\n",
    "    -1 : get_cgpms_by_output_index(infinite_mixture, -1),\n",
    "}"
   ]
  },
  {
   "cell_type": "code",
   "execution_count": 68,
   "metadata": {},
   "outputs": [
    {
     "name": "stdout",
     "output_type": "stream",
     "text": [
      "4    1 loop, best of 1: 452 ms per loop\n",
      "\n"
     ]
    }
   ],
   "source": [
    "%%timeit -n1 -r1\n",
    "for step in xrange(5):\n",
    "    print '\\r%d' % (step,),\n",
    "    import sys; sys.stdout.flush()\n",
    "    rowids = prng.permutation(range(len(data)))\n",
    "    for rowid in rowids:\n",
    "        transition_rows(infinite_mixture, rowid, prng)\n",
    "    for output in infinite_mixture.outputs:\n",
    "        transition_hypers(cgpms[output], grids[output], prng)"
   ]
  },
  {
   "cell_type": "code",
   "execution_count": 69,
   "metadata": {},
   "outputs": [],
   "source": [
    "from cgpm.crosscat.state import State\n",
    "state = State(X=np.reshape(data, (len(data),1)), outputs=[0], cctypes=['normal'], rng=prng)\n",
    "view = state.views[0]"
   ]
  },
  {
   "cell_type": "code",
   "execution_count": 70,
   "metadata": {},
   "outputs": [
    {
     "name": "stdout",
     "output_type": "stream",
     "text": [
      "1 loop, best of 1: 614 ms per loop\n"
     ]
    }
   ],
   "source": [
    "%%timeit -n1 -r1\n",
    "view.transition(N=5)"
   ]
  },
  {
   "cell_type": "code",
   "execution_count": 71,
   "metadata": {
    "scrolled": false
   },
   "outputs": [],
   "source": [
    "product = convert_cgpm_state_to_cgpm2(state)\n",
    "product.render();"
   ]
  },
  {
   "cell_type": "code",
   "execution_count": 72,
   "metadata": {},
   "outputs": [
    {
     "data": {
      "text/plain": [
       "[((('crp', {}), {'alpha': 6.267614615993659}),\n",
       "  [(('normal', {}),\n",
       "    {'m': 3.657102130294092,\n",
       "     'nu': 30.02716609109761,\n",
       "     'r': 0.49224862444422307,\n",
       "     's': 5478.268854144051})])]"
      ]
     },
     "execution_count": 72,
     "metadata": {},
     "output_type": "execute_result"
    }
   ],
   "source": [
    "from cgpm2.conversion import convert_cgpm_to_ast\n",
    "convert_cgpm_to_ast(product)"
   ]
  },
  {
   "cell_type": "markdown",
   "metadata": {},
   "source": [
    "#### Add/Remove CGPM"
   ]
  },
  {
   "cell_type": "code",
   "execution_count": 73,
   "metadata": {},
   "outputs": [],
   "source": [
    "infinite_mixture = FlexibleRowMixture(\n",
    "    cgpm_row_divide=CRP([-1], [], rng=prng),\n",
    "    cgpm_components_base=Product([\n",
    "        Normal([0], [], rng=prng),\n",
    "        Normal([1], [], rng=prng),\n",
    "    ]),\n",
    "    rng=prng)"
   ]
  },
  {
   "cell_type": "code",
   "execution_count": 74,
   "metadata": {},
   "outputs": [],
   "source": [
    "for rowid, row in enumerate([[0,0.9],[0.5, 1],[-0.5,1.2]]):\n",
    "    infinite_mixture.incorporate(rowid, {0:row[0], 1:row[1]})"
   ]
  },
  {
   "cell_type": "code",
   "execution_count": 75,
   "metadata": {},
   "outputs": [],
   "source": [
    "from cgpm2.walks import add_cgpm\n",
    "from cgpm2.walks import remove_cgpm"
   ]
  },
  {
   "cell_type": "code",
   "execution_count": 76,
   "metadata": {},
   "outputs": [
    {
     "data": {
      "text/plain": [
       "['FlexibleRowMixture',\n",
       " ['cgpm_row_divide=',\n",
       "  ['Crp',\n",
       "   ['outputs=', [-1]],\n",
       "   ['inputs=', []],\n",
       "   ['distargs=', {}],\n",
       "   ['params=', {}],\n",
       "   ['hypers=', {'alpha': 1.0}],\n",
       "   ['suffstats=', {'N': 3, 'counts': [1, 1, 1]}]]],\n",
       " ['cgpm_components=',\n",
       "  ['FlexibleArray',\n",
       "   ['outputs=', [0, 1]],\n",
       "   ['inputs=', [-1]],\n",
       "   ['cgpms=',\n",
       "    [(0,\n",
       "      ['Product',\n",
       "       ['cgpms=',\n",
       "        [['Normal',\n",
       "          ['outputs=', [0]],\n",
       "          ['inputs=', []],\n",
       "          ['distargs=', {}],\n",
       "          ['params=', {}],\n",
       "          ['hypers=', {'m': 0.0, 'nu': 1.0, 'r': 1.0, 's': 1.0}],\n",
       "          ['suffstats=', {'N': 1.0, 'sum_x': 0, 'sum_x_sq': 0}]],\n",
       "         ['Normal',\n",
       "          ['outputs=', [1]],\n",
       "          ['inputs=', []],\n",
       "          ['distargs=', {}],\n",
       "          ['params=', {}],\n",
       "          ['hypers=', {'m': 0.0, 'nu': 1.0, 'r': 1.0, 's': 1.0}],\n",
       "          ['suffstats=', {'N': 1.0, 'sum_x': 0.9, 'sum_x_sq': 0.81}]]]]]),\n",
       "     (1,\n",
       "      ['Product',\n",
       "       ['cgpms=',\n",
       "        [['Normal',\n",
       "          ['outputs=', [0]],\n",
       "          ['inputs=', []],\n",
       "          ['distargs=', {}],\n",
       "          ['params=', {}],\n",
       "          ['hypers=', {'m': 0.0, 'nu': 1.0, 'r': 1.0, 's': 1.0}],\n",
       "          ['suffstats=', {'N': 1.0, 'sum_x': 0.5, 'sum_x_sq': 0.25}]],\n",
       "         ['Normal',\n",
       "          ['outputs=', [1]],\n",
       "          ['inputs=', []],\n",
       "          ['distargs=', {}],\n",
       "          ['params=', {}],\n",
       "          ['hypers=', {'m': 0.0, 'nu': 1.0, 'r': 1.0, 's': 1.0}],\n",
       "          ['suffstats=', {'N': 1.0, 'sum_x': 1, 'sum_x_sq': 1}]]]]]),\n",
       "     (2,\n",
       "      ['Product',\n",
       "       ['cgpms=',\n",
       "        [['Normal',\n",
       "          ['outputs=', [0]],\n",
       "          ['inputs=', []],\n",
       "          ['distargs=', {}],\n",
       "          ['params=', {}],\n",
       "          ['hypers=', {'m': 0.0, 'nu': 1.0, 'r': 1.0, 's': 1.0}],\n",
       "          ['suffstats=', {'N': 1.0, 'sum_x': -0.5, 'sum_x_sq': 0.25}]],\n",
       "         ['Normal',\n",
       "          ['outputs=', [1]],\n",
       "          ['inputs=', []],\n",
       "          ['distargs=', {}],\n",
       "          ['params=', {}],\n",
       "          ['hypers=', {'m': 0.0, 'nu': 1.0, 'r': 1.0, 's': 1.0}],\n",
       "          ['suffstats=', {'N': 1.0, 'sum_x': 1.2, 'sum_x_sq': 1.44}]]]]])]]]]]"
      ]
     },
     "execution_count": 76,
     "metadata": {},
     "output_type": "execute_result"
    }
   ],
   "source": [
    "infinite_mixture.render()"
   ]
  },
  {
   "cell_type": "code",
   "execution_count": 77,
   "metadata": {},
   "outputs": [],
   "source": [
    "mixture2 = remove_cgpm(infinite_mixture, 0)"
   ]
  },
  {
   "cell_type": "code",
   "execution_count": 78,
   "metadata": {},
   "outputs": [
    {
     "data": {
      "text/plain": [
       "['FlexibleRowMixture',\n",
       " ['cgpm_row_divide=',\n",
       "  ['Crp',\n",
       "   ['outputs=', [-1]],\n",
       "   ['inputs=', []],\n",
       "   ['distargs=', {}],\n",
       "   ['params=', {}],\n",
       "   ['hypers=', {'alpha': 1.0}],\n",
       "   ['suffstats=', {'N': 3, 'counts': [1, 1, 1]}]]],\n",
       " ['cgpm_components=',\n",
       "  ['FlexibleArray',\n",
       "   ['outputs=', [1]],\n",
       "   ['inputs=', [-1]],\n",
       "   ['cgpms=',\n",
       "    [(0,\n",
       "      ['Product',\n",
       "       ['cgpms=',\n",
       "        [['Normal',\n",
       "          ['outputs=', [1]],\n",
       "          ['inputs=', []],\n",
       "          ['distargs=', {}],\n",
       "          ['params=', {}],\n",
       "          ['hypers=', {'m': 0.0, 'nu': 1.0, 'r': 1.0, 's': 1.0}],\n",
       "          ['suffstats=', {'N': 1.0, 'sum_x': 0.9, 'sum_x_sq': 0.81}]]]]]),\n",
       "     (1,\n",
       "      ['Product',\n",
       "       ['cgpms=',\n",
       "        [['Normal',\n",
       "          ['outputs=', [1]],\n",
       "          ['inputs=', []],\n",
       "          ['distargs=', {}],\n",
       "          ['params=', {}],\n",
       "          ['hypers=', {'m': 0.0, 'nu': 1.0, 'r': 1.0, 's': 1.0}],\n",
       "          ['suffstats=', {'N': 1.0, 'sum_x': 1, 'sum_x_sq': 1}]]]]]),\n",
       "     (2,\n",
       "      ['Product',\n",
       "       ['cgpms=',\n",
       "        [['Normal',\n",
       "          ['outputs=', [1]],\n",
       "          ['inputs=', []],\n",
       "          ['distargs=', {}],\n",
       "          ['params=', {}],\n",
       "          ['hypers=', {'m': 0.0, 'nu': 1.0, 'r': 1.0, 's': 1.0}],\n",
       "          ['suffstats=', {'N': 1.0, 'sum_x': 1.2, 'sum_x_sq': 1.44}]]]]])]]]]]"
      ]
     },
     "execution_count": 78,
     "metadata": {},
     "output_type": "execute_result"
    }
   ],
   "source": [
    "mixture2.render()"
   ]
  },
  {
   "cell_type": "code",
   "execution_count": 79,
   "metadata": {},
   "outputs": [
    {
     "data": {
      "text/plain": [
       "['Product',\n",
       " ['cgpms=',\n",
       "  [['Normal',\n",
       "    ['outputs=', [1]],\n",
       "    ['inputs=', []],\n",
       "    ['distargs=', {}],\n",
       "    ['params=', {}],\n",
       "    ['hypers=', {'m': 0.0, 'nu': 1.0, 'r': 1.0, 's': 1.0}],\n",
       "    ['suffstats=', {'N': 1.0, 'sum_x': 0.9, 'sum_x_sq': 0.81}]]]]]"
      ]
     },
     "execution_count": 79,
     "metadata": {},
     "output_type": "execute_result"
    }
   ],
   "source": [
    "mixture2.cgpm_components_array.cgpms[0].render()"
   ]
  },
  {
   "cell_type": "code",
   "execution_count": 80,
   "metadata": {},
   "outputs": [],
   "source": [
    "mixture3 = add_cgpm(mixture2, Normal([0], [], rng=prng))"
   ]
  },
  {
   "cell_type": "code",
   "execution_count": 81,
   "metadata": {},
   "outputs": [
    {
     "data": {
      "text/plain": [
       "['FlexibleRowMixture',\n",
       " ['cgpm_row_divide=',\n",
       "  ['Crp',\n",
       "   ['outputs=', [-1]],\n",
       "   ['inputs=', []],\n",
       "   ['distargs=', {}],\n",
       "   ['params=', {}],\n",
       "   ['hypers=', {'alpha': 1.0}],\n",
       "   ['suffstats=', {'N': 3, 'counts': [1, 1, 1]}]]],\n",
       " ['cgpm_components=',\n",
       "  ['FlexibleArray',\n",
       "   ['outputs=', [1, 0]],\n",
       "   ['inputs=', [-1]],\n",
       "   ['cgpms=',\n",
       "    [(0,\n",
       "      ['Product',\n",
       "       ['cgpms=',\n",
       "        [['Normal',\n",
       "          ['outputs=', [1]],\n",
       "          ['inputs=', []],\n",
       "          ['distargs=', {}],\n",
       "          ['params=', {}],\n",
       "          ['hypers=', {'m': 0.0, 'nu': 1.0, 'r': 1.0, 's': 1.0}],\n",
       "          ['suffstats=', {'N': 1.0, 'sum_x': 0.9, 'sum_x_sq': 0.81}]],\n",
       "         ['Normal',\n",
       "          ['outputs=', [0]],\n",
       "          ['inputs=', []],\n",
       "          ['distargs=', {}],\n",
       "          ['params=', {}],\n",
       "          ['hypers=', {'m': 0.0, 'nu': 1.0, 'r': 1.0, 's': 1.0}],\n",
       "          ['suffstats=', {'N': 0, 'sum_x': 0, 'sum_x_sq': 0}]]]]]),\n",
       "     (1,\n",
       "      ['Product',\n",
       "       ['cgpms=',\n",
       "        [['Normal',\n",
       "          ['outputs=', [1]],\n",
       "          ['inputs=', []],\n",
       "          ['distargs=', {}],\n",
       "          ['params=', {}],\n",
       "          ['hypers=', {'m': 0.0, 'nu': 1.0, 'r': 1.0, 's': 1.0}],\n",
       "          ['suffstats=', {'N': 1.0, 'sum_x': 1, 'sum_x_sq': 1}]],\n",
       "         ['Normal',\n",
       "          ['outputs=', [0]],\n",
       "          ['inputs=', []],\n",
       "          ['distargs=', {}],\n",
       "          ['params=', {}],\n",
       "          ['hypers=', {'m': 0.0, 'nu': 1.0, 'r': 1.0, 's': 1.0}],\n",
       "          ['suffstats=', {'N': 0, 'sum_x': 0, 'sum_x_sq': 0}]]]]]),\n",
       "     (2,\n",
       "      ['Product',\n",
       "       ['cgpms=',\n",
       "        [['Normal',\n",
       "          ['outputs=', [1]],\n",
       "          ['inputs=', []],\n",
       "          ['distargs=', {}],\n",
       "          ['params=', {}],\n",
       "          ['hypers=', {'m': 0.0, 'nu': 1.0, 'r': 1.0, 's': 1.0}],\n",
       "          ['suffstats=', {'N': 1.0, 'sum_x': 1.2, 'sum_x_sq': 1.44}]],\n",
       "         ['Normal',\n",
       "          ['outputs=', [0]],\n",
       "          ['inputs=', []],\n",
       "          ['distargs=', {}],\n",
       "          ['params=', {}],\n",
       "          ['hypers=', {'m': 0.0, 'nu': 1.0, 'r': 1.0, 's': 1.0}],\n",
       "          ['suffstats=', {'N': 0, 'sum_x': 0, 'sum_x_sq': 0}]]]]])]]]]]"
      ]
     },
     "execution_count": 81,
     "metadata": {},
     "output_type": "execute_result"
    }
   ],
   "source": [
    "mixture3.render()"
   ]
  },
  {
   "cell_type": "code",
   "execution_count": 82,
   "metadata": {},
   "outputs": [
    {
     "data": {
      "text/plain": [
       "['FlexibleRowMixture',\n",
       " ['cgpm_row_divide=',\n",
       "  ['Crp',\n",
       "   ['outputs=', [-1]],\n",
       "   ['inputs=', []],\n",
       "   ['distargs=', {}],\n",
       "   ['params=', {}],\n",
       "   ['hypers=', {'alpha': 1.0}],\n",
       "   ['suffstats=', {'N': 3, 'counts': [1, 1, 1]}]]],\n",
       " ['cgpm_components=',\n",
       "  ['FlexibleArray',\n",
       "   ['outputs=', [1, 0]],\n",
       "   ['inputs=', [-1]],\n",
       "   ['cgpms=',\n",
       "    [(0,\n",
       "      ['Product',\n",
       "       ['cgpms=',\n",
       "        [['Normal',\n",
       "          ['outputs=', [1]],\n",
       "          ['inputs=', []],\n",
       "          ['distargs=', {}],\n",
       "          ['params=', {}],\n",
       "          ['hypers=', {'m': 0.0, 'nu': 1.0, 'r': 1.0, 's': 1.0}],\n",
       "          ['suffstats=', {'N': 1.0, 'sum_x': 0.9, 'sum_x_sq': 0.81}]],\n",
       "         ['Normal',\n",
       "          ['outputs=', [0]],\n",
       "          ['inputs=', []],\n",
       "          ['distargs=', {}],\n",
       "          ['params=', {}],\n",
       "          ['hypers=', {'m': 0.0, 'nu': 1.0, 'r': 1.0, 's': 1.0}],\n",
       "          ['suffstats=', {'N': 0, 'sum_x': 0, 'sum_x_sq': 0}]]]]]),\n",
       "     (1,\n",
       "      ['Product',\n",
       "       ['cgpms=',\n",
       "        [['Normal',\n",
       "          ['outputs=', [1]],\n",
       "          ['inputs=', []],\n",
       "          ['distargs=', {}],\n",
       "          ['params=', {}],\n",
       "          ['hypers=', {'m': 0.0, 'nu': 1.0, 'r': 1.0, 's': 1.0}],\n",
       "          ['suffstats=', {'N': 1.0, 'sum_x': 1, 'sum_x_sq': 1}]],\n",
       "         ['Normal',\n",
       "          ['outputs=', [0]],\n",
       "          ['inputs=', []],\n",
       "          ['distargs=', {}],\n",
       "          ['params=', {}],\n",
       "          ['hypers=', {'m': 0.0, 'nu': 1.0, 'r': 1.0, 's': 1.0}],\n",
       "          ['suffstats=', {'N': 0, 'sum_x': 0, 'sum_x_sq': 0}]]]]]),\n",
       "     (2,\n",
       "      ['Product',\n",
       "       ['cgpms=',\n",
       "        [['Normal',\n",
       "          ['outputs=', [1]],\n",
       "          ['inputs=', []],\n",
       "          ['distargs=', {}],\n",
       "          ['params=', {}],\n",
       "          ['hypers=', {'m': 0.0, 'nu': 1.0, 'r': 1.0, 's': 1.0}],\n",
       "          ['suffstats=', {'N': 1.0, 'sum_x': 1.2, 'sum_x_sq': 1.44}]],\n",
       "         ['Normal',\n",
       "          ['outputs=', [0]],\n",
       "          ['inputs=', []],\n",
       "          ['distargs=', {}],\n",
       "          ['params=', {}],\n",
       "          ['hypers=', {'m': 0.0, 'nu': 1.0, 'r': 1.0, 's': 1.0}],\n",
       "          ['suffstats=', {'N': 0, 'sum_x': 0, 'sum_x_sq': 0}]]]]])]]]]]"
      ]
     },
     "execution_count": 82,
     "metadata": {},
     "output_type": "execute_result"
    }
   ],
   "source": [
    "mixture3.render()"
   ]
  },
  {
   "cell_type": "code",
   "execution_count": 83,
   "metadata": {},
   "outputs": [
    {
     "data": {
      "text/plain": [
       "['FlexibleRowMixture',\n",
       " ['cgpm_row_divide=',\n",
       "  ['Crp',\n",
       "   ['outputs=', [-1]],\n",
       "   ['inputs=', []],\n",
       "   ['distargs=', {}],\n",
       "   ['params=', {}],\n",
       "   ['hypers=', {'alpha': 1.0}],\n",
       "   ['suffstats=', {'N': 3, 'counts': [1, 1, 1]}]]],\n",
       " ['cgpm_components=',\n",
       "  ['FlexibleArray',\n",
       "   ['outputs=', []],\n",
       "   ['inputs=', [-1]],\n",
       "   ['cgpms=',\n",
       "    [(0, ['Product', ['cgpms=', []]]),\n",
       "     (1, ['Product', ['cgpms=', []]]),\n",
       "     (2, ['Product', ['cgpms=', []]])]]]]]"
      ]
     },
     "execution_count": 83,
     "metadata": {},
     "output_type": "execute_result"
    }
   ],
   "source": [
    "remove_cgpm(mixture2, 1).render()"
   ]
  },
  {
   "cell_type": "markdown",
   "metadata": {},
   "source": [
    "#### Dummy variant of CrossCat"
   ]
  },
  {
   "cell_type": "code",
   "execution_count": 84,
   "metadata": {},
   "outputs": [],
   "source": [
    "infinite_mixture0 = FlexibleRowMixture(\n",
    "    cgpm_row_divide=CRP([-1], [], rng=prng),\n",
    "    cgpm_components_base=Product([\n",
    "        Normal([0], [], rng=prng),\n",
    "        Normal([1], [], rng=prng),\n",
    "    ]),\n",
    "    rng=prng)\n",
    "infinite_mixture1 = FlexibleRowMixture(\n",
    "    cgpm_row_divide=CRP([-2], [], rng=prng),\n",
    "    cgpm_components_base=Product([\n",
    "        Poisson([2], [], rng=prng),\n",
    "        Normal([3], [], rng=prng),\n",
    "        Normal([4], [], rng=prng),\n",
    "    ]),\n",
    "    rng=prng)\n",
    "crosscat = Product([infinite_mixture0, infinite_mixture1])"
   ]
  },
  {
   "cell_type": "code",
   "execution_count": 85,
   "metadata": {},
   "outputs": [],
   "source": [
    "infinite_mixture3 = FlexibleRowMixture(\n",
    "    cgpm_row_divide=CRP([-3], [], rng=prng),\n",
    "    cgpm_components_base=Product([\n",
    "        Categorical([5], [], distargs={'k':4}, rng=prng),\n",
    "    ]),\n",
    "    rng=prng)"
   ]
  },
  {
   "cell_type": "code",
   "execution_count": 86,
   "metadata": {},
   "outputs": [],
   "source": [
    "crosscat = add_cgpm(crosscat, infinite_mixture3);"
   ]
  },
  {
   "cell_type": "code",
   "execution_count": 87,
   "metadata": {},
   "outputs": [],
   "source": [
    "crosscat.render();"
   ]
  },
  {
   "cell_type": "code",
   "execution_count": 88,
   "metadata": {},
   "outputs": [
    {
     "data": {
      "text/plain": [
       "<cgpm2.product.Product at 0x7f3855920190>"
      ]
     },
     "execution_count": 88,
     "metadata": {},
     "output_type": "execute_result"
    }
   ],
   "source": [
    "remove_cgpm(crosscat, 5)"
   ]
  },
  {
   "cell_type": "code",
   "execution_count": 89,
   "metadata": {},
   "outputs": [
    {
     "name": "stdout",
     "output_type": "stream",
     "text": [
      "[-1, 0, 1, -2, 2, 3, 4, -3, 5]\n",
      "[-2, 2, 3, 4, -3, 5]\n"
     ]
    }
   ],
   "source": [
    "print crosscat.outputs\n",
    "print remove_cgpm(crosscat, -1).outputs"
   ]
  },
  {
   "cell_type": "code",
   "execution_count": 90,
   "metadata": {},
   "outputs": [],
   "source": [
    "from cgpm.utils.test import gen_data_table"
   ]
  },
  {
   "cell_type": "code",
   "execution_count": 91,
   "metadata": {},
   "outputs": [],
   "source": [
    "X, Zv, Zrv = gen_data_table(\n",
    "    n_rows=10,\n",
    "    view_weights=[.4, .6],\n",
    "    cluster_weights=[[.3,.4,.3],[.5,.5]],\n",
    "    cctypes=['normal','normal','poisson','normal','normal','categorical'],\n",
    "    distargs=[None,None,None,None,None,{'k':4}],\n",
    "    separation=[0.99]*6,\n",
    "    rng=prng)"
   ]
  },
  {
   "cell_type": "code",
   "execution_count": 92,
   "metadata": {},
   "outputs": [],
   "source": [
    "X[0,1] = X[3,1] = np.nan"
   ]
  },
  {
   "cell_type": "code",
   "execution_count": 93,
   "metadata": {},
   "outputs": [
    {
     "name": "stdout",
     "output_type": "stream",
     "text": [
      "0 {0: 4.714738935428731, 1: 10.479389356337228, 2: 7.0, 3: 4.050851393316202, 4: 11.069731618159043, 5: 0.0}\n",
      "1 {0: nan, 1: 10.835051894778928, 2: 10.0, 3: nan, 4: 11.176049925749744, 5: 0.0}\n",
      "2 {0: 6.895247215246159, 1: 8.50316497862421, 2: 10.0, 3: 4.3524051997099855, 4: 9.192488799581715, 5: 0.0}\n",
      "3 {0: 1.9680369785012881, 1: 4.922358145909745, 2: 2.0, 3: 0.9819263226872069, 4: 5.1023976175734855, 5: 2.0}\n",
      "4 {0: 4.41355054179062, 1: 4.220696007653597, 2: 4.0, 3: 4.089487242208414, 4: 3.366245726826664, 5: 2.0}\n",
      "5 {0: -0.9492434437427786, 1: 4.743555582245737, 2: 12.0, 3: 0.06305943749427954, 4: 5.661809504494816, 5: 2.0}\n",
      "6 {0: 5.169522835985513, 1: 4.62447218970265, 2: 1.0, 3: 5.175501449601346, 4: 4.968587498064812, 5: 2.0}\n",
      "7 {0: 2.867205401898596, 1: -1.957886095637273, 2: 1.0, 3: 3.0059190501014594, 4: 0.8975791234216388, 5: 3.0}\n",
      "8 {0: -0.44360943011118653, 1: 11.246812545990764, 2: 9.0, 3: -0.2703921002059724, 4: 8.594821799407585, 5: 0.0}\n",
      "9 {0: 0.8792571438178153, 1: 1.3454337113995687, 2: 1.0, 3: 0.9278093552958007, 4: 1.3487037461670885, 5: 3.0}\n"
     ]
    }
   ],
   "source": [
    "for rowid, row in enumerate(np.transpose(X)):\n",
    "    observation = {c:v for c,v in enumerate(row)}\n",
    "    print rowid, observation\n",
    "    crosscat.incorporate(rowid, observation)"
   ]
  },
  {
   "cell_type": "code",
   "execution_count": 94,
   "metadata": {
    "scrolled": false
   },
   "outputs": [],
   "source": [
    "crosscat.render();"
   ]
  },
  {
   "cell_type": "code",
   "execution_count": 95,
   "metadata": {},
   "outputs": [],
   "source": [
    "from cgpm2.transition_crosscat import get_cgpm_view_proposals_existing\n",
    "from cgpm2.transition_crosscat import get_cgpm_view_proposals_singleton\n",
    "from cgpm2.transition_crosscat import get_cgpm_view_proposals\n",
    "from cgpm2.transition_crosscat import get_cgpm_data_logp\n",
    "from cgpm2.transition_crosscat import transition_cgpm_view_assigments"
   ]
  },
  {
   "cell_type": "code",
   "execution_count": 96,
   "metadata": {},
   "outputs": [
    {
     "data": {
      "text/plain": [
       "[<cgpm2.flexible_rowmix.FlexibleRowMixture at 0x7f38558b9cd0>,\n",
       " <cgpm2.flexible_rowmix.FlexibleRowMixture at 0x7f38558b9090>,\n",
       " <cgpm2.flexible_rowmix.FlexibleRowMixture at 0x7f3855920a90>]"
      ]
     },
     "execution_count": 96,
     "metadata": {},
     "output_type": "execute_result"
    }
   ],
   "source": [
    "crosscat.cgpms"
   ]
  },
  {
   "cell_type": "code",
   "execution_count": 97,
   "metadata": {},
   "outputs": [],
   "source": [
    "current_views = [v for c in [0] for v in crosscat.cgpms if c in v.outputs]"
   ]
  },
  {
   "cell_type": "code",
   "execution_count": 98,
   "metadata": {},
   "outputs": [],
   "source": [
    "outputs = [0]"
   ]
  },
  {
   "cell_type": "code",
   "execution_count": 99,
   "metadata": {},
   "outputs": [],
   "source": [
    "current_views = [v for c in outputs for v in crosscat.cgpms if c in v.outputs]\n",
    "assert all(view is current_views[0] for view in current_views)"
   ]
  },
  {
   "cell_type": "code",
   "execution_count": 100,
   "metadata": {},
   "outputs": [
    {
     "data": {
      "text/plain": [
       "[<cgpm2.flexible_rowmix.FlexibleRowMixture at 0x7f38558b9cd0>,\n",
       " <cgpm2.flexible_rowmix.FlexibleRowMixture at 0x7f38558b9090>,\n",
       " <cgpm2.flexible_rowmix.FlexibleRowMixture at 0x7f3855920a90>]"
      ]
     },
     "execution_count": 100,
     "metadata": {},
     "output_type": "execute_result"
    }
   ],
   "source": [
    "crosscat.cgpms"
   ]
  },
  {
   "cell_type": "code",
   "execution_count": 101,
   "metadata": {},
   "outputs": [
    {
     "data": {
      "text/plain": [
       "[<cgpm2.flexible_rowmix.FlexibleRowMixture at 0x7f38558b9cd0>,\n",
       " <cgpm2.flexible_rowmix.FlexibleRowMixture at 0x7f38531a5250>,\n",
       " <cgpm2.flexible_rowmix.FlexibleRowMixture at 0x7f38531a5650>]"
      ]
     },
     "execution_count": 101,
     "metadata": {},
     "output_type": "execute_result"
    }
   ],
   "source": [
    "get_cgpm_view_proposals_existing(crosscat, [0,1])"
   ]
  },
  {
   "cell_type": "code",
   "execution_count": 102,
   "metadata": {},
   "outputs": [
    {
     "data": {
      "text/plain": [
       "[<cgpm2.flexible_rowmix.FlexibleRowMixture at 0x7f385318ec10>,\n",
       " <cgpm2.flexible_rowmix.FlexibleRowMixture at 0x7f38531a5810>]"
      ]
     },
     "execution_count": 102,
     "metadata": {},
     "output_type": "execute_result"
    }
   ],
   "source": [
    "get_cgpm_view_proposals_singleton(crosscat, [0,1], 2)"
   ]
  },
  {
   "cell_type": "code",
   "execution_count": 103,
   "metadata": {},
   "outputs": [],
   "source": [
    "view_proposals = get_cgpm_view_proposals(crosscat, [2,3], 2)"
   ]
  },
  {
   "cell_type": "code",
   "execution_count": 104,
   "metadata": {},
   "outputs": [
    {
     "name": "stdout",
     "output_type": "stream",
     "text": [
      "[-57.78603844954569, -68.03880138242661, -67.16684595975192, -67.75308056305758, -62.83405038881096]\n"
     ]
    }
   ],
   "source": [
    "print [sum(get_cgpm_data_logp(view, output) for output in [2,3]) for view in view_proposals]"
   ]
  },
  {
   "cell_type": "code",
   "execution_count": 105,
   "metadata": {},
   "outputs": [
    {
     "data": {
      "text/plain": [
       "[-1, 0, 1]"
      ]
     },
     "execution_count": 105,
     "metadata": {},
     "output_type": "execute_result"
    }
   ],
   "source": [
    "crosscat.cgpms[0].outputs"
   ]
  },
  {
   "cell_type": "code",
   "execution_count": 106,
   "metadata": {},
   "outputs": [
    {
     "data": {
      "text/plain": [
       "['Product',\n",
       " ['cgpms=',\n",
       "  [['FlexibleRowMixture',\n",
       "    ['cgpm_row_divide=',\n",
       "     ['Crp',\n",
       "      ['outputs=', [-1]],\n",
       "      ['inputs=', []],\n",
       "      ['distargs=', {}],\n",
       "      ['params=', {}],\n",
       "      ['hypers=', {'alpha': 1.0}],\n",
       "      ['suffstats=', {'N': 10, 'counts': [9, 1]}]]],\n",
       "    ['cgpm_components=',\n",
       "     ['FlexibleArray',\n",
       "      ['outputs=', [0, 1]],\n",
       "      ['inputs=', [-1]],\n",
       "      ['cgpms=',\n",
       "       [(0,\n",
       "         ['Product',\n",
       "          ['cgpms=',\n",
       "           [['Normal',\n",
       "             ['outputs=', [0]],\n",
       "             ['inputs=', []],\n",
       "             ['distargs=', {}],\n",
       "             ['params=', {}],\n",
       "             ['hypers=', {'m': 0.0, 'nu': 1.0, 'r': 1.0, 's': 1.0}],\n",
       "             ['suffstats=',\n",
       "              {'N': 8.0,\n",
       "               'sum_x': 24.63544903499694,\n",
       "               'sum_x_sq': 129.1684809327207}]],\n",
       "            ['Normal',\n",
       "             ['outputs=', [1]],\n",
       "             ['inputs=', []],\n",
       "             ['distargs=', {}],\n",
       "             ['params=', {}],\n",
       "             ['hypers=', {'m': 0.0, 'nu': 1.0, 'r': 1.0, 's': 1.0}],\n",
       "             ['suffstats=',\n",
       "              {'N': 9.0,\n",
       "               'sum_x': 57.61761460560558,\n",
       "               'sum_x_sq': 515.7748230069276}]]]]]),\n",
       "        (1,\n",
       "         ['Product',\n",
       "          ['cgpms=',\n",
       "           [['Normal',\n",
       "             ['outputs=', [0]],\n",
       "             ['inputs=', []],\n",
       "             ['distargs=', {}],\n",
       "             ['params=', {}],\n",
       "             ['hypers=', {'m': 0.0, 'nu': 1.0, 'r': 1.0, 's': 1.0}],\n",
       "             ['suffstats=',\n",
       "              {'N': 1.0,\n",
       "               'sum_x': 0.8792571438178153,\n",
       "               'sum_x_sq': 0.7730931249546623}]],\n",
       "            ['Normal',\n",
       "             ['outputs=', [1]],\n",
       "             ['inputs=', []],\n",
       "             ['distargs=', {}],\n",
       "             ['params=', {}],\n",
       "             ['hypers=', {'m': 0.0, 'nu': 1.0, 'r': 1.0, 's': 1.0}],\n",
       "             ['suffstats=',\n",
       "              {'N': 1.0,\n",
       "               'sum_x': 1.3454337113995687,\n",
       "               'sum_x_sq': 1.810191871770418}]]]]])]]]]],\n",
       "   ['FlexibleRowMixture',\n",
       "    ['cgpm_row_divide=',\n",
       "     ['Crp',\n",
       "      ['outputs=', [-2]],\n",
       "      ['inputs=', []],\n",
       "      ['distargs=', {}],\n",
       "      ['params=', {}],\n",
       "      ['hypers=', {'alpha': 1.0}],\n",
       "      ['suffstats=', {'N': 10, 'counts': [5, 2, 3]}]]],\n",
       "    ['cgpm_components=',\n",
       "     ['FlexibleArray',\n",
       "      ['outputs=', [2, 3, 4]],\n",
       "      ['inputs=', [-2]],\n",
       "      ['cgpms=',\n",
       "       [(0,\n",
       "         ['Product',\n",
       "          ['cgpms=',\n",
       "           [['Poisson',\n",
       "             ['outputs=', [2]],\n",
       "             ['inputs=', []],\n",
       "             ['distargs=', {}],\n",
       "             ['params=', {}],\n",
       "             ['hypers=', {'a': 1.0, 'b': 1.0}],\n",
       "             ['suffstats=',\n",
       "              {'N': 5, 'sum_log_fact_x': 25.198189852054774, 'sum_x': 23.0}]],\n",
       "            ['Normal',\n",
       "             ['outputs=', [3]],\n",
       "             ['inputs=', []],\n",
       "             ['distargs=', {}],\n",
       "             ['params=', {}],\n",
       "             ['hypers=', {'m': 0.0, 'nu': 1.0, 'r': 1.0, 's': 1.0}],\n",
       "             ['suffstats=',\n",
       "              {'N': 5.0,\n",
       "               'sum_x': 11.857791908107309,\n",
       "               'sum_x_sq': 43.206143441719874}]],\n",
       "            ['Normal',\n",
       "             ['outputs=', [4]],\n",
       "             ['inputs=', []],\n",
       "             ['distargs=', {}],\n",
       "             ['params=', {}],\n",
       "             ['hypers=', {'m': 0.0, 'nu': 1.0, 'r': 1.0, 's': 1.0}],\n",
       "             ['suffstats=',\n",
       "              {'N': 5.0,\n",
       "               'sum_x': 29.030775885388415,\n",
       "               'sum_x_sq': 234.5816398856426}]]]]]),\n",
       "        (1,\n",
       "         ['Product',\n",
       "          ['cgpms=',\n",
       "           [['Poisson',\n",
       "             ['outputs=', [2]],\n",
       "             ['inputs=', []],\n",
       "             ['distargs=', {}],\n",
       "             ['params=', {}],\n",
       "             ['hypers=', {'a': 1.0, 'b': 1.0}],\n",
       "             ['suffstats=',\n",
       "              {'N': 2, 'sum_log_fact_x': 15.104412573075516, 'sum_x': 11.0}]],\n",
       "            ['Normal',\n",
       "             ['outputs=', [3]],\n",
       "             ['inputs=', []],\n",
       "             ['distargs=', {}],\n",
       "             ['params=', {}],\n",
       "             ['hypers=', {'m': 0.0, 'nu': 1.0, 'r': 1.0, 's': 1.0}],\n",
       "             ['suffstats=',\n",
       "              {'N': 1.0,\n",
       "               'sum_x': 0.9278093552958007,\n",
       "               'sum_x_sq': 0.8608301997744092}]],\n",
       "            ['Normal',\n",
       "             ['outputs=', [4]],\n",
       "             ['inputs=', []],\n",
       "             ['distargs=', {}],\n",
       "             ['params=', {}],\n",
       "             ['hypers=', {'m': 0.0, 'nu': 1.0, 'r': 1.0, 's': 1.0}],\n",
       "             ['suffstats=',\n",
       "              {'N': 2.0,\n",
       "               'sum_x': 12.524753671916834,\n",
       "               'sum_x_sq': 126.72309373777601}]]]]]),\n",
       "        (2,\n",
       "         ['Product',\n",
       "          ['cgpms=',\n",
       "           [['Poisson',\n",
       "             ['outputs=', [2]],\n",
       "             ['inputs=', []],\n",
       "             ['distargs=', {}],\n",
       "             ['params=', {}],\n",
       "             ['hypers=', {'a': 1.0, 'b': 1.0}],\n",
       "             ['suffstats=',\n",
       "              {'N': 3, 'sum_log_fact_x': 35.0916270687374, 'sum_x': 23.0}]],\n",
       "            ['Normal',\n",
       "             ['outputs=', [3]],\n",
       "             ['inputs=', []],\n",
       "             ['distargs=', {}],\n",
       "             ['params=', {}],\n",
       "             ['hypers=', {'m': 0.0, 'nu': 1.0, 'r': 1.0, 's': 1.0}],\n",
       "             ['suffstats=',\n",
       "              {'N': 3.0,\n",
       "               'sum_x': 9.590966086805611,\n",
       "               'sum_x_sq': 45.73322276994525}]],\n",
       "            ['Normal',\n",
       "             ['outputs=', [4]],\n",
       "             ['inputs=', []],\n",
       "             ['distargs=', {}],\n",
       "             ['params=', {}],\n",
       "             ['hypers=', {'m': 0.0, 'nu': 1.0, 'r': 1.0, 's': 1.0}],\n",
       "             ['suffstats=',\n",
       "              {'N': 3.0,\n",
       "               'sum_x': 19.822885802141343,\n",
       "               'sum_x_sq': 141.24479892154906}]]]]])]]]]],\n",
       "   ['FlexibleRowMixture',\n",
       "    ['cgpm_row_divide=',\n",
       "     ['Crp',\n",
       "      ['outputs=', [-3]],\n",
       "      ['inputs=', []],\n",
       "      ['distargs=', {}],\n",
       "      ['params=', {}],\n",
       "      ['hypers=', {'alpha': 1.0}],\n",
       "      ['suffstats=', {'N': 10, 'counts': [1, 7, 1, 1]}]]],\n",
       "    ['cgpm_components=',\n",
       "     ['FlexibleArray',\n",
       "      ['outputs=', [5]],\n",
       "      ['inputs=', [-3]],\n",
       "      ['cgpms=',\n",
       "       [(0,\n",
       "         ['Product',\n",
       "          ['cgpms=',\n",
       "           [['Categorical',\n",
       "             ['outputs=', [5]],\n",
       "             ['inputs=', []],\n",
       "             ['distargs=', {'k': 4}],\n",
       "             ['params=', {}],\n",
       "             ['hypers=', {'alpha': 1}],\n",
       "             ['suffstats=', {'N': 1, 'counts': [1.0, 0.0, 0.0, 0.0]}]]]]]),\n",
       "        (1,\n",
       "         ['Product',\n",
       "          ['cgpms=',\n",
       "           [['Categorical',\n",
       "             ['outputs=', [5]],\n",
       "             ['inputs=', []],\n",
       "             ['distargs=', {'k': 4}],\n",
       "             ['params=', {}],\n",
       "             ['hypers=', {'alpha': 1}],\n",
       "             ['suffstats=', {'N': 7, 'counts': [2.0, 0.0, 3.0, 2.0]}]]]]]),\n",
       "        (2,\n",
       "         ['Product',\n",
       "          ['cgpms=',\n",
       "           [['Categorical',\n",
       "             ['outputs=', [5]],\n",
       "             ['inputs=', []],\n",
       "             ['distargs=', {'k': 4}],\n",
       "             ['params=', {}],\n",
       "             ['hypers=', {'alpha': 1}],\n",
       "             ['suffstats=', {'N': 1, 'counts': [0.0, 0.0, 1.0, 0.0]}]]]]]),\n",
       "        (3,\n",
       "         ['Product',\n",
       "          ['cgpms=',\n",
       "           [['Categorical',\n",
       "             ['outputs=', [5]],\n",
       "             ['inputs=', []],\n",
       "             ['distargs=', {'k': 4}],\n",
       "             ['params=', {}],\n",
       "             ['hypers=', {'alpha': 1}],\n",
       "             ['suffstats=',\n",
       "              {'N': 1, 'counts': [1.0, 0.0, 0.0, 0.0]}]]]]])]]]]]]]]"
      ]
     },
     "execution_count": 106,
     "metadata": {},
     "output_type": "execute_result"
    }
   ],
   "source": [
    "crosscat.render()"
   ]
  },
  {
   "cell_type": "code",
   "execution_count": 107,
   "metadata": {},
   "outputs": [
    {
     "name": "stdout",
     "output_type": "stream",
     "text": [
      "1 loop, best of 1: 254 ms per loop\n"
     ]
    }
   ],
   "source": [
    "%%timeit -n1 -r1\n",
    "for _i in xrange(10):\n",
    "    for output in [0,1,2,3,4,5]:\n",
    "        transition_cgpm_view_assigments(crosscat, [output])"
   ]
  },
  {
   "cell_type": "code",
   "execution_count": 108,
   "metadata": {},
   "outputs": [],
   "source": [
    "crosscat.render();"
   ]
  },
  {
   "cell_type": "code",
   "execution_count": 109,
   "metadata": {},
   "outputs": [],
   "source": [
    "from cgpm.crosscat.state import State\n",
    "state = State(X.T,\n",
    "    cctypes=['normal','normal','poisson','normal','normal','categorical'],\n",
    "    distargs=[None,None,None,None,None,{'k':4}],\n",
    "    rng=prng)"
   ]
  },
  {
   "cell_type": "code",
   "execution_count": 110,
   "metadata": {},
   "outputs": [
    {
     "name": "stdout",
     "output_type": "stream",
     "text": [
      "1 loop, best of 1: 312 ms per loop\n"
     ]
    }
   ],
   "source": [
    "%%timeit -n1 -r1\n",
    "for _i in xrange(10):\n",
    "    state.transition_dims()"
   ]
  },
  {
   "cell_type": "code",
   "execution_count": 111,
   "metadata": {},
   "outputs": [],
   "source": [
    "from cgpm2.transition_crosscat import get_dataset"
   ]
  },
  {
   "cell_type": "code",
   "execution_count": 112,
   "metadata": {},
   "outputs": [
    {
     "name": "stdout",
     "output_type": "stream",
     "text": [
      "-2.412938331202305\n",
      "0.0\n",
      "-3.2485425830849106\n",
      "-2.0673979075493896\n",
      "-2.3352969973542623\n",
      "-2.621359193799293\n",
      "-2.5495014378132126\n",
      "-2.1025448118087344\n",
      "-2.3423305793212448\n",
      "-2.025489117314397\n"
     ]
    }
   ],
   "source": [
    "for rowid, row in get_dataset(crosscat, 0):\n",
    "    print crosscat.logpdf(None, row)    "
   ]
  },
  {
   "cell_type": "markdown",
   "metadata": {},
   "source": [
    "#### Make a finite array of mixtures, because composition is cool"
   ]
  },
  {
   "cell_type": "code",
   "execution_count": 113,
   "metadata": {},
   "outputs": [],
   "source": [
    "cgpm_row_divide0 = CRP([1],[])\n",
    "cgpm_row_divide1 = CRP([1],[])\n",
    "\n",
    "component0 = Normal([0], [])\n",
    "component1 = Normal([1], [])\n",
    "\n",
    "infinite_mixture0 = FlexibleRowMixture(\n",
    "    cgpm_row_divide=cgpm_row_divide,\n",
    "    cgpm_components_base=component0,\n",
    "    rng=prng)\n",
    "infinite_mixture1 = FlexibleRowMixture(\n",
    "    cgpm_row_divide=cgpm_row_divide,\n",
    "    cgpm_components_base=component0,\n",
    "    rng=prng)\n",
    "array = FiniteArray([infinite_mixture0, infinite_mixture1], -100, prng)"
   ]
  },
  {
   "cell_type": "code",
   "execution_count": 114,
   "metadata": {},
   "outputs": [
    {
     "data": {
      "text/plain": [
       "['FiniteArray',\n",
       " ['cgpms=',\n",
       "  [['FlexibleRowMixture',\n",
       "    ['cgpm_row_divide=',\n",
       "     ['Crp',\n",
       "      ['outputs=', [2]],\n",
       "      ['inputs=', []],\n",
       "      ['distargs=', {}],\n",
       "      ['params=', {}],\n",
       "      ['hypers=', {'alpha': 0.3333333333333333}],\n",
       "      ['suffstats=', {'N': 3, 'counts': [3]}]]],\n",
       "    ['cgpm_components=',\n",
       "     ['FlexibleArray', ['outputs=', [0]], ['inputs=', [2]], ['cgpms=', []]]]],\n",
       "   ['FlexibleRowMixture',\n",
       "    ['cgpm_row_divide=',\n",
       "     ['Crp',\n",
       "      ['outputs=', [2]],\n",
       "      ['inputs=', []],\n",
       "      ['distargs=', {}],\n",
       "      ['params=', {}],\n",
       "      ['hypers=', {'alpha': 0.3333333333333333}],\n",
       "      ['suffstats=', {'N': 3, 'counts': [3]}]]],\n",
       "    ['cgpm_components=',\n",
       "     ['FlexibleArray',\n",
       "      ['outputs=', [0]],\n",
       "      ['inputs=', [2]],\n",
       "      ['cgpms=', []]]]]]]]"
      ]
     },
     "execution_count": 114,
     "metadata": {},
     "output_type": "execute_result"
    }
   ],
   "source": [
    "array.render()"
   ]
  }
 ],
 "metadata": {
  "kernelspec": {
   "display_name": "Python 2",
   "language": "python",
   "name": "python2"
  },
  "language_info": {
   "codemirror_mode": {
    "name": "ipython",
    "version": 2
   },
   "file_extension": ".py",
   "mimetype": "text/x-python",
   "name": "python",
   "nbconvert_exporter": "python",
   "pygments_lexer": "ipython2",
   "version": "2.7.12"
  }
 },
 "nbformat": 4,
 "nbformat_minor": 2
}
