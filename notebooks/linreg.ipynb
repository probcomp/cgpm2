{
 "cells": [
  {
   "cell_type": "code",
   "execution_count": 1,
   "metadata": {},
   "outputs": [],
   "source": [
    "%matplotlib inline\n",
    "import matplotlib.pyplot as plt\n",
    "import numpy as np"
   ]
  },
  {
   "cell_type": "code",
   "execution_count": 2,
   "metadata": {},
   "outputs": [],
   "source": [
    "prng = np.random.RandomState(10)"
   ]
  },
  {
   "cell_type": "markdown",
   "metadata": {},
   "source": [
    "#### No categoricals"
   ]
  },
  {
   "cell_type": "code",
   "execution_count": 3,
   "metadata": {},
   "outputs": [
    {
     "data": {
      "image/png": "[encoded data removed]",
      "text/plain": [
       "<matplotlib.figure.Figure at 0x7fa8d533a690>"
      ]
     },
     "metadata": {},
     "output_type": "display_data"
    }
   ],
   "source": [
    "xs = np.linspace(0, 10, 20)\n",
    "ys = xs + prng.normal(0, scale=1, size=len(xs))\n",
    "plt.scatter(xs, ys);"
   ]
  },
  {
   "cell_type": "code",
   "execution_count": 4,
   "metadata": {},
   "outputs": [],
   "source": [
    "from cgpm2.linreg import LinearRegression\n",
    "from cgpm2.transition_hypers import transtion_hyper_grids\n",
    "from cgpm2.transition_hypers import transition_hypers"
   ]
  },
  {
   "cell_type": "code",
   "execution_count": 5,
   "metadata": {},
   "outputs": [],
   "source": [
    "linreg = LinearRegression([0], [1], distargs={'levels': [0]}, rng=prng)"
   ]
  },
  {
   "cell_type": "code",
   "execution_count": 6,
   "metadata": {},
   "outputs": [],
   "source": [
    "for (rowid, (x, y)) in enumerate(zip(xs,ys)):\n",
    "    linreg.incorporate(rowid, {0: x}, {1:y})    "
   ]
  },
  {
   "cell_type": "code",
   "execution_count": 7,
   "metadata": {},
   "outputs": [],
   "source": [
    "grids = transtion_hyper_grids([linreg],)\n",
    "for _i in xrange(10):\n",
    "    transition_hypers([linreg], grids, prng)"
   ]
  },
  {
   "cell_type": "code",
   "execution_count": 8,
   "metadata": {},
   "outputs": [
    {
     "data": {
      "image/png": "[encoded data removed]",
      "text/plain": [
       "<matplotlib.figure.Figure at 0x7fa8c7316ed0>"
      ]
     },
     "metadata": {},
     "output_type": "display_data"
    }
   ],
   "source": [
    "fig, ax = plt.subplots()\n",
    "for x in xs:\n",
    "    preds = [sample[0] for sample in linreg.simulate(None, [0], None, {1:x}, N=2)]\n",
    "    ax.scatter([x]*len(preds), preds)"
   ]
  },
  {
   "cell_type": "markdown",
   "metadata": {},
   "source": [
    "#### Now add a categorical variable."
   ]
  },
  {
   "cell_type": "code",
   "execution_count": 9,
   "metadata": {},
   "outputs": [],
   "source": [
    "num_xs = 20\n",
    "\n",
    "xs0 = np.linspace(0, 10, num_xs)\n",
    "ys0 = xs0 + prng.normal(0, scale=1, size=len(xs0))\n",
    "zs0 = [0]*len(xs0)\n",
    "\n",
    "xs1 = np.linspace(0, 10, num_xs)\n",
    "ys1 = xs1 + prng.normal(0, scale=1, size=len(xs1)) + 500\n",
    "zs1 = [1]*len(xs1)\n",
    "\n",
    "xs2 = np.linspace(0, 10, num_xs)\n",
    "ys2 = xs2 + prng.normal(0, scale=1, size=len(xs2)) + 1000\n",
    "zs2 = [2]*len(xs2)"
   ]
  },
  {
   "cell_type": "code",
   "execution_count": 10,
   "metadata": {},
   "outputs": [
    {
     "data": {
      "text/plain": [
       "<matplotlib.collections.PathCollection at 0x7fa8c5c56c90>"
      ]
     },
     "execution_count": 10,
     "metadata": {},
     "output_type": "execute_result"
    },
    {
     "data": {
      "image/png": "[encoded data removed]",
      "text/plain": [
       "<matplotlib.figure.Figure at 0x7fa8c7316710>"
      ]
     },
     "metadata": {},
     "output_type": "display_data"
    }
   ],
   "source": [
    "fig, ax = plt.subplots()\n",
    "ax.scatter(xs0,ys0,color='r')\n",
    "ax.scatter(xs1,ys1,color='g')\n",
    "ax.scatter(xs2,ys2,color='b')"
   ]
  },
  {
   "cell_type": "code",
   "execution_count": 11,
   "metadata": {},
   "outputs": [],
   "source": [
    "linreg = LinearRegression([0], [1,2], distargs={'levels': [0, 3]}, rng=prng)"
   ]
  },
  {
   "cell_type": "code",
   "execution_count": 12,
   "metadata": {},
   "outputs": [],
   "source": [
    "for rowid, (x,y,z) in enumerate(zip(xs0, ys0, zs0)):\n",
    "    linreg.incorporate(rowid, {0:y}, {1:x, 2:z})\n",
    "for rowid, (x,y,z) in enumerate(zip(xs1, ys1, zs1)):\n",
    "    linreg.incorporate(rowid+len(xs0), {0:y}, {1:x, 2:z})\n",
    "for rowid, (x,y,z) in enumerate(zip(xs2, ys2, zs2)):\n",
    "    linreg.incorporate(rowid+len(xs0)+len(xs1), {0:y}, {1:x, 2:z})"
   ]
  },
  {
   "cell_type": "code",
   "execution_count": 13,
   "metadata": {},
   "outputs": [
    {
     "data": {
      "image/png": "[encoded data removed]",
      "text/plain": [
       "<matplotlib.figure.Figure at 0x7fa8c7316e50>"
      ]
     },
     "metadata": {},
     "output_type": "display_data"
    }
   ],
   "source": [
    "fig, ax = plt.subplots()\n",
    "for x in xs0:\n",
    "    preds = [sample[0] for sample in linreg.simulate(None, [0], None, {1:x, 2:0}, N=20)]\n",
    "    ax.scatter(x, np.mean(preds), color='r')\n",
    "for x in xs1:\n",
    "    preds = [sample[0] for sample in linreg.simulate(None, [0], None, {1:x, 2:1}, N=20)]\n",
    "    ax.scatter(x, np.mean(preds), color='g')\n",
    "for x in xs1:\n",
    "    preds = [sample[0] for sample in linreg.simulate(None, [0], None, {1:x, 2:2}, N=20)]\n",
    "    ax.scatter(x, np.mean(preds), color='b')"
   ]
  },
  {
   "cell_type": "code",
   "execution_count": 14,
   "metadata": {},
   "outputs": [],
   "source": [
    "grids = transtion_hyper_grids([linreg],)\n",
    "for _i in xrange(100):\n",
    "    transition_hypers([linreg], grids, prng)"
   ]
  },
  {
   "cell_type": "code",
   "execution_count": 15,
   "metadata": {},
   "outputs": [
    {
     "data": {
      "image/png": "[encoded data removed]",
      "text/plain": [
       "<matplotlib.figure.Figure at 0x7fa8c5cec110>"
      ]
     },
     "metadata": {},
     "output_type": "display_data"
    }
   ],
   "source": [
    "fig, ax = plt.subplots()\n",
    "for x in xs:\n",
    "    preds = [sample[0] for sample in linreg.simulate(None, [0], None, {1:x, 2:0}, N=20)]\n",
    "    ax.scatter(x, np.mean(preds), color='r')\n",
    "for x in xs:\n",
    "    preds = [sample[0] for sample in linreg.simulate(None, [0], None, {1:x, 2:1}, N=20)]\n",
    "    ax.scatter(x, np.mean(preds), color='g')\n",
    "for x in xs:\n",
    "    preds = [sample[0] for sample in linreg.simulate(None, [0], None, {1:x, 2:2}, N=20)]\n",
    "    ax.scatter(x, np.mean(preds), color='b')"
   ]
  },
  {
   "cell_type": "code",
   "execution_count": 16,
   "metadata": {},
   "outputs": [
    {
     "name": "stdout",
     "output_type": "stream",
     "text": [
      "(-6.0923193876187725, -9.785003557457458, -17.678528299896243)\n",
      "(-6.088835114045196, -9.846622672021567, -17.823621035414362)\n",
      "(-6.086551984777998, -9.933277185366933, -18.00701462901725)\n",
      "(-6.085649993233346, -10.030485689473153, -18.203293446026237)\n",
      "(-6.085428932132345, -10.113631199917108, -18.37030117771701)\n",
      "(-6.085678346373243, -10.184160789533507, -18.510628440948494)\n",
      "(-6.088774460573404, -10.287575408769044, -18.700895895377926)\n",
      "(-6.09097967641037, -10.35407427191467, -18.823449977211112)\n",
      "(-6.093758936726772, -10.41407906259974, -18.929650770708122)\n",
      "(-6.101468201008629, -10.522712045260505, -19.111101262909415)\n",
      "(-6.105012385331975, -10.564109847294276, -19.175177657393306)\n",
      "(-6.113542218125076, -10.648343483911049, -19.304478851222484)\n",
      "(-6.117613302087648, -10.673720545322794, -19.331258560292554)\n",
      "(-6.129021444300179, -10.759390043369422, -19.451579695191867)\n",
      "(-6.1332955860343645, -10.768193009987044, -19.440706002612387)\n",
      "(-6.1531518026085905, -10.898869396418377, -19.6230884556785)\n",
      "(-6.162959977319133, -10.933826301672525, -19.64441375799015)\n",
      "(-6.171315391295593, -10.949640513505983, -19.629939061015193)\n",
      "(-6.183102369236622, -10.982640407693452, -19.63852708866534)\n",
      "(-6.19778486808309, -11.027003561446236, -19.66076771173448)\n"
     ]
    }
   ],
   "source": [
    "for x,y,z in zip(xs0,ys0,zs0):\n",
    "    lp1 = linreg.logpdf(None, {0:y}, None, {1:x, 2:0})\n",
    "    lp2 = linreg.logpdf(None, {0:y}, None, {1:x, 2:1})\n",
    "    lp3 = linreg.logpdf(None, {0:y}, None, {1:x, 2:2})\n",
    "    print (lp1, lp2, lp3)"
   ]
  },
  {
   "cell_type": "code",
   "execution_count": 17,
   "metadata": {},
   "outputs": [
    {
     "name": "stdout",
     "output_type": "stream",
     "text": [
      "(-10.014288606910668, -6.098267925974142, -8.14708116505335)\n",
      "(-9.983137384146175, -6.092193520967157, -8.201850168637066)\n",
      "(-9.933543089055547, -6.086558366798272, -8.268147260482692)\n",
      "(-9.885200405369233, -6.08209956516157, -8.33124848540001)\n",
      "(-9.840709951189638, -6.078742188807155, -8.388772251733826)\n",
      "(-9.793203850460486, -6.076344260815404, -8.445837511485479)\n",
      "(-9.742382519403236, -6.074927639893303, -8.502596506541067)\n",
      "(-9.69527593635803, -6.074384040892255, -8.553126712658468)\n",
      "(-9.637451295028768, -6.074954892847018, -8.609335313634347)\n",
      "(-9.551634651309996, -6.0775645073990745, -8.686590417842126)\n",
      "(-9.548667532727904, -6.077694203160263, -8.688331094419937)\n",
      "(-9.436293129111618, -6.083661238478271, -8.782810213274843)\n",
      "(-9.382849762411297, -6.0875926593348595, -8.821746646771317)\n",
      "(-9.312065530537438, -6.093478258356754, -8.873110740441007)\n",
      "(-9.257134444868825, -6.098894981066223, -8.906270069169295)\n",
      "(-9.206116706925968, -6.104516818356387, -8.932049479553825)\n",
      "(-9.114397437276693, -6.1147775464128244, -8.993842564922033)\n",
      "(-9.054759942531746, -6.12255462828125, -9.021409167330603)\n",
      "(-8.971945704672635, -6.13375390539386, -9.069206776691772)\n",
      "(-8.877337390103548, -6.147610473243276, -9.12700816486904)\n"
     ]
    }
   ],
   "source": [
    "for x,y,z in zip(xs1, ys1, zs1):\n",
    "    lp1 = linreg.logpdf(None, {0:y}, None, {1:x, 2:0})\n",
    "    lp2 = linreg.logpdf(None, {0:y}, None, {1:x, 2:1})\n",
    "    lp3 = linreg.logpdf(None, {0:y}, None, {1:x, 2:2})\n",
    "    print (lp1, lp2, lp3)"
   ]
  },
  {
   "cell_type": "code",
   "execution_count": 18,
   "metadata": {},
   "outputs": [
    {
     "name": "stdout",
     "output_type": "stream",
     "text": [
      "(-21.449125571135482, -10.400643096491876, -6.420033022102416)\n",
      "(-21.470061025575887, -10.37947111198082, -6.404418994939078)\n",
      "(-21.42266259183998, -10.324081919935907, -6.380676273449353)\n",
      "(-21.457389338222583, -10.317311423635147, -6.371427348386987)\n",
      "(-21.33656201463691, -10.229089148369894, -6.341947371592596)\n",
      "(-21.308315600550486, -10.195212797470504, -6.32815757523349)\n",
      "(-21.15042838106774, -10.095004571448953, -6.2993459015574444)\n",
      "(-21.142767997069768, -10.079823024500001, -6.292768640626036)\n",
      "(-21.043311739234014, -10.019062491808654, -6.276544816906608)\n",
      "(-20.898115635021895, -9.93785533946857, -6.257161961789734)\n",
      "(-20.806729548592557, -9.889312254295874, -6.246561236793241)\n",
      "(-20.687205649561292, -9.829672358616335, -6.234795199524342)\n",
      "(-20.51086417122542, -9.743942294470344, -6.218959514344533)\n",
      "(-20.38329788796409, -9.687724624827752, -6.210518083498755)\n",
      "(-20.187402945536633, -9.599506098304118, -6.197106202263058)\n",
      "(-20.01413811013208, -9.526822553876627, -6.188030406332473)\n",
      "(-19.814553427496776, -9.444101581706946, -6.178434379299233)\n",
      "(-19.64714150602549, -9.381377309108757, -6.173471712971605)\n",
      "(-19.447230600417697, -9.305224236186405, -6.167338285036749)\n",
      "(-19.216684608182277, -9.216662132630063, -6.160442403980596)\n"
     ]
    }
   ],
   "source": [
    "for x,y,z in zip(xs2, ys2, zs2):\n",
    "    lp1 = linreg.logpdf(None, {0:y}, None, {1:x, 2:0})\n",
    "    lp2 = linreg.logpdf(None, {0:y}, None, {1:x, 2:1})\n",
    "    lp3 = linreg.logpdf(None, {0:y}, None, {1:x, 2:2})\n",
    "    print (lp1, lp2, lp3)"
   ]
  },
  {
   "cell_type": "markdown",
   "metadata": {},
   "source": [
    "#### Test chain."
   ]
  },
  {
   "cell_type": "code",
   "execution_count": 19,
   "metadata": {},
   "outputs": [],
   "source": [
    "from cgpm2.flexible_rowmix import FlexibleRowMixture\n",
    "from cgpm2.crp import CRP\n",
    "from cgpm2.normal import Normal\n",
    "from cgpm2.categorical import Categorical\n",
    "from cgpm2.product import Product\n",
    "mixture = FlexibleRowMixture(\n",
    "    cgpm_row_divide=CRP([-1],[],rng=prng),\n",
    "    cgpm_components_base=Product([\n",
    "        Normal([1],[],rng=prng),\n",
    "        Categorical([2],[],distargs={'k':3}, rng=prng),\n",
    "    ])\n",
    ")"
   ]
  },
  {
   "cell_type": "code",
   "execution_count": 20,
   "metadata": {},
   "outputs": [],
   "source": [
    "for rowid, (x,z) in enumerate(zip(xs0,zs0)):\n",
    "    mixture.incorporate(rowid, {1:x, 2:z})\n",
    "for rowid, (x,z) in enumerate(zip(xs1,zs1)):\n",
    "    mixture.incorporate(rowid + len(xs0), {1:x, 2:z})\n",
    "for rowid, (x,z) in enumerate(zip(xs2,zs2)):\n",
    "    mixture.incorporate(rowid + len(xs0) + len(xs1), {1:x, 2:z})"
   ]
  },
  {
   "cell_type": "code",
   "execution_count": 21,
   "metadata": {},
   "outputs": [],
   "source": [
    "from cgpm2.chain import Chain"
   ]
  },
  {
   "cell_type": "code",
   "execution_count": 22,
   "metadata": {},
   "outputs": [],
   "source": [
    "chain = Chain([linreg, mixture])"
   ]
  },
  {
   "cell_type": "code",
   "execution_count": 23,
   "metadata": {},
   "outputs": [
    {
     "data": {
      "text/plain": [
       "{0: 721.7604269110308, 1: 7.4797620973033645, 2: 1}"
      ]
     },
     "execution_count": 23,
     "metadata": {},
     "output_type": "execute_result"
    }
   ],
   "source": [
    "# Forward sample all.\n",
    "chain.simulate(None, [0,1,2])"
   ]
  },
  {
   "cell_type": "code",
   "execution_count": 24,
   "metadata": {},
   "outputs": [
    {
     "data": {
      "text/plain": [
       "{0: 609.3498285566478, 2: 2}"
      ]
     },
     "execution_count": 24,
     "metadata": {},
     "output_type": "execute_result"
    }
   ],
   "source": [
    "# Forward sample, but let 1 be implicit.\n",
    "chain.simulate(None, [0,2])"
   ]
  },
  {
   "cell_type": "code",
   "execution_count": 25,
   "metadata": {},
   "outputs": [],
   "source": [
    "chain.accuracy = 100"
   ]
  },
  {
   "cell_type": "code",
   "execution_count": 26,
   "metadata": {},
   "outputs": [
    {
     "data": {
      "text/plain": [
       "(0, 3)"
      ]
     },
     "execution_count": 26,
     "metadata": {},
     "output_type": "execute_result"
    },
    {
     "data": {
      "image/png": "[encoded data removed]",
      "text/plain": [
       "<matplotlib.figure.Figure at 0x7fa8c216bb10>"
      ]
     },
     "metadata": {},
     "output_type": "display_data"
    }
   ],
   "source": [
    "# Invert the sample, simulate x,z | y = 0\n",
    "samples = chain.simulate(None, [1,2], {0:0}, N=10)\n",
    "plt.hist([s[2] for s in samples])\n",
    "plt.xlim([0,3])"
   ]
  },
  {
   "cell_type": "code",
   "execution_count": 27,
   "metadata": {},
   "outputs": [
    {
     "data": {
      "text/plain": [
       "(0, 3)"
      ]
     },
     "execution_count": 27,
     "metadata": {},
     "output_type": "execute_result"
    },
    {
     "data": {
      "image/png": "[encoded data removed]",
      "text/plain": [
       "<matplotlib.figure.Figure at 0x7fa8c216b410>"
      ]
     },
     "metadata": {},
     "output_type": "display_data"
    }
   ],
   "source": [
    "# Invert the sample, simulate x,z | y = 500\n",
    "samples = chain.simulate(None, [1,2], {0:500}, N=10)\n",
    "plt.hist([s[2] for s in samples])\n",
    "plt.xlim([0,3])"
   ]
  },
  {
   "cell_type": "code",
   "execution_count": 28,
   "metadata": {},
   "outputs": [
    {
     "data": {
      "text/plain": [
       "(0, 3)"
      ]
     },
     "execution_count": 28,
     "metadata": {},
     "output_type": "execute_result"
    },
    {
     "data": {
      "image/png": "[encoded data removed]",
      "text/plain": [
       "<matplotlib.figure.Figure at 0x7fa8c201ad90>"
      ]
     },
     "metadata": {},
     "output_type": "display_data"
    }
   ],
   "source": [
    "# Invert the sample, simulate x,z | y = 1000\n",
    "samples = chain.simulate(None, [1,2], {0:1000}, N=10)\n",
    "plt.hist([s[2] for s in samples])\n",
    "plt.xlim([0,3])"
   ]
  }
 ],
 "metadata": {
  "kernelspec": {
   "display_name": "Python 2",
   "language": "python",
   "name": "python2"
  },
  "language_info": {
   "codemirror_mode": {
    "name": "ipython",
    "version": 2
   },
   "file_extension": ".py",
   "mimetype": "text/x-python",
   "name": "python",
   "nbconvert_exporter": "python",
   "pygments_lexer": "ipython2",
   "version": "2.7.12"
  }
 },
 "nbformat": 4,
 "nbformat_minor": 2
}
