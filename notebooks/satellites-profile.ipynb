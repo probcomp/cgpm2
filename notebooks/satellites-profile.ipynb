{
 "cells": [
  {
   "cell_type": "code",
   "execution_count": 1,
   "metadata": {},
   "outputs": [],
   "source": [
    "import pandas as pd"
   ]
  },
  {
   "cell_type": "code",
   "execution_count": 2,
   "metadata": {},
   "outputs": [],
   "source": [
    "df = pd.read_csv('/tmp/satellites.csv', index_col=False)"
   ]
  },
  {
   "cell_type": "code",
   "execution_count": 3,
   "metadata": {},
   "outputs": [],
   "source": [
    "del df['Name']"
   ]
  },
  {
   "cell_type": "code",
   "execution_count": 4,
   "metadata": {},
   "outputs": [],
   "source": [
    "from sklearn.preprocessing import LabelEncoder"
   ]
  },
  {
   "cell_type": "code",
   "execution_count": 5,
   "metadata": {},
   "outputs": [
    {
     "name": "stdout",
     "output_type": "stream",
     "text": [
      "('categorical', {'k': 79}),\n",
      "('categorical', {'k': 346}),\n",
      "('categorical', {'k': 18}),\n",
      "('categorical', {'k': 46}),\n",
      "('categorical', {'k': 4}),\n",
      "('categorical', {'k': 7}),\n",
      "('normal', None),\n",
      "('normal', None),\n",
      "('normal', None),\n",
      "('normal', None),\n",
      "('normal', None),\n",
      "('normal', None),\n",
      "('normal', None),\n",
      "('normal', None),\n",
      "('normal', None),\n",
      "('categorical', {'k': 282}),\n",
      "('categorical', {'k': 54}),\n",
      "('categorical', {'k': 25}),\n",
      "('categorical', {'k': 141}),\n",
      "('categorical', {'k': 38}),\n",
      "('normal', None),\n",
      "('normal', None),\n"
     ]
    }
   ],
   "source": [
    "for column in df.columns:\n",
    "    dtype = df.dtypes[column]\n",
    "    if dtype == object:\n",
    "        nans = pd.isnull(df[column])\n",
    "        encoder = LabelEncoder()\n",
    "        encoder.fit(df.loc[~nans,column])\n",
    "        df.loc[~nans,column] = encoder.transform(df.loc[~nans,column])\n",
    "        df.loc[nans,column] = float('nan')\n",
    "        distargs = {'k':len(encoder.classes_)}\n",
    "        distribution = 'categorical'\n",
    "    else:\n",
    "        distribution = 'normal'\n",
    "        distargs = None\n",
    "    print '%s,' % (str((distribution, distargs)))"
   ]
  },
  {
   "cell_type": "code",
   "execution_count": 6,
   "metadata": {},
   "outputs": [],
   "source": [
    "distributions = [\n",
    "    ('categorical', {'k': 79}),\n",
    "    ('categorical', {'k': 346}),\n",
    "    ('categorical', {'k': 18}),\n",
    "    ('categorical', {'k': 46}),\n",
    "    ('categorical', {'k': 4}),\n",
    "    ('categorical', {'k': 7}),\n",
    "    ('normal', None),\n",
    "    ('normal', None),\n",
    "    ('normal', None),\n",
    "    ('normal', None),\n",
    "    ('normal', None),\n",
    "    ('normal', None),\n",
    "    ('normal', None),\n",
    "    ('normal', None),\n",
    "    ('normal', None),\n",
    "    ('categorical', {'k': 282}),\n",
    "    ('categorical', {'k': 54}),\n",
    "    ('categorical', {'k': 25}),\n",
    "    ('categorical', {'k': 141}),\n",
    "    ('categorical', {'k': 38}),\n",
    "    ('normal', None),\n",
    "    ('normal', None),\n",
    "]"
   ]
  },
  {
   "cell_type": "code",
   "execution_count": 7,
   "metadata": {},
   "outputs": [],
   "source": [
    "import numpy as np\n",
    "import sys\n",
    "prng = np.random.RandomState(10)"
   ]
  },
  {
   "cell_type": "code",
   "execution_count": 8,
   "metadata": {},
   "outputs": [],
   "source": [
    "from cgpm2 import sample_crosscat"
   ]
  },
  {
   "cell_type": "code",
   "execution_count": 9,
   "metadata": {},
   "outputs": [],
   "source": [
    "ast = sample_crosscat.generate_random_ast(distributions, prng)\n",
    "core_dsl = sample_crosscat.compile_ast_to_core_dsl(ast)\n",
    "embedded_dsl = sample_crosscat.compile_core_dsl_to_embedded_dsl(core_dsl.getvalue())"
   ]
  },
  {
   "cell_type": "code",
   "execution_count": 10,
   "metadata": {},
   "outputs": [
    {
     "name": "stdout",
     "output_type": "stream",
     "text": [
      "from cgpm2.categorical import Categorical\n",
      "from cgpm2.crp import CRP\n",
      "from cgpm2.flexible_rowmix import FlexibleRowMixture\n",
      "from cgpm2.normal import Normal\n",
      "from cgpm2.poisson import Poisson\n",
      "from cgpm2.product import Product\n",
      "\n",
      "view0 = FlexibleRowMixture(\n",
      "  cgpm_row_divide=CRP(outputs=[100000], inputs=[], hypers={'alpha': 1.1213},),\n",
      "  cgpm_components_base=Product(cgpms=[\n",
      "    Categorical(outputs=[0], inputs=[], distargs={'k': 79}, hypers={'alpha': 0.7198},),\n",
      "    Normal(outputs=[8], inputs=[], hypers={'s': 1.9439, 'r': 0.2218, 'm': 1.7108, 'nu': 0.4333},),\n",
      "    Normal(outputs=[11], inputs=[], hypers={'s': 2.8871, 'r': 0.4847, 'm': 0.1639, 'nu': 4.3921},),])\n",
      ")\n",
      "view1 = FlexibleRowMixture(\n",
      "  cgpm_row_divide=CRP(outputs=[100001], inputs=[], hypers={'alpha': 0.5831},),\n",
      "  cgpm_components_base=Product(cgpms=[\n",
      "    Categorical(outputs=[1], inputs=[], distargs={'k': 346}, hypers={'alpha': 1.051},),\n",
      "    Categorical(outputs=[4], inputs=[], distargs={'k': 4}, hypers={'alpha': 0.7374},),\n",
      "    Categorical(outputs=[5], inputs=[], distargs={'k': 7}, hypers={'alpha': 2.393},),\n",
      "    Normal(outputs=[7], inputs=[], hypers={'s': 0.9843, 'r': 0.048, 'm': 1.7642, 'nu': 0.7932},),\n",
      "    Normal(outputs=[12], inputs=[], hypers={'s': 0.2895, 'r': 1.7494, 'm': 0.6094, 'nu': 0.9097},),\n",
      "    Categorical(outputs=[16], inputs=[], distargs={'k': 54}, hypers={'alpha': 0.0408},),\n",
      "    Normal(outputs=[20], inputs=[], hypers={'s': 2.1196, 'r': 0.0441, 'm': 0.4252, 'nu': 1.4407},),\n",
      "    Normal(outputs=[21], inputs=[], hypers={'s': 0.9303, 'r': 0.5404, 'm': 2.1045, 'nu': 0.7205},),])\n",
      ")\n",
      "view2 = FlexibleRowMixture(\n",
      "  cgpm_row_divide=CRP(outputs=[100002], inputs=[], hypers={'alpha': 0.5692},),\n",
      "  cgpm_components_base=Product(cgpms=[\n",
      "    Categorical(outputs=[2], inputs=[], distargs={'k': 18}, hypers={'alpha': 0.9189},),\n",
      "    Categorical(outputs=[3], inputs=[], distargs={'k': 46}, hypers={'alpha': 1.6359},),\n",
      "    Normal(outputs=[6], inputs=[], hypers={'s': 0.3577, 'r': 0.0948, 'm': 0.3845, 'nu': 0.121},),\n",
      "    Normal(outputs=[9], inputs=[], hypers={'s': 2.1536, 'r': 0.3509, 'm': 1.4051, 'nu': 0.3938},),\n",
      "    Normal(outputs=[13], inputs=[], hypers={'s': 0.8921, 'r': 0.7648, 'm': 2.3313, 'nu': 0.0401},),\n",
      "    Normal(outputs=[14], inputs=[], hypers={'s': 0.3645, 'r': 0.083, 'm': 0.4419, 'nu': 0.4016},),\n",
      "    Categorical(outputs=[15], inputs=[], distargs={'k': 282}, hypers={'alpha': 1.4865},),\n",
      "    Categorical(outputs=[18], inputs=[], distargs={'k': 141}, hypers={'alpha': 0.3782},),\n",
      "    Categorical(outputs=[19], inputs=[], distargs={'k': 38}, hypers={'alpha': 1.012},),])\n",
      ")\n",
      "view3 = FlexibleRowMixture(\n",
      "  cgpm_row_divide=CRP(outputs=[100003], inputs=[], hypers={'alpha': 0.9617},),\n",
      "  cgpm_components_base=Product(cgpms=[\n",
      "    Normal(outputs=[10], inputs=[], hypers={'s': 0.0981, 'r': 0.4985, 'm': 0.1803, 'nu': 1.721},),\n",
      "    Categorical(outputs=[17], inputs=[], distargs={'k': 25}, hypers={'alpha': 0.5612},),])\n",
      ")\n",
      "crosscat = Product(cgpms=[view0, view1, view2, view3])\n"
     ]
    }
   ],
   "source": [
    "print embedded_dsl.getvalue()"
   ]
  },
  {
   "cell_type": "code",
   "execution_count": 11,
   "metadata": {},
   "outputs": [],
   "source": [
    "exec(embedded_dsl.getvalue())"
   ]
  },
  {
   "cell_type": "code",
   "execution_count": 12,
   "metadata": {},
   "outputs": [],
   "source": [
    "for row, values in df.iterrows():\n",
    "    observation = dict(zip(range(len(values)), values.values))\n",
    "    crosscat.incorporate(row, observation)"
   ]
  },
  {
   "cell_type": "code",
   "execution_count": 13,
   "metadata": {},
   "outputs": [],
   "source": [
    "from cgpm2.transition_crosscat import GibbsCrossCat"
   ]
  },
  {
   "cell_type": "code",
   "execution_count": 15,
   "metadata": {},
   "outputs": [
    {
     "name": "stdout",
     "output_type": "stream",
     "text": [
      "Completed: 2 iterations in 11.722530 seconds.\n"
     ]
    }
   ],
   "source": [
    "inference = GibbsCrossCat(crosscat, prng)\n",
    "inference.transition(kernels=['row_assignments'], S=10)\n",
    "inference.transition(kernels=['hypers_distributions'], S=10)"
   ]
  },
  {
   "cell_type": "code",
   "execution_count": 17,
   "metadata": {},
   "outputs": [],
   "source": [
    "inference.transition(N=1, progress=False)"
   ]
  },
  {
   "cell_type": "code",
   "execution_count": 20,
   "metadata": {},
   "outputs": [
    {
     "name": "stdout",
     "output_type": "stream",
     "text": [
      "Completed: 100 iterations in 30.013575 seconds.\n"
     ]
    }
   ],
   "source": [
    "inference.transition_structure_cpp(N=100)"
   ]
  }
 ],
 "metadata": {
  "kernelspec": {
   "display_name": "Python 2",
   "language": "python",
   "name": "python2"
  },
  "language_info": {
   "codemirror_mode": {
    "name": "ipython",
    "version": 2
   },
   "file_extension": ".py",
   "mimetype": "text/x-python",
   "name": "python",
   "nbconvert_exporter": "python",
   "pygments_lexer": "ipython2",
   "version": "2.7.12"
  }
 },
 "nbformat": 4,
 "nbformat_minor": 2
}
