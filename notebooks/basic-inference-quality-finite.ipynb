{
 "cells": [
  {
   "cell_type": "code",
   "execution_count": 1,
   "metadata": {},
   "outputs": [],
   "source": [
    "%matplotlib inline\n",
    "import matplotlib.pyplot as plt"
   ]
  },
  {
   "cell_type": "code",
   "execution_count": 2,
   "metadata": {},
   "outputs": [],
   "source": [
    "import numpy as np\n",
    "import pandas as pd"
   ]
  },
  {
   "cell_type": "code",
   "execution_count": 3,
   "metadata": {},
   "outputs": [],
   "source": [
    "from cgpm2.finite_rowmix import FiniteRowMixture\n",
    "from cgpm2.product import Product\n",
    "from cgpm2.crp import CRP\n",
    "from cgpm2.categorical import Categorical\n",
    "from cgpm2.normal import Normal\n",
    "from cgpm2.transition_hypers import transition_hypers\n",
    "from cgpm2.transition_hypers import transtion_hyper_grids\n",
    "from cgpm2.walks import get_cgpms_by_output_index\n",
    "from cgpm2.transition_rows import transition_rows\n",
    "from cgpm2.transition_crosscat import transition_cgpm_view_assigments"
   ]
  },
  {
   "cell_type": "code",
   "execution_count": 4,
   "metadata": {},
   "outputs": [],
   "source": [
    "prng = np.random.RandomState(2)"
   ]
  },
  {
   "cell_type": "markdown",
   "metadata": {},
   "source": [
    "### Basic univariate 3 component mixture "
   ]
  },
  {
   "cell_type": "code",
   "execution_count": 5,
   "metadata": {},
   "outputs": [],
   "source": [
    "data0 = prng.normal(loc=0, scale=2, size=20)\n",
    "data1 = prng.normal(loc=30, scale=1, size=20)\n",
    "data2 = prng.normal(loc=-30, scale=1, size=20)"
   ]
  },
  {
   "cell_type": "code",
   "execution_count": 6,
   "metadata": {},
   "outputs": [],
   "source": [
    "data = np.concatenate((data0, data1, data2))"
   ]
  },
  {
   "cell_type": "code",
   "execution_count": 7,
   "metadata": {},
   "outputs": [],
   "source": [
    "finite_mixture = FiniteRowMixture(\n",
    "    cgpm_row_divide=Categorical([-1], [], distargs={'k':3}, rng=prng),\n",
    "    cgpm_components=[Normal([0], [], rng=prng), Normal([0], [], rng=prng), Normal([0], [], rng=prng)],\n",
    "    rng=prng)"
   ]
  },
  {
   "cell_type": "code",
   "execution_count": 8,
   "metadata": {},
   "outputs": [],
   "source": [
    "for rowid, value in enumerate(data):\n",
    "    finite_mixture.incorporate(rowid, {0: value})"
   ]
  },
  {
   "cell_type": "code",
   "execution_count": 9,
   "metadata": {},
   "outputs": [],
   "source": [
    "grids = {\n",
    "    0  : transtion_hyper_grids(get_cgpms_by_output_index(finite_mixture, 0), 30),\n",
    "    -1 : transtion_hyper_grids(get_cgpms_by_output_index(finite_mixture, -1), 30)\n",
    "}"
   ]
  },
  {
   "cell_type": "code",
   "execution_count": 10,
   "metadata": {},
   "outputs": [],
   "source": [
    "cgpms = {\n",
    "    0: get_cgpms_by_output_index(finite_mixture, 0),\n",
    "    -1 : get_cgpms_by_output_index(finite_mixture, -1),\n",
    "}"
   ]
  },
  {
   "cell_type": "code",
   "execution_count": 11,
   "metadata": {},
   "outputs": [
    {
     "name": "stdout",
     "output_type": "stream",
     "text": [
      "499                                                                                                                                                                                                                                                                                                                                                                                                                                                                                                                 1 loop, best of 1: 14.2 s per loop\n",
      "\n"
     ]
    }
   ],
   "source": [
    "%%timeit -n1 -r1\n",
    "for step in xrange(500):\n",
    "    print '\\r%d' % (step,),\n",
    "    import sys; sys.stdout.flush()\n",
    "    rowids = prng.permutation(range(len(data)))\n",
    "    for rowid in rowids:\n",
    "        transition_rows(finite_mixture, rowid, prng)\n",
    "    for output in finite_mixture.outputs:\n",
    "        transition_hypers(cgpms[output], grids[output], prng)"
   ]
  },
  {
   "cell_type": "code",
   "execution_count": 12,
   "metadata": {},
   "outputs": [
    {
     "data": {
      "image/png": "[encoded data removed]",
      "text/plain": [
       "<matplotlib.figure.Figure at 0x7f8073fb6e90>"
      ]
     },
     "metadata": {},
     "output_type": "display_data"
    }
   ],
   "source": [
    "assignments = finite_mixture.cgpm_row_divide.data\n",
    "counts = finite_mixture.cgpm_row_divide.counts\n",
    "fig, ax = plt.subplots()\n",
    "for cluster, _counts in enumerate(counts):\n",
    "    rowids = [rowid for rowid, z in assignments.iteritems() if z == cluster]\n",
    "    ax.hist(data[rowids])"
   ]
  },
  {
   "cell_type": "markdown",
   "metadata": {},
   "source": [
    "### Basic bivariate 2 component mixture"
   ]
  },
  {
   "cell_type": "code",
   "execution_count": 13,
   "metadata": {},
   "outputs": [],
   "source": [
    "finite_mixture = FiniteRowMixture(\n",
    "    cgpm_row_divide=Categorical([-1], [], distargs={'k':2}, rng=prng),\n",
    "    cgpm_components=[\n",
    "        Product([Normal([0], [], rng=prng), Normal([1], [], rng=prng)]),\n",
    "        Product([Normal([0], [], rng=prng), Normal([1], [], rng=prng)]),\n",
    "    ],\n",
    "    rng=prng)"
   ]
  },
  {
   "cell_type": "code",
   "execution_count": 14,
   "metadata": {},
   "outputs": [],
   "source": [
    "df = pd.read_csv('resources/two_clusters.csv', index_col=False)"
   ]
  },
  {
   "cell_type": "code",
   "execution_count": 15,
   "metadata": {},
   "outputs": [],
   "source": [
    "df.loc[0,'x'] = df.loc[50,'y'] = np.nan\n",
    "df.loc[10,'x'] = df.loc[30,'y'] = np.nan\n",
    "df.loc[33,'x'] = df.loc[33,'y'] = np.nan"
   ]
  },
  {
   "cell_type": "code",
   "execution_count": 16,
   "metadata": {},
   "outputs": [
    {
     "data": {
      "text/plain": [
       "<matplotlib.collections.PathCollection at 0x7f80742b4690>"
      ]
     },
     "execution_count": 16,
     "metadata": {},
     "output_type": "execute_result"
    },
    {
     "data": {
      "image/png": "[encoded data removed]",
      "text/plain": [
       "<matplotlib.figure.Figure at 0x7f8074543550>"
      ]
     },
     "metadata": {},
     "output_type": "display_data"
    }
   ],
   "source": [
    "fig, ax = plt.subplots()\n",
    "ax.scatter(df.x, df.y)"
   ]
  },
  {
   "cell_type": "code",
   "execution_count": 17,
   "metadata": {},
   "outputs": [],
   "source": [
    "for rowid, row in df.iterrows():\n",
    "    finite_mixture.incorporate(rowid, {0: row.x, 1: row.y})"
   ]
  },
  {
   "cell_type": "code",
   "execution_count": 18,
   "metadata": {},
   "outputs": [],
   "source": [
    "grids = {\n",
    "    -1 : transtion_hyper_grids(get_cgpms_by_output_index(finite_mixture, -1), 30),\n",
    "    0  : transtion_hyper_grids(get_cgpms_by_output_index(finite_mixture, 0), 30),\n",
    "    1  : transtion_hyper_grids(get_cgpms_by_output_index(finite_mixture, 1), 30),\n",
    "}\n",
    "cgpms = {\n",
    "    -1 : get_cgpms_by_output_index(finite_mixture, -1),\n",
    "    0: get_cgpms_by_output_index(finite_mixture, 0),\n",
    "    1: get_cgpms_by_output_index(finite_mixture, 1),\n",
    "}"
   ]
  },
  {
   "cell_type": "code",
   "execution_count": 19,
   "metadata": {},
   "outputs": [
    {
     "name": "stdout",
     "output_type": "stream",
     "text": [
      "499                                                                                                                                                                                                                                                                                                                                                                                                                                                                                                                 1 loop, best of 1: 15.7 s per loop\n",
      "\n"
     ]
    }
   ],
   "source": [
    "%%timeit -n1 -r1\n",
    "for step in xrange(500):\n",
    "    print '\\r%d' % (step,),\n",
    "    import sys; sys.stdout.flush()\n",
    "    rowids = prng.permutation(range(len(data)))\n",
    "    for rowid in rowids:\n",
    "        transition_rows(finite_mixture, rowid, prng)\n",
    "    for output in finite_mixture.outputs:\n",
    "        transition_hypers(cgpms[output], grids[output], prng)"
   ]
  },
  {
   "cell_type": "code",
   "execution_count": 20,
   "metadata": {},
   "outputs": [],
   "source": [
    "assignments = finite_mixture.cgpm_row_divide.data\n",
    "counts = finite_mixture.cgpm_row_divide.counts"
   ]
  },
  {
   "cell_type": "code",
   "execution_count": 21,
   "metadata": {},
   "outputs": [
    {
     "data": {
      "image/png": "[encoded data removed]",
      "text/plain": [
       "<matplotlib.figure.Figure at 0x7f80742b4250>"
      ]
     },
     "metadata": {},
     "output_type": "display_data"
    }
   ],
   "source": [
    "assignments = finite_mixture.cgpm_row_divide.data\n",
    "counts = finite_mixture.cgpm_row_divide.counts\n",
    "fig, ax = plt.subplots()\n",
    "for cluster, color in enumerate(['r','k','g','y','b']):\n",
    "    rowids = [rowid for rowid, z in assignments.iteritems() if z == cluster]\n",
    "    ax.scatter(df.loc[rowids].x, df.loc[rowids].y, color=color)"
   ]
  }
 ],
 "metadata": {
  "kernelspec": {
   "display_name": "Python 2",
   "language": "python",
   "name": "python2"
  },
  "language_info": {
   "codemirror_mode": {
    "name": "ipython",
    "version": 2
   },
   "file_extension": ".py",
   "mimetype": "text/x-python",
   "name": "python",
   "nbconvert_exporter": "python",
   "pygments_lexer": "ipython2",
   "version": "2.7.12"
  }
 },
 "nbformat": 4,
 "nbformat_minor": 2
}
