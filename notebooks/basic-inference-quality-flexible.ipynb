{
 "cells": [
  {
   "cell_type": "code",
   "execution_count": 1,
   "metadata": {},
   "outputs": [],
   "source": [
    "%matplotlib inline\n",
    "import matplotlib.pyplot as plt"
   ]
  },
  {
   "cell_type": "code",
   "execution_count": 2,
   "metadata": {},
   "outputs": [],
   "source": [
    "import numpy as np\n",
    "import pandas as pd"
   ]
  },
  {
   "cell_type": "code",
   "execution_count": 3,
   "metadata": {},
   "outputs": [],
   "source": [
    "from cgpm2.flexible_rowmix import FlexibleRowMixture\n",
    "from cgpm2.product import Product\n",
    "from cgpm2.crp import CRP\n",
    "from cgpm2.normal import Normal\n",
    "from cgpm2.transition_hypers import transition_hypers\n",
    "from cgpm2.transition_hypers import transition_hyper_grids\n",
    "from cgpm2.walks import get_cgpms_by_output_index\n",
    "from cgpm2.transition_rows import transition_rows\n",
    "from cgpm2.transition_views import transition_cgpm_view_assigments"
   ]
  },
  {
   "cell_type": "code",
   "execution_count": 4,
   "metadata": {},
   "outputs": [],
   "source": [
    "prng = np.random.RandomState(2)"
   ]
  },
  {
   "cell_type": "markdown",
   "metadata": {},
   "source": [
    "### Basic univariate 3 component mixture "
   ]
  },
  {
   "cell_type": "code",
   "execution_count": 5,
   "metadata": {},
   "outputs": [],
   "source": [
    "data0 = prng.normal(loc=0, scale=2, size=20)\n",
    "data1 = prng.normal(loc=30, scale=1, size=20)\n",
    "data2 = prng.normal(loc=-30, scale=1, size=20)"
   ]
  },
  {
   "cell_type": "code",
   "execution_count": 6,
   "metadata": {},
   "outputs": [],
   "source": [
    "data = np.concatenate((data0, data1, data2))"
   ]
  },
  {
   "cell_type": "code",
   "execution_count": 7,
   "metadata": {},
   "outputs": [],
   "source": [
    "infinite_mixture = FlexibleRowMixture(\n",
    "    cgpm_row_divide=CRP([-1], [], rng=prng),\n",
    "    cgpm_components_base=Normal([0], [], rng=prng),\n",
    "    rng=prng)"
   ]
  },
  {
   "cell_type": "code",
   "execution_count": 8,
   "metadata": {},
   "outputs": [],
   "source": [
    "for rowid, value in enumerate(data):\n",
    "    infinite_mixture.observe(rowid, {0: value})"
   ]
  },
  {
   "cell_type": "code",
   "execution_count": 9,
   "metadata": {},
   "outputs": [],
   "source": [
    "grids = {\n",
    "    0  : transition_hyper_grids(get_cgpms_by_output_index(infinite_mixture, 0), 30),\n",
    "    -1 : transition_hyper_grids(get_cgpms_by_output_index(infinite_mixture, -1), 30)\n",
    "}"
   ]
  },
  {
   "cell_type": "code",
   "execution_count": 10,
   "metadata": {},
   "outputs": [],
   "source": [
    "cgpms = {\n",
    "    0: get_cgpms_by_output_index(infinite_mixture, 0),\n",
    "    -1 : get_cgpms_by_output_index(infinite_mixture, -1),\n",
    "}"
   ]
  },
  {
   "cell_type": "code",
   "execution_count": 11,
   "metadata": {},
   "outputs": [
    {
     "name": "stdout",
     "output_type": "stream",
     "text": [
      "499                                                                                                                                                                                                                                                                                                                                                                                                                                                                                                                 1 loop, best of 1: 15.5 s per loop\n",
      "\n"
     ]
    }
   ],
   "source": [
    "%%timeit -n1 -r1\n",
    "for step in xrange(500):\n",
    "    print '\\r%d' % (step,),\n",
    "    import sys; sys.stdout.flush()\n",
    "    rowids = prng.permutation(range(len(data)))\n",
    "    for rowid in rowids:\n",
    "        transition_rows(infinite_mixture, rowid, prng)\n",
    "    for output in infinite_mixture.outputs:\n",
    "        transition_hypers(cgpms[output], grids[output], prng)"
   ]
  },
  {
   "cell_type": "code",
   "execution_count": 12,
   "metadata": {},
   "outputs": [
    {
     "data": {
      "image/png": "[encoded data removed]",
      "text/plain": [
       "<matplotlib.figure.Figure at 0x7f8ca115c510>"
      ]
     },
     "metadata": {},
     "output_type": "display_data"
    }
   ],
   "source": [
    "assignments = infinite_mixture.cgpm_row_divide.data\n",
    "counts = infinite_mixture.cgpm_row_divide.counts\n",
    "fig, ax = plt.subplots()\n",
    "for cluster in counts:\n",
    "    rowids = [rowid for rowid, z in assignments.iteritems() if z == cluster]\n",
    "    ax.hist(data[rowids])"
   ]
  },
  {
   "cell_type": "code",
   "execution_count": 13,
   "metadata": {},
   "outputs": [],
   "source": [
    "samples = infinite_mixture.simulate(None, [-1,0], N=100)"
   ]
  },
  {
   "cell_type": "code",
   "execution_count": 14,
   "metadata": {},
   "outputs": [
    {
     "data": {
      "image/png": "[encoded data removed]",
      "text/plain": [
       "<matplotlib.figure.Figure at 0x7f8ca115c750>"
      ]
     },
     "metadata": {},
     "output_type": "display_data"
    }
   ],
   "source": [
    "fig, ax = plt.subplots()\n",
    "zs = set([s[-1] for s in samples])\n",
    "for z in zs:\n",
    "    xs = [s[0] for s in samples if s[-1] == z]\n",
    "    ax.hist(xs)"
   ]
  },
  {
   "cell_type": "markdown",
   "metadata": {},
   "source": [
    "#### Compare to CGPM"
   ]
  },
  {
   "cell_type": "code",
   "execution_count": 15,
   "metadata": {},
   "outputs": [],
   "source": [
    "from cgpm.crosscat.state import State\n",
    "state = State(X=np.reshape(data, (len(data),1)), outputs=[0], cctypes=['normal'], rng=prng)\n",
    "view = state.views[0]"
   ]
  },
  {
   "cell_type": "code",
   "execution_count": 16,
   "metadata": {},
   "outputs": [
    {
     "name": "stdout",
     "output_type": "stream",
     "text": [
      "1 loop, best of 1: 299 ms per loop\n"
     ]
    }
   ],
   "source": [
    "%%timeit -n1 -r1\n",
    "view.transition(N=1)"
   ]
  },
  {
   "cell_type": "markdown",
   "metadata": {},
   "source": [
    "### Basic bivariate 2 component mixture with DPMM "
   ]
  },
  {
   "cell_type": "code",
   "execution_count": 17,
   "metadata": {},
   "outputs": [],
   "source": [
    "infinite_mixture = FlexibleRowMixture(\n",
    "    cgpm_row_divide=CRP([-1], [], rng=prng),\n",
    "    cgpm_components_base=Product([\n",
    "        Normal([0], [], rng=prng),\n",
    "        Normal([1], [], rng=prng),\n",
    "    ]),\n",
    "    rng=prng)"
   ]
  },
  {
   "cell_type": "code",
   "execution_count": 18,
   "metadata": {},
   "outputs": [],
   "source": [
    "df = pd.read_csv('resources/two_clusters.csv', index_col=False)"
   ]
  },
  {
   "cell_type": "code",
   "execution_count": 19,
   "metadata": {},
   "outputs": [],
   "source": [
    "df.loc[0,'x'] = df.loc[50,'y'] = np.nan\n",
    "df.loc[10,'x'] = df.loc[30,'y'] = np.nan\n",
    "df.loc[33,'x'] = df.loc[33,'y'] = np.nan"
   ]
  },
  {
   "cell_type": "code",
   "execution_count": 20,
   "metadata": {},
   "outputs": [
    {
     "data": {
      "text/plain": [
       "<matplotlib.collections.PathCollection at 0x7f8c9f0203d0>"
      ]
     },
     "execution_count": 20,
     "metadata": {},
     "output_type": "execute_result"
    },
    {
     "data": {
      "image/png": "[encoded data removed]",
      "text/plain": [
       "<matplotlib.figure.Figure at 0x7f8ca115cd90>"
      ]
     },
     "metadata": {},
     "output_type": "display_data"
    }
   ],
   "source": [
    "fig, ax = plt.subplots()\n",
    "ax.scatter(df.x, df.y)"
   ]
  },
  {
   "cell_type": "code",
   "execution_count": 21,
   "metadata": {},
   "outputs": [],
   "source": [
    "for rowid, row in df.iterrows():\n",
    "    infinite_mixture.observe(rowid, {0: row.x, 1: row.y})"
   ]
  },
  {
   "cell_type": "code",
   "execution_count": 22,
   "metadata": {},
   "outputs": [],
   "source": [
    "grids = {\n",
    "    -1 : transition_hyper_grids(get_cgpms_by_output_index(infinite_mixture, -1), 30),\n",
    "    0  : transition_hyper_grids(get_cgpms_by_output_index(infinite_mixture, 0), 30),\n",
    "    1  : transition_hyper_grids(get_cgpms_by_output_index(infinite_mixture, 1), 30),\n",
    "}\n",
    "cgpms = {\n",
    "    -1 : get_cgpms_by_output_index(infinite_mixture, -1),\n",
    "    0: get_cgpms_by_output_index(infinite_mixture, 0),\n",
    "    1: get_cgpms_by_output_index(infinite_mixture, 1),\n",
    "}"
   ]
  },
  {
   "cell_type": "code",
   "execution_count": 23,
   "metadata": {},
   "outputs": [
    {
     "name": "stdout",
     "output_type": "stream",
     "text": [
      "499                                                                                                                                                                                                                                                                                                                                                                                                                                                                                                                 1 loop, best of 1: 19.3 s per loop\n",
      "\n"
     ]
    }
   ],
   "source": [
    "%%timeit -n1 -r1\n",
    "for step in xrange(500):\n",
    "    print '\\r%d' % (step,),\n",
    "    import sys; sys.stdout.flush()\n",
    "    rowids = prng.permutation(range(len(data)))\n",
    "    for rowid in rowids:\n",
    "        transition_rows(infinite_mixture, rowid, prng)\n",
    "    for output in infinite_mixture.outputs:\n",
    "        transition_hypers(cgpms[output], grids[output], prng)"
   ]
  },
  {
   "cell_type": "code",
   "execution_count": 24,
   "metadata": {},
   "outputs": [
    {
     "name": "stdout",
     "output_type": "stream",
     "text": [
      "OrderedDict([(0, 21), (6, 22), (7, 9), (9, 8)])\n"
     ]
    },
    {
     "data": {
      "image/png": "[encoded data removed]",
      "text/plain": [
       "<matplotlib.figure.Figure at 0x7f8ca12fb190>"
      ]
     },
     "metadata": {},
     "output_type": "display_data"
    }
   ],
   "source": [
    "assignments = infinite_mixture.cgpm_row_divide.data\n",
    "counts = infinite_mixture.cgpm_row_divide.counts\n",
    "print counts\n",
    "fig, ax = plt.subplots()\n",
    "for cluster,color in zip(counts, ['r','k','g','y','b']):\n",
    "    rowids = [rowid for rowid, z in assignments.iteritems() if z == cluster]\n",
    "    ax.scatter(df.loc[rowids].x, df.loc[rowids].y, color=color)"
   ]
  },
  {
   "cell_type": "code",
   "execution_count": 25,
   "metadata": {},
   "outputs": [],
   "source": [
    "samples = infinite_mixture.simulate(None, [-1,0, 1], N=100)"
   ]
  },
  {
   "cell_type": "code",
   "execution_count": 26,
   "metadata": {},
   "outputs": [
    {
     "data": {
      "image/png": "[encoded data removed]",
      "text/plain": [
       "<matplotlib.figure.Figure at 0x7f8c9ef6b0d0>"
      ]
     },
     "metadata": {},
     "output_type": "display_data"
    }
   ],
   "source": [
    "fig, ax = plt.subplots()\n",
    "zs = set([s[-1] for s in samples])\n",
    "for z, c in zip(zs, ['r','k','b','g']):\n",
    "    xs = [s[0] for s in samples if s[-1] == z]\n",
    "    ys = [s[1] for s in samples if s[-1] == z]\n",
    "    ax.scatter(xs,ys, color=c)"
   ]
  },
  {
   "cell_type": "markdown",
   "metadata": {},
   "source": [
    "### Basic bivariate 2 component mixture with CrossCat and category inference"
   ]
  },
  {
   "cell_type": "code",
   "execution_count": 27,
   "metadata": {},
   "outputs": [],
   "source": [
    "from cgpm2.transition_views import get_cgpm_view_proposals\n",
    "from cgpm2.transition_views import get_cgpm_data_logp\n",
    "from cgpm2.transition_views import get_cgpm_current_view_index\n",
    "from cgpm2.transition_views import log_pflip\n",
    "from cgpm2.transition_views import remove_cgpm"
   ]
  },
  {
   "cell_type": "code",
   "execution_count": 28,
   "metadata": {},
   "outputs": [],
   "source": [
    "crosscat = Product([\n",
    "    FlexibleRowMixture(\n",
    "        cgpm_row_divide=CRP([-1], [], rng=prng),\n",
    "        cgpm_components_base=Product([\n",
    "            Normal([0], [], rng=prng),\n",
    "        ]),\n",
    "        rng=prng),\n",
    "    FlexibleRowMixture(\n",
    "        cgpm_row_divide=CRP([-2], [], rng=prng),\n",
    "        cgpm_components_base=Product([\n",
    "            Normal([1], [], rng=prng),\n",
    "        ]),\n",
    "        rng=prng),\n",
    "])"
   ]
  },
  {
   "cell_type": "code",
   "execution_count": 29,
   "metadata": {},
   "outputs": [],
   "source": [
    "for rowid, row in df.iterrows():\n",
    "    crosscat.observe(rowid, {0: row.x, 1: row.y})"
   ]
  },
  {
   "cell_type": "code",
   "execution_count": 30,
   "metadata": {},
   "outputs": [],
   "source": [
    "grids = {\n",
    "    -2 : transition_hyper_grids(get_cgpms_by_output_index(crosscat, -2), 30),\n",
    "    -1 : transition_hyper_grids(get_cgpms_by_output_index(crosscat, -1), 30),\n",
    "    0  : transition_hyper_grids(get_cgpms_by_output_index(crosscat, 0), 30),\n",
    "    1  : transition_hyper_grids(get_cgpms_by_output_index(crosscat, 1), 30),\n",
    "}"
   ]
  },
  {
   "cell_type": "code",
   "execution_count": 31,
   "metadata": {},
   "outputs": [],
   "source": [
    "def get_latest_cgpms(crosscat):\n",
    "    crp_outputs = [c.cgpm_row_divide.outputs[0] for c in crosscat.cgpms]\n",
    "    crp_cgpms = {output : get_cgpms_by_output_index(crosscat, output) for output in crp_outputs}\n",
    "    data_cgpms =  {\n",
    "        0  : get_cgpms_by_output_index(crosscat, 0),\n",
    "        1  : get_cgpms_by_output_index(crosscat, 1),\n",
    "    }\n",
    "    data_cgpms.update(crp_cgpms)\n",
    "    return data_cgpms"
   ]
  },
  {
   "cell_type": "code",
   "execution_count": 32,
   "metadata": {},
   "outputs": [],
   "source": [
    "for step in xrange(100):\n",
    "    cgpms = get_latest_cgpms(crosscat)\n",
    "    rowids = prng.permutation(range(len(df)))\n",
    "    for view in crosscat.cgpms:\n",
    "        for rowid in rowids:\n",
    "            transition_rows(view, rowid, prng)\n",
    "    for output in crosscat.outputs:\n",
    "        transition_hypers(cgpms[output], grids[output], prng)\n",
    "    for output in [0,1]:\n",
    "        crosscat = transition_cgpm_view_assigments(crosscat, [output])"
   ]
  },
  {
   "cell_type": "code",
   "execution_count": 33,
   "metadata": {},
   "outputs": [
    {
     "data": {
      "text/plain": [
       "[-1, 0, 1]"
      ]
     },
     "execution_count": 33,
     "metadata": {},
     "output_type": "execute_result"
    }
   ],
   "source": [
    "assert len(crosscat.cgpms) == 1\n",
    "crosscat.cgpms[0].outputs"
   ]
  },
  {
   "cell_type": "code",
   "execution_count": 34,
   "metadata": {},
   "outputs": [],
   "source": [
    "crp_output = crosscat.cgpms[0].cgpm_row_divide.outputs[0]\n",
    "samples = crosscat.simulate(None, [crp_output,0,1], N=100)"
   ]
  },
  {
   "cell_type": "code",
   "execution_count": 35,
   "metadata": {},
   "outputs": [
    {
     "data": {
      "image/png": "[encoded data removed]",
      "text/plain": [
       "<matplotlib.figure.Figure at 0x7f8ca12d76d0>"
      ]
     },
     "metadata": {},
     "output_type": "display_data"
    }
   ],
   "source": [
    "fig, ax = plt.subplots()\n",
    "zs = set([s[crp_output] for s in samples])\n",
    "for z, c in zip(zs, ['r','k','b','g']):\n",
    "    xs = [s[0] for s in samples if s[crp_output] == z]\n",
    "    ys = [s[1] for s in samples if s[crp_output] == z]\n",
    "    ax.scatter(xs,ys, color=c)"
   ]
  },
  {
   "cell_type": "markdown",
   "metadata": {},
   "source": [
    "#### Run deterministic mutations"
   ]
  },
  {
   "cell_type": "code",
   "execution_count": 36,
   "metadata": {},
   "outputs": [],
   "source": [
    "from cgpm2.transition_hypers import set_hypers\n",
    "from cgpm2.transition_rows import set_rowid_component\n",
    "from cgpm2.transition_views import set_cgpm_view_assignment"
   ]
  },
  {
   "cell_type": "code",
   "execution_count": 37,
   "metadata": {},
   "outputs": [
    {
     "data": {
      "text/plain": [
       "[<cgpm2.flexible_rowmix.FlexibleRowMixture at 0x7f8ca14376d0>]"
      ]
     },
     "execution_count": 37,
     "metadata": {},
     "output_type": "execute_result"
    }
   ],
   "source": [
    "crosscat.cgpms"
   ]
  },
  {
   "cell_type": "code",
   "execution_count": 38,
   "metadata": {},
   "outputs": [
    {
     "data": {
      "text/plain": [
       "[<cgpm2.flexible_rowmix.FlexibleRowMixture at 0x7f8ca14376d0>]"
      ]
     },
     "execution_count": 38,
     "metadata": {},
     "output_type": "execute_result"
    }
   ],
   "source": [
    "set_cgpm_view_assignment(crosscat, 0, 1).cgpms"
   ]
  },
  {
   "cell_type": "code",
   "execution_count": 39,
   "metadata": {},
   "outputs": [],
   "source": [
    "crosscat = set_cgpm_view_assignment(crosscat, 0, None)\n",
    "assert len(crosscat.cgpms) == 2"
   ]
  },
  {
   "cell_type": "code",
   "execution_count": 40,
   "metadata": {},
   "outputs": [
    {
     "data": {
      "image/png": "[encoded data removed]",
      "text/plain": [
       "<matplotlib.figure.Figure at 0x7f8ca11c48d0>"
      ]
     },
     "metadata": {},
     "output_type": "display_data"
    }
   ],
   "source": [
    "crp_output = crosscat.cgpms[0].cgpm_row_divide.outputs[0]\n",
    "samples = crosscat.simulate(None, [crp_output,0,1], N=100)\n",
    "fig, ax = plt.subplots()\n",
    "zs = set([s[crp_output] for s in samples])\n",
    "for z, c in zip(zs, ['r','k','b','g']):\n",
    "    xs = [s[0] for s in samples if s[crp_output] == z]\n",
    "    ys = [s[1] for s in samples if s[crp_output] == z]\n",
    "    ax.scatter(xs,ys, color=c)"
   ]
  },
  {
   "cell_type": "code",
   "execution_count": 41,
   "metadata": {},
   "outputs": [],
   "source": [
    "crosscat = set_cgpm_view_assignment(crosscat, 0, 1)\n",
    "assert len(crosscat.cgpms) == 1"
   ]
  },
  {
   "cell_type": "code",
   "execution_count": 42,
   "metadata": {},
   "outputs": [
    {
     "data": {
      "image/png": "[encoded data removed]",
      "text/plain": [
       "<matplotlib.figure.Figure at 0x7f8ca12b0450>"
      ]
     },
     "metadata": {},
     "output_type": "display_data"
    }
   ],
   "source": [
    "crp_output = crosscat.cgpms[0].cgpm_row_divide.outputs[0]\n",
    "samples = crosscat.simulate(None, [crp_output,0,1], N=100)\n",
    "fig, ax = plt.subplots()\n",
    "zs = set([s[crp_output] for s in samples])\n",
    "for z, c in zip(zs, ['r','k','b','g']):\n",
    "    xs = [s[0] for s in samples if s[crp_output] == z]\n",
    "    ys = [s[1] for s in samples if s[crp_output] == z]\n",
    "    ax.scatter(xs,ys, color=c)"
   ]
  },
  {
   "cell_type": "code",
   "execution_count": 43,
   "metadata": {},
   "outputs": [],
   "source": [
    "normals0 = get_cgpms_by_output_index(crosscat, 0)\n",
    "set_hypers(normals0, {'m':0})\n",
    "for nor in normals0:\n",
    "    assert nor.get_hypers()['m'] == 0"
   ]
  },
  {
   "cell_type": "code",
   "execution_count": 44,
   "metadata": {},
   "outputs": [],
   "source": [
    "view = crosscat.cgpms[0]\n",
    "for rowid in xrange(60):\n",
    "    set_rowid_component(view, rowid, None)"
   ]
  },
  {
   "cell_type": "code",
   "execution_count": 45,
   "metadata": {},
   "outputs": [],
   "source": [
    "counts = view.cgpm_row_divide.counts\n",
    "assert len(counts)==60\n",
    "assert all(counts[cluster]==1 for cluster in counts)"
   ]
  },
  {
   "cell_type": "code",
   "execution_count": 46,
   "metadata": {},
   "outputs": [],
   "source": [
    "view = crosscat.cgpms[0]\n",
    "for rowid in xrange(1,30):\n",
    "    set_rowid_component(view, rowid, 0)\n",
    "for rowid in xrange(31,60):\n",
    "    set_rowid_component(view, rowid, 30)"
   ]
  },
  {
   "cell_type": "code",
   "execution_count": 47,
   "metadata": {},
   "outputs": [
    {
     "name": "stdout",
     "output_type": "stream",
     "text": [
      "OrderedDict([(6, 30), (36, 30)])\n"
     ]
    },
    {
     "data": {
      "image/png": "[encoded data removed]",
      "text/plain": [
       "<matplotlib.figure.Figure at 0x7f8ca115d450>"
      ]
     },
     "metadata": {},
     "output_type": "display_data"
    }
   ],
   "source": [
    "assignments = view.cgpm_row_divide.data\n",
    "counts = view.cgpm_row_divide.counts\n",
    "print counts\n",
    "fig, ax = plt.subplots()\n",
    "for cluster,color in zip(counts, ['r','k','g','y','b']):\n",
    "    rowids = [rowid for rowid, z in assignments.iteritems() if z == cluster]\n",
    "    ax.scatter(df.loc[rowids].x, df.loc[rowids].y, color=color)"
   ]
  },
  {
   "cell_type": "code",
   "execution_count": 48,
   "metadata": {},
   "outputs": [],
   "source": [
    "view = crosscat.cgpms[0]\n",
    "set_rowid_component(view, 0, None)\n",
    "set_rowid_component(view, 15, None)\n",
    "set_rowid_component(view, 30, None)\n",
    "set_rowid_component(view, 45, None)"
   ]
  },
  {
   "cell_type": "code",
   "execution_count": 49,
   "metadata": {},
   "outputs": [],
   "source": [
    "for rowid in range(1,15):\n",
    "    set_rowid_component(view, rowid, 0)\n",
    "for rowid in range(16,30):\n",
    "    set_rowid_component(view, rowid, 15)\n",
    "for rowid in range(31,45):\n",
    "    set_rowid_component(view, rowid, 30)\n",
    "for rowid in range(46,60):\n",
    "    set_rowid_component(view, rowid, 45)"
   ]
  },
  {
   "cell_type": "code",
   "execution_count": 50,
   "metadata": {},
   "outputs": [
    {
     "name": "stdout",
     "output_type": "stream",
     "text": [
      "OrderedDict([(37, 15), (38, 15), (39, 15), (40, 15)])\n"
     ]
    },
    {
     "data": {
      "image/png": "[encoded data removed]",
      "text/plain": [
       "<matplotlib.figure.Figure at 0x7f8c9edc8910>"
      ]
     },
     "metadata": {},
     "output_type": "display_data"
    }
   ],
   "source": [
    "assignments = view.cgpm_row_divide.data\n",
    "counts = view.cgpm_row_divide.counts\n",
    "print counts\n",
    "fig, ax = plt.subplots()\n",
    "for cluster,color in zip(counts, ['r','k','g','y','b']):\n",
    "    rowids = [rowid for rowid, z in assignments.iteritems() if z == cluster]\n",
    "    ax.scatter(df.loc[rowids].x, df.loc[rowids].y, color=color)"
   ]
  },
  {
   "cell_type": "code",
   "execution_count": 51,
   "metadata": {},
   "outputs": [],
   "source": [
    "set_rowid_component(view, 0, None)"
   ]
  },
  {
   "cell_type": "code",
   "execution_count": 52,
   "metadata": {},
   "outputs": [],
   "source": [
    "set_rowid_component(view, 0, None)"
   ]
  }
 ],
 "metadata": {
  "kernelspec": {
   "display_name": "Python 2",
   "language": "python",
   "name": "python2"
  },
  "language_info": {
   "codemirror_mode": {
    "name": "ipython",
    "version": 2
   },
   "file_extension": ".py",
   "mimetype": "text/x-python",
   "name": "python",
   "nbconvert_exporter": "python",
   "pygments_lexer": "ipython2",
   "version": "2.7.12"
  }
 },
 "nbformat": 4,
 "nbformat_minor": 2
}
