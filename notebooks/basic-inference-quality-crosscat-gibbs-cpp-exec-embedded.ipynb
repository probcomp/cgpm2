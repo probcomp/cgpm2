{
 "cells": [
  {
   "cell_type": "code",
   "execution_count": 1,
   "metadata": {},
   "outputs": [],
   "source": [
    "%matplotlib inline\n",
    "import matplotlib.pyplot as plt"
   ]
  },
  {
   "cell_type": "code",
   "execution_count": 2,
   "metadata": {},
   "outputs": [],
   "source": [
    "import numpy as np\n",
    "import pandas as pd"
   ]
  },
  {
   "cell_type": "code",
   "execution_count": 3,
   "metadata": {},
   "outputs": [],
   "source": [
    "prng = np.random.RandomState(10)"
   ]
  },
  {
   "cell_type": "code",
   "execution_count": 4,
   "metadata": {},
   "outputs": [],
   "source": [
    "from cgpm2.transition_crosscat import GibbsCrossCat"
   ]
  },
  {
   "cell_type": "code",
   "execution_count": 5,
   "metadata": {},
   "outputs": [],
   "source": [
    "from cgpm2.flexible_rowmix import FlexibleRowMixture\n",
    "from cgpm2.product import Product\n",
    "from cgpm2.crp import CRP\n",
    "from cgpm2.normal import Normal\n",
    "from cgpm2.categorical import Categorical\n",
    "from cgpm2.sample_crosscat import render_trace_in_embedded_dsl"
   ]
  },
  {
   "cell_type": "markdown",
   "metadata": {},
   "source": [
    "### Basic univariate 3 component mixture "
   ]
  },
  {
   "cell_type": "code",
   "execution_count": 6,
   "metadata": {},
   "outputs": [],
   "source": [
    "data0 = prng.normal(loc=0, scale=2, size=20)\n",
    "data1 = prng.normal(loc=30, scale=1, size=20)\n",
    "data2 = prng.normal(loc=-30, scale=1, size=20)"
   ]
  },
  {
   "cell_type": "code",
   "execution_count": 7,
   "metadata": {},
   "outputs": [],
   "source": [
    "data = np.concatenate((data0, data1, data2))"
   ]
  },
  {
   "cell_type": "code",
   "execution_count": 8,
   "metadata": {},
   "outputs": [],
   "source": [
    "view = FlexibleRowMixture(\n",
    "    cgpm_row_divide=CRP([-1], [], rng=prng),\n",
    "    cgpm_components_base=Product(cgpms=[Normal([0], [], rng=prng)]),\n",
    "    rng=prng)\n",
    "crosscat = Product(cgpms=[view])"
   ]
  },
  {
   "cell_type": "code",
   "execution_count": 9,
   "metadata": {},
   "outputs": [],
   "source": [
    "for rowid, value in enumerate(data):\n",
    "    crosscat.incorporate(rowid, {0: value})"
   ]
  },
  {
   "cell_type": "code",
   "execution_count": 10,
   "metadata": {},
   "outputs": [
    {
     "name": "stdout",
     "output_type": "stream",
     "text": [
      "from cgpm2.categorical import Categorical\n",
      "from cgpm2.crp import CRP\n",
      "from cgpm2.flexible_rowmix import FlexibleRowMixture\n",
      "from cgpm2.normal import Normal\n",
      "from cgpm2.poisson import Poisson\n",
      "from cgpm2.product import Product\n",
      "\n",
      "nan = float('nan')\n",
      "\n",
      "view0 = FlexibleRowMixture(\n",
      "  cgpm_row_divide=CRP(outputs=[-1], inputs=[], hypers={'alpha': 1},),\n",
      "  cgpm_components_base=Product(cgpms=[\n",
      "    Normal(outputs=[0], inputs=[], hypers={'s': 1, 'r': 1, 'm': 0, 'nu': 1},),])\n",
      ")\n",
      "crosscat = Product(cgpms=[view0])\n",
      "\n",
      "# Incorporates for view 0.\n",
      "crosscat.incorporate(0, {0: 2.663173008259036, -1: 0})\n",
      "crosscat.incorporate(1, {0: 1.430557948796811, -1: 0})\n",
      "crosscat.incorporate(2, {0: -3.0908005842225363, -1: 0})\n",
      "crosscat.incorporate(3, {0: -0.016767699857044512, -1: 0})\n",
      "crosscat.incorporate(4, {0: 1.242671947780961, -1: 0})\n",
      "crosscat.incorporate(5, {0: -1.4401711214377937, -1: 0})\n",
      "crosscat.incorporate(6, {0: 0.531023171384239, -1: 0})\n",
      "crosscat.incorporate(7, {0: 0.21709705142993888, -1: 0})\n",
      "crosscat.incorporate(8, {0: 0.008582861868066472, -1: 0})\n",
      "crosscat.incorporate(9, {0: -0.34920042118588257, -1: 0})\n",
      "crosscat.incorporate(10, {0: 0.866052379907196, -1: 0})\n",
      "crosscat.incorporate(11, {0: 2.406074747624424, -1: 0})\n",
      "crosscat.incorporate(12, {0: -1.9301313410335266, -1: 0})\n",
      "crosscat.incorporate(13, {0: 2.056548155965408, -1: 0})\n",
      "crosscat.incorporate(14, {0: 0.4572602602493194, -1: 0})\n",
      "crosscat.incorporate(15, {0: 0.8902752256606957, -1: 0})\n",
      "crosscat.incorporate(16, {0: -2.2732044236620883, -1: 0})\n",
      "crosscat.incorporate(17, {0: 0.270273756897271, -1: 0})\n",
      "crosscat.incorporate(18, {0: 2.9690740036731644, -1: 0})\n",
      "crosscat.incorporate(19, {0: -2.159609771570552, -1: 0})\n",
      "crosscat.incorporate(20, {0: 28.022271719342093, -1: 0})\n",
      "crosscat.incorporate(21, {0: 28.256627704101092, -1: 0})\n",
      "crosscat.incorporate(22, {0: 30.266070164000553, -1: 0})\n",
      "crosscat.incorporate(23, {0: 32.3849673307111, -1: 0})\n",
      "crosscat.incorporate(24, {0: 31.123691253409422, -1: 0})\n",
      "crosscat.incorporate(25, {0: 31.67262221330783, -1: 0})\n",
      "crosscat.incorporate(26, {0: 30.099149215835244, -1: 0})\n",
      "crosscat.incorporate(27, {0: 31.397996377093577, -1: 0})\n",
      "crosscat.incorporate(29, {0: 30.61320418485964, -1: 1})\n",
      "crosscat.incorporate(30, {0: 29.73268281132643, -1: 0})\n",
      "crosscat.incorporate(32, {0: 30.13270829575995, -1: 0})\n",
      "crosscat.incorporate(33, {0: 29.523857985072663, -1: 2})\n",
      "crosscat.incorporate(34, {0: 31.30847308086348, -1: 0})\n",
      "crosscat.incorporate(35, {0: 30.19501327923309, -1: 0})\n",
      "crosscat.incorporate(36, {0: 30.40020998825235, -1: 0})\n",
      "crosscat.incorporate(37, {0: 29.66236766291447, -1: 0})\n",
      "crosscat.incorporate(38, {0: 31.256472263755157, -1: 0})\n",
      "crosscat.incorporate(39, {0: 29.268030497998794, -1: 0})\n",
      "crosscat.incorporate(40, {0: -29.339768448773686, -1: 0})\n",
      "crosscat.incorporate(41, {0: -30.350871891439873, -1: 0})\n",
      "crosscat.incorporate(42, {0: -30.93943335976255, -1: 0})\n",
      "crosscat.incorporate(43, {0: -30.489337216884653, -1: 0})\n",
      "crosscat.incorporate(44, {0: -30.804591142269956, -1: 0})\n",
      "crosscat.incorporate(45, {0: -30.212697638710512, -1: 0})\n",
      "crosscat.incorporate(46, {0: -30.339140246063433, -1: 0})\n",
      "crosscat.incorporate(47, {0: -29.68783006368678, -1: 0})\n",
      "crosscat.incorporate(48, {0: -29.434847330343374, -1: 0})\n",
      "crosscat.incorporate(49, {0: -30.14742025772702, -1: 0})\n",
      "crosscat.incorporate(50, {0: -30.025905336816187, -1: 0})\n",
      "crosscat.incorporate(51, {0: -29.710905796196066, -1: 0})\n",
      "crosscat.incorporate(52, {0: -30.539879071332702, -1: 0})\n",
      "crosscat.incorporate(53, {0: -29.291839980073398, -1: 0})\n",
      "crosscat.incorporate(54, {0: -29.157775261617346, -1: 0})\n",
      "crosscat.incorporate(55, {0: -29.79641920267252, -1: 0})\n",
      "crosscat.incorporate(56, {0: -27.605296335115465, -1: 0})\n",
      "crosscat.incorporate(57, {0: -29.08254106248957, -1: 0})\n",
      "crosscat.incorporate(58, {0: -30.11227247119416, -1: 0})\n",
      "crosscat.incorporate(59, {0: -30.36218044714224, -1: 0})\n",
      "crosscat.incorporate(28, {0: 29.72875201203422, -1: 0})\n",
      "crosscat.incorporate(31, {0: 29.45069098589452, -1: 0})\n",
      "\n",
      "\n",
      "\n"
     ]
    }
   ],
   "source": [
    "embedded_dsl = render_trace_in_embedded_dsl(crosscat)\n",
    "print embedded_dsl.getvalue()"
   ]
  },
  {
   "cell_type": "code",
   "execution_count": 11,
   "metadata": {},
   "outputs": [
    {
     "name": "stdout",
     "output_type": "stream",
     "text": [
      "Completed: 1000 iterations in 7.124316 seconds.\n"
     ]
    }
   ],
   "source": [
    "inference = GibbsCrossCat(crosscat, prng)\n",
    "inference.transition_structure_cpp(N=1000)"
   ]
  },
  {
   "cell_type": "code",
   "execution_count": 12,
   "metadata": {},
   "outputs": [
    {
     "name": "stdout",
     "output_type": "stream",
     "text": [
      "from cgpm2.categorical import Categorical\n",
      "from cgpm2.crp import CRP\n",
      "from cgpm2.flexible_rowmix import FlexibleRowMixture\n",
      "from cgpm2.normal import Normal\n",
      "from cgpm2.poisson import Poisson\n",
      "from cgpm2.product import Product\n",
      "\n",
      "nan = float('nan')\n",
      "\n",
      "view0 = FlexibleRowMixture(\n",
      "  cgpm_row_divide=CRP(outputs=[4034473124], inputs=[], hypers={'alpha': 0.4937},),\n",
      "  cgpm_components_base=Product(cgpms=[\n",
      "    Normal(outputs=[0], inputs=[], hypers={'s': 362.0648, 'r': 0.0167, 'm': -12.0913, 'nu': 1},),])\n",
      ")\n",
      "crosscat = Product(cgpms=[view0])\n",
      "\n",
      "# Incorporates for view 0.\n",
      "crosscat.incorporate(40, {0: -29.339768448773686, 4034473124: 0})\n",
      "crosscat.incorporate(41, {0: -30.350871891439873, 4034473124: 0})\n",
      "crosscat.incorporate(42, {0: -30.93943335976255, 4034473124: 0})\n",
      "crosscat.incorporate(43, {0: -30.489337216884653, 4034473124: 0})\n",
      "crosscat.incorporate(44, {0: -30.804591142269956, 4034473124: 0})\n",
      "crosscat.incorporate(45, {0: -30.212697638710512, 4034473124: 0})\n",
      "crosscat.incorporate(46, {0: -30.339140246063433, 4034473124: 0})\n",
      "crosscat.incorporate(47, {0: -29.68783006368678, 4034473124: 0})\n",
      "crosscat.incorporate(48, {0: -29.434847330343374, 4034473124: 0})\n",
      "crosscat.incorporate(49, {0: -30.14742025772702, 4034473124: 0})\n",
      "crosscat.incorporate(50, {0: -30.025905336816187, 4034473124: 0})\n",
      "crosscat.incorporate(51, {0: -29.710905796196066, 4034473124: 0})\n",
      "crosscat.incorporate(52, {0: -30.539879071332702, 4034473124: 0})\n",
      "crosscat.incorporate(53, {0: -29.291839980073398, 4034473124: 0})\n",
      "crosscat.incorporate(54, {0: -29.157775261617346, 4034473124: 0})\n",
      "crosscat.incorporate(55, {0: -29.79641920267252, 4034473124: 0})\n",
      "crosscat.incorporate(56, {0: -27.605296335115465, 4034473124: 0})\n",
      "crosscat.incorporate(57, {0: -29.08254106248957, 4034473124: 0})\n",
      "crosscat.incorporate(58, {0: -30.11227247119416, 4034473124: 0})\n",
      "crosscat.incorporate(59, {0: -30.36218044714224, 4034473124: 0})\n",
      "crosscat.incorporate(20, {0: 28.022271719342093, 4034473124: 1})\n",
      "crosscat.incorporate(21, {0: 28.256627704101092, 4034473124: 1})\n",
      "crosscat.incorporate(22, {0: 30.266070164000553, 4034473124: 1})\n",
      "crosscat.incorporate(23, {0: 32.3849673307111, 4034473124: 1})\n",
      "crosscat.incorporate(24, {0: 31.123691253409422, 4034473124: 1})\n",
      "crosscat.incorporate(25, {0: 31.67262221330783, 4034473124: 1})\n",
      "crosscat.incorporate(26, {0: 30.099149215835244, 4034473124: 1})\n",
      "crosscat.incorporate(27, {0: 31.397996377093577, 4034473124: 1})\n",
      "crosscat.incorporate(28, {0: 29.72875201203422, 4034473124: 1})\n",
      "crosscat.incorporate(29, {0: 30.61320418485964, 4034473124: 1})\n",
      "crosscat.incorporate(30, {0: 29.73268281132643, 4034473124: 1})\n",
      "crosscat.incorporate(31, {0: 29.45069098589452, 4034473124: 1})\n",
      "crosscat.incorporate(32, {0: 30.13270829575995, 4034473124: 1})\n",
      "crosscat.incorporate(33, {0: 29.523857985072663, 4034473124: 1})\n",
      "crosscat.incorporate(34, {0: 31.30847308086348, 4034473124: 1})\n",
      "crosscat.incorporate(35, {0: 30.19501327923309, 4034473124: 1})\n",
      "crosscat.incorporate(36, {0: 30.40020998825235, 4034473124: 1})\n",
      "crosscat.incorporate(37, {0: 29.66236766291447, 4034473124: 1})\n",
      "crosscat.incorporate(38, {0: 31.256472263755157, 4034473124: 1})\n",
      "crosscat.incorporate(39, {0: 29.268030497998794, 4034473124: 1})\n",
      "crosscat.incorporate(0, {0: 2.663173008259036, 4034473124: 2})\n",
      "crosscat.incorporate(1, {0: 1.430557948796811, 4034473124: 2})\n",
      "crosscat.incorporate(2, {0: -3.0908005842225363, 4034473124: 2})\n",
      "crosscat.incorporate(3, {0: -0.016767699857044512, 4034473124: 2})\n",
      "crosscat.incorporate(4, {0: 1.242671947780961, 4034473124: 2})\n",
      "crosscat.incorporate(5, {0: -1.4401711214377937, 4034473124: 2})\n",
      "crosscat.incorporate(6, {0: 0.531023171384239, 4034473124: 2})\n",
      "crosscat.incorporate(7, {0: 0.21709705142993888, 4034473124: 2})\n",
      "crosscat.incorporate(8, {0: 0.008582861868066472, 4034473124: 2})\n",
      "crosscat.incorporate(9, {0: -0.34920042118588257, 4034473124: 2})\n",
      "crosscat.incorporate(10, {0: 0.866052379907196, 4034473124: 2})\n",
      "crosscat.incorporate(11, {0: 2.406074747624424, 4034473124: 2})\n",
      "crosscat.incorporate(12, {0: -1.9301313410335266, 4034473124: 2})\n",
      "crosscat.incorporate(13, {0: 2.056548155965408, 4034473124: 2})\n",
      "crosscat.incorporate(14, {0: 0.4572602602493194, 4034473124: 2})\n",
      "crosscat.incorporate(15, {0: 0.8902752256606957, 4034473124: 2})\n",
      "crosscat.incorporate(16, {0: -2.2732044236620883, 4034473124: 2})\n",
      "crosscat.incorporate(17, {0: 0.270273756897271, 4034473124: 2})\n",
      "crosscat.incorporate(18, {0: 2.9690740036731644, 4034473124: 2})\n",
      "crosscat.incorporate(19, {0: -2.159609771570552, 4034473124: 2})\n",
      "\n",
      "\n",
      "\n"
     ]
    }
   ],
   "source": [
    "embedded_dsl = render_trace_in_embedded_dsl(inference.crosscat).getvalue()\n",
    "print embedded_dsl"
   ]
  },
  {
   "cell_type": "code",
   "execution_count": 13,
   "metadata": {},
   "outputs": [],
   "source": [
    "exec(embedded_dsl)"
   ]
  },
  {
   "cell_type": "code",
   "execution_count": 14,
   "metadata": {},
   "outputs": [
    {
     "data": {
      "image/png": "[encoded data removed]",
      "text/plain": [
       "<matplotlib.figure.Figure at 0x7efedd2c8790>"
      ]
     },
     "metadata": {},
     "output_type": "display_data"
    }
   ],
   "source": [
    "assignments = crosscat.cgpms[0].cgpm_row_divide.data\n",
    "counts = crosscat.cgpms[0].cgpm_row_divide.counts\n",
    "fig, ax = plt.subplots()\n",
    "for cluster in counts:\n",
    "    rowids = [rowid for rowid, z in assignments.iteritems() if z == cluster]\n",
    "    ax.hist(data[rowids])"
   ]
  },
  {
   "cell_type": "code",
   "execution_count": 15,
   "metadata": {},
   "outputs": [
    {
     "data": {
      "image/png": "[encoded data removed]",
      "text/plain": [
       "<matplotlib.figure.Figure at 0x7efedd3a7250>"
      ]
     },
     "metadata": {},
     "output_type": "display_data"
    }
   ],
   "source": [
    "crp_output = crosscat.cgpms[0].cgpm_row_divide.outputs[0]\n",
    "samples = crosscat.simulate(None, [crp_output,0], N=100)\n",
    "fig, ax = plt.subplots()\n",
    "zs = set([s[crp_output] for s in samples])\n",
    "for z in zs:\n",
    "    xs = [s[0] for s in samples if s[crp_output] == z]\n",
    "    ax.hist(xs)"
   ]
  },
  {
   "cell_type": "code",
   "execution_count": 16,
   "metadata": {
    "scrolled": false
   },
   "outputs": [
    {
     "name": "stdout",
     "output_type": "stream",
     "text": [
      "Completed: 100 iterations in 0.913152 seconds.\n"
     ]
    }
   ],
   "source": [
    "inference = GibbsCrossCat(crosscat, rng=prng)\n",
    "inference.transition(N=100, kernels=['hypers_distributions','hypers_row_divide'])"
   ]
  },
  {
   "cell_type": "code",
   "execution_count": 17,
   "metadata": {},
   "outputs": [
    {
     "data": {
      "image/png": "[encoded data removed]",
      "text/plain": [
       "<matplotlib.figure.Figure at 0x7efedd39b9d0>"
      ]
     },
     "metadata": {},
     "output_type": "display_data"
    }
   ],
   "source": [
    "crp_output = inference.crosscat.cgpms[0].cgpm_row_divide.outputs[0]\n",
    "samples = inference.crosscat.simulate(None, [crp_output,0], N=100)\n",
    "fig, ax = plt.subplots()\n",
    "zs = set([s[crp_output] for s in samples])\n",
    "for z in zs:\n",
    "    xs = [s[0] for s in samples if s[crp_output] == z]\n",
    "    ax.hist(xs)"
   ]
  },
  {
   "cell_type": "markdown",
   "metadata": {},
   "source": [
    "### Basic bivariate 2 component mixture with CrossCat and category inference and nominal variable"
   ]
  },
  {
   "cell_type": "code",
   "execution_count": 18,
   "metadata": {},
   "outputs": [],
   "source": [
    "df = pd.read_csv('resources/two_clusters.csv', index_col=False)"
   ]
  },
  {
   "cell_type": "code",
   "execution_count": 19,
   "metadata": {},
   "outputs": [],
   "source": [
    "df.loc[0,'x'] = df.loc[50,'y'] = np.nan\n",
    "df.loc[10,'x'] = df.loc[30,'y'] = np.nan\n",
    "df.loc[33,'x'] = df.loc[33,'y'] = np.nan"
   ]
  },
  {
   "cell_type": "code",
   "execution_count": 20,
   "metadata": {},
   "outputs": [],
   "source": [
    "df['z'] = 0\n",
    "df.loc[:15,'z'] = 0\n",
    "df.loc[15:30,'z'] = 1\n",
    "df.loc[30:45,'z'] = 2\n",
    "df.loc[45:60,'z'] = 3"
   ]
  },
  {
   "cell_type": "code",
   "execution_count": 21,
   "metadata": {},
   "outputs": [
    {
     "data": {
      "text/plain": [
       "<matplotlib.collections.PathCollection at 0x7efedae85a50>"
      ]
     },
     "execution_count": 21,
     "metadata": {},
     "output_type": "execute_result"
    },
    {
     "data": {
      "image/png": "[encoded data removed]",
      "text/plain": [
       "<matplotlib.figure.Figure at 0x7efedd2c8310>"
      ]
     },
     "metadata": {},
     "output_type": "display_data"
    }
   ],
   "source": [
    "fig, ax = plt.subplots()\n",
    "ax.scatter(df.x, df.y)"
   ]
  },
  {
   "cell_type": "code",
   "execution_count": 22,
   "metadata": {},
   "outputs": [],
   "source": [
    "crosscat = Product([\n",
    "    FlexibleRowMixture(\n",
    "        cgpm_row_divide=CRP([-1], [], rng=prng),\n",
    "        cgpm_components_base=Product([\n",
    "            Normal([10], [], rng=prng),\n",
    "        ]),\n",
    "        rng=prng),\n",
    "    FlexibleRowMixture(\n",
    "        cgpm_row_divide=CRP([-2], [], rng=prng),\n",
    "        cgpm_components_base=Product([\n",
    "            Normal([11], [], rng=prng),\n",
    "            Categorical([50], [], distargs={'k':4}, rng=prng),\n",
    "        ]),\n",
    "        rng=prng),\n",
    "])"
   ]
  },
  {
   "cell_type": "code",
   "execution_count": 23,
   "metadata": {},
   "outputs": [],
   "source": [
    "for rowid, row in df.iterrows():\n",
    "    crosscat.incorporate(rowid, {10: row.x, 11: row.y, 50:row.z})"
   ]
  },
  {
   "cell_type": "code",
   "execution_count": 24,
   "metadata": {},
   "outputs": [
    {
     "name": "stdout",
     "output_type": "stream",
     "text": [
      "from cgpm2.categorical import Categorical\n",
      "from cgpm2.crp import CRP\n",
      "from cgpm2.flexible_rowmix import FlexibleRowMixture\n",
      "from cgpm2.normal import Normal\n",
      "from cgpm2.poisson import Poisson\n",
      "from cgpm2.product import Product\n",
      "\n",
      "nan = float('nan')\n",
      "\n",
      "view0 = FlexibleRowMixture(\n",
      "  cgpm_row_divide=CRP(outputs=[-1], inputs=[], hypers={'alpha': 1},),\n",
      "  cgpm_components_base=Product(cgpms=[\n",
      "    Normal(outputs=[10], inputs=[], hypers={'s': 1, 'r': 1, 'm': 0, 'nu': 1},),])\n",
      ")\n",
      "view1 = FlexibleRowMixture(\n",
      "  cgpm_row_divide=CRP(outputs=[-2], inputs=[], hypers={'alpha': 1},),\n",
      "  cgpm_components_base=Product(cgpms=[\n",
      "    Normal(outputs=[11], inputs=[], hypers={'s': 1, 'r': 1, 'm': 0, 'nu': 1},),\n",
      "    Categorical(outputs=[50], inputs=[], distargs={'k': 4}, hypers={'alpha': 1},),])\n",
      ")\n",
      "crosscat = Product(cgpms=[view0, view1])\n",
      "\n",
      "# Incorporates for view 0.\n",
      "crosscat.incorporate(0, {10: nan, -1: 0})\n",
      "crosscat.incorporate(1, {10: 0.7969081275921855, -1: 0})\n",
      "crosscat.incorporate(3, {10: -1.1102675350407265, -1: 1})\n",
      "crosscat.incorporate(4, {10: -0.16405680978186304, -1: 0})\n",
      "crosscat.incorporate(7, {10: -0.5074531579769204, -1: 0})\n",
      "crosscat.incorporate(8, {10: 0.446686287296853, -1: 2})\n",
      "crosscat.incorporate(9, {10: -0.23942919194625376, -1: 1})\n",
      "crosscat.incorporate(11, {10: -0.8904286258591081, -1: 0})\n",
      "crosscat.incorporate(13, {10: 0.42799770999851205, -1: 0})\n",
      "crosscat.incorporate(15, {10: 0.6870793905488233, -1: 0})\n",
      "crosscat.incorporate(16, {10: 0.8420830398668838, -1: 3})\n",
      "crosscat.incorporate(17, {10: 0.5351442728932148, -1: 0})\n",
      "crosscat.incorporate(18, {10: 0.8004329239695493, -1: 1})\n",
      "crosscat.incorporate(19, {10: -1.5745410651854024, -1: 0})\n",
      "crosscat.incorporate(21, {10: -0.00769256738409673, -1: 1})\n",
      "crosscat.incorporate(22, {10: 0.1850449136648621, -1: 0})\n",
      "crosscat.incorporate(23, {10: -0.8934842676490701, -1: 0})\n",
      "crosscat.incorporate(24, {10: -0.31320824489724275, -1: 0})\n",
      "crosscat.incorporate(25, {10: -0.11276634669673327, -1: 0})\n",
      "crosscat.incorporate(26, {10: 1.0267512474734692, -1: 0})\n",
      "crosscat.incorporate(27, {10: -0.042257226358347035, -1: 3})\n",
      "crosscat.incorporate(29, {10: -0.5387212644512895, -1: 0})\n",
      "crosscat.incorporate(32, {10: 7.345434494149347, -1: 0})\n",
      "crosscat.incorporate(35, {10: 5.9788573353756265, -1: 0})\n",
      "crosscat.incorporate(36, {10: 7.113163297047783, -1: 0})\n",
      "crosscat.incorporate(39, {10: 7.16270154769148, -1: 0})\n",
      "crosscat.incorporate(40, {10: 6.842790262711604, -1: 0})\n",
      "crosscat.incorporate(41, {10: 7.1319188246754095, -1: 0})\n",
      "crosscat.incorporate(42, {10: 7.140219076809033, -1: 1})\n",
      "crosscat.incorporate(45, {10: 7.847762962964153, -1: 0})\n",
      "crosscat.incorporate(47, {10: 7.299455729552949, -1: 3})\n",
      "crosscat.incorporate(48, {10: 6.756858734267773, -1: 1})\n",
      "crosscat.incorporate(49, {10: 6.561593198902896, -1: 0})\n",
      "crosscat.incorporate(52, {10: 6.225780409075031, -1: 3})\n",
      "crosscat.incorporate(53, {10: 7.523652488421619, -1: 3})\n",
      "crosscat.incorporate(55, {10: 6.029059431488819, -1: 0})\n",
      "crosscat.incorporate(56, {10: 7.598325931880578, -1: 0})\n",
      "crosscat.incorporate(2, {10: 0.12955200657547158, -1: 3})\n",
      "crosscat.incorporate(6, {10: 0.3906768996415964, -1: 1})\n",
      "crosscat.incorporate(12, {10: -0.4704548579929912, -1: 0})\n",
      "crosscat.incorporate(14, {10: 0.024275148921725664, -1: 0})\n",
      "crosscat.incorporate(28, {10: -0.9924689245701136, -1: 0})\n",
      "crosscat.incorporate(31, {10: 7.362696154290371, -1: 0})\n",
      "crosscat.incorporate(38, {10: 6.783481066243947, -1: 1})\n",
      "crosscat.incorporate(43, {10: 6.525770149478952, -1: 1})\n",
      "crosscat.incorporate(44, {10: 7.086140646810808, -1: 0})\n",
      "crosscat.incorporate(46, {10: 6.734633466914025, -1: 1})\n",
      "crosscat.incorporate(57, {10: 7.247873438631066, -1: 0})\n",
      "crosscat.incorporate(59, {10: 7.792962066036115, -1: 0})\n",
      "crosscat.incorporate(5, {10: -0.427528083575921, -1: 0})\n",
      "crosscat.incorporate(10, {10: nan, -1: 4})\n",
      "crosscat.incorporate(20, {10: 0.465483550255788, -1: 3})\n",
      "crosscat.incorporate(30, {10: 6.466560100208097, -1: 0})\n",
      "crosscat.incorporate(33, {10: nan, -1: 0})\n",
      "crosscat.incorporate(34, {10: 8.545435190754144, -1: 3})\n",
      "crosscat.incorporate(37, {10: 7.223187611573997, -1: 0})\n",
      "crosscat.incorporate(51, {10: 7.285311676062368, -1: 0})\n",
      "crosscat.incorporate(54, {10: 6.8117550891274865, -1: 1})\n",
      "crosscat.incorporate(58, {10: 6.972638142996509, -1: 3})\n",
      "crosscat.incorporate(50, {10: 6.683832359777612, -1: 1})\n",
      "\n",
      "# Incorporates for view 1.\n",
      "crosscat.incorporate(0, {50: 0, 11: -1.5004463182407526, -2: 0})\n",
      "crosscat.incorporate(17, {50: 1, 11: 0.5261890491166519, -2: 1})\n",
      "crosscat.incorporate(28, {50: 1, 11: -0.3340803289034601, -2: 2})\n",
      "crosscat.incorporate(39, {50: 2, 11: 7.538823272938597, -2: 3})\n",
      "crosscat.incorporate(50, {50: 3, 11: nan, -2: 2})\n",
      "crosscat.incorporate(1, {50: 0, 11: 0.038204738865170895, -2: 4})\n",
      "crosscat.incorporate(6, {50: 0, 11: 0.1191094611113362, -2: 1})\n",
      "crosscat.incorporate(9, {50: 0, 11: 0.17268339785089107, -2: 2})\n",
      "crosscat.incorporate(35, {50: 2, 11: 6.64328876743344, -2: 2})\n",
      "crosscat.incorporate(41, {50: 2, 11: 7.289950300377672, -2: 1})\n",
      "crosscat.incorporate(46, {50: 3, 11: 6.548349397539073, -2: 5})\n",
      "crosscat.incorporate(48, {50: 3, 11: 7.030827633105916, -2: 6})\n",
      "crosscat.incorporate(2, {50: 0, 11: -1.4978816131518256, -2: 7})\n",
      "crosscat.incorporate(4, {50: 0, 11: -0.34038829330897513, -2: 6})\n",
      "crosscat.incorporate(7, {50: 0, 11: -1.285193731662537, -2: 6})\n",
      "crosscat.incorporate(8, {50: 0, 11: -0.17405335293704327, -2: 2})\n",
      "crosscat.incorporate(15, {50: 1, 11: 0.40653228124928253, -2: 6})\n",
      "crosscat.incorporate(20, {50: 1, 11: -0.16216490942619008, -2: 0})\n",
      "crosscat.incorporate(21, {50: 1, 11: 1.1890535578529955, -2: 7})\n",
      "crosscat.incorporate(22, {50: 1, 11: -0.265379027610637, -2: 6})\n",
      "crosscat.incorporate(27, {50: 1, 11: 0.3725480101278774, -2: 2})\n",
      "crosscat.incorporate(30, {50: 2, 11: nan, -2: 2})\n",
      "crosscat.incorporate(32, {50: 2, 11: 6.946562729256928, -2: 2})\n",
      "crosscat.incorporate(34, {50: 2, 11: 6.012527971274174, -2: 3})\n",
      "crosscat.incorporate(36, {50: 2, 11: 7.619544985586183, -2: 6})\n",
      "crosscat.incorporate(37, {50: 2, 11: 5.570087807367167, -2: 6})\n",
      "crosscat.incorporate(40, {50: 2, 11: 6.858042608081682, -2: 6})\n",
      "crosscat.incorporate(47, {50: 3, 11: 7.054687686786697, -2: 2})\n",
      "crosscat.incorporate(52, {50: 3, 11: 7.11977146702966, -2: 0})\n",
      "crosscat.incorporate(53, {50: 3, 11: 6.325631837239919, -2: 7})\n",
      "crosscat.incorporate(54, {50: 3, 11: 7.0230619671322, -2: 2})\n",
      "crosscat.incorporate(55, {50: 3, 11: 7.222851343267736, -2: 6})\n",
      "crosscat.incorporate(56, {50: 3, 11: 6.392230449699767, -2: 2})\n",
      "crosscat.incorporate(3, {50: 0, 11: -1.6485220965496494, -2: 6})\n",
      "crosscat.incorporate(23, {50: 1, 11: 0.591620381576997, -2: 2})\n",
      "crosscat.incorporate(5, {50: 0, 11: -1.8842675494601768, -2: 1})\n",
      "crosscat.incorporate(10, {50: 0, 11: 1.274836808019637, -2: 2})\n",
      "crosscat.incorporate(11, {50: 0, 11: -0.5351114713137458, -2: 2})\n",
      "crosscat.incorporate(13, {50: 0, 11: -0.2336912025931746, -2: 8})\n",
      "crosscat.incorporate(14, {50: 0, 11: 0.39929309589165324, -2: 0})\n",
      "crosscat.incorporate(16, {50: 1, 11: 0.24443239926601296, -2: 2})\n",
      "crosscat.incorporate(19, {50: 1, 11: -1.0498366073012884, -2: 1})\n",
      "crosscat.incorporate(24, {50: 1, 11: 0.12322025934629803, -2: 6})\n",
      "crosscat.incorporate(25, {50: 1, 11: -0.3618446018242206, -2: 8})\n",
      "crosscat.incorporate(26, {50: 1, 11: 0.7797286394971535, -2: 6})\n",
      "crosscat.incorporate(31, {50: 2, 11: 6.789216534875745, -2: 6})\n",
      "crosscat.incorporate(33, {50: 2, 11: nan, -2: 1})\n",
      "crosscat.incorporate(42, {50: 2, 11: 7.084151820470282, -2: 2})\n",
      "crosscat.incorporate(44, {50: 2, 11: 7.7986657305256, -2: 1})\n",
      "crosscat.incorporate(45, {50: 3, 11: 7.130925358383104, -2: 6})\n",
      "crosscat.incorporate(49, {50: 3, 11: 7.493583184777906, -2: 0})\n",
      "crosscat.incorporate(51, {50: 3, 11: 7.4197233989476254, -2: 6})\n",
      "crosscat.incorporate(57, {50: 3, 11: 6.072075501075397, -2: 2})\n",
      "crosscat.incorporate(58, {50: 3, 11: 5.857476411135544, -2: 2})\n",
      "crosscat.incorporate(59, {50: 3, 11: 7.289136343205959, -2: 2})\n",
      "crosscat.incorporate(12, {50: 0, 11: -0.953923463701323, -2: 2})\n",
      "crosscat.incorporate(18, {50: 1, 11: 0.9661898535125913, -2: 2})\n",
      "crosscat.incorporate(29, {50: 1, 11: 0.08716805511189808, -2: 6})\n",
      "crosscat.incorporate(38, {50: 2, 11: 7.585466484438091, -2: 6})\n",
      "crosscat.incorporate(43, {50: 2, 11: 7.266977913637991, -2: 6})\n",
      "\n",
      "\n",
      "\n"
     ]
    }
   ],
   "source": [
    "embedded_dsl = render_trace_in_embedded_dsl(crosscat).getvalue()\n",
    "print embedded_dsl"
   ]
  },
  {
   "cell_type": "code",
   "execution_count": 25,
   "metadata": {},
   "outputs": [
    {
     "name": "stdout",
     "output_type": "stream",
     "text": [
      "Completed: 2000 iterations in 17.496127 seconds.\n"
     ]
    }
   ],
   "source": [
    "inference = GibbsCrossCat(crosscat, prng)\n",
    "inference.transition_structure_cpp(N=2000)"
   ]
  },
  {
   "cell_type": "code",
   "execution_count": 26,
   "metadata": {},
   "outputs": [
    {
     "name": "stdout",
     "output_type": "stream",
     "text": [
      "from cgpm2.categorical import Categorical\n",
      "from cgpm2.crp import CRP\n",
      "from cgpm2.flexible_rowmix import FlexibleRowMixture\n",
      "from cgpm2.normal import Normal\n",
      "from cgpm2.poisson import Poisson\n",
      "from cgpm2.product import Product\n",
      "\n",
      "nan = float('nan')\n",
      "\n",
      "view0 = FlexibleRowMixture(\n",
      "  cgpm_row_divide=CRP(outputs=[3118254485], inputs=[], hypers={'alpha': 0.6547},),\n",
      "  cgpm_components_base=Product(cgpms=[\n",
      "    Normal(outputs=[10], inputs=[], hypers={'s': 10.1385, 'r': 0.0306, 'm': 6.2461, 'nu': 1.3216},),\n",
      "    Normal(outputs=[11], inputs=[], hypers={'s': 7.4421, 'r': 0.0306, 'm': 10.2671, 'nu': 16.2535},),\n",
      "    Categorical(outputs=[50], inputs=[], distargs={'k': 4}, hypers={'alpha': 0.1203},),])\n",
      ")\n",
      "crosscat = Product(cgpms=[view0])\n",
      "\n",
      "# Incorporates for view 0.\n",
      "crosscat.incorporate(30, {50: 2, 10: 6.466560100208097, 11: nan, 3118254485: 0})\n",
      "crosscat.incorporate(31, {50: 2, 10: 7.362696154290371, 11: 6.789216534875745, 3118254485: 0})\n",
      "crosscat.incorporate(32, {50: 2, 10: 7.345434494149347, 11: 6.946562729256928, 3118254485: 0})\n",
      "crosscat.incorporate(33, {50: 2, 10: nan, 11: nan, 3118254485: 0})\n",
      "crosscat.incorporate(34, {50: 2, 10: 8.545435190754144, 11: 6.012527971274174, 3118254485: 0})\n",
      "crosscat.incorporate(35, {50: 2, 10: 5.9788573353756265, 11: 6.64328876743344, 3118254485: 0})\n",
      "crosscat.incorporate(36, {50: 2, 10: 7.113163297047783, 11: 7.619544985586183, 3118254485: 0})\n",
      "crosscat.incorporate(37, {50: 2, 10: 7.223187611573997, 11: 5.570087807367167, 3118254485: 0})\n",
      "crosscat.incorporate(38, {50: 2, 10: 6.783481066243947, 11: 7.585466484438091, 3118254485: 0})\n",
      "crosscat.incorporate(39, {50: 2, 10: 7.16270154769148, 11: 7.538823272938597, 3118254485: 0})\n",
      "crosscat.incorporate(40, {50: 2, 10: 6.842790262711604, 11: 6.858042608081682, 3118254485: 0})\n",
      "crosscat.incorporate(41, {50: 2, 10: 7.1319188246754095, 11: 7.289950300377672, 3118254485: 0})\n",
      "crosscat.incorporate(42, {50: 2, 10: 7.140219076809033, 11: 7.084151820470282, 3118254485: 0})\n",
      "crosscat.incorporate(43, {50: 2, 10: 6.525770149478952, 11: 7.266977913637991, 3118254485: 0})\n",
      "crosscat.incorporate(44, {50: 2, 10: 7.086140646810808, 11: 7.7986657305256, 3118254485: 0})\n",
      "crosscat.incorporate(45, {50: 3, 10: 7.847762962964153, 11: 7.130925358383104, 3118254485: 0})\n",
      "crosscat.incorporate(46, {50: 3, 10: 6.734633466914025, 11: 6.548349397539073, 3118254485: 0})\n",
      "crosscat.incorporate(47, {50: 3, 10: 7.299455729552949, 11: 7.054687686786697, 3118254485: 0})\n",
      "crosscat.incorporate(48, {50: 3, 10: 6.756858734267773, 11: 7.030827633105916, 3118254485: 0})\n",
      "crosscat.incorporate(49, {50: 3, 10: 6.561593198902896, 11: 7.493583184777906, 3118254485: 0})\n",
      "crosscat.incorporate(50, {50: 3, 10: 6.683832359777612, 11: nan, 3118254485: 0})\n",
      "crosscat.incorporate(51, {50: 3, 10: 7.285311676062368, 11: 7.4197233989476254, 3118254485: 0})\n",
      "crosscat.incorporate(52, {50: 3, 10: 6.225780409075031, 11: 7.11977146702966, 3118254485: 0})\n",
      "crosscat.incorporate(53, {50: 3, 10: 7.523652488421619, 11: 6.325631837239919, 3118254485: 0})\n",
      "crosscat.incorporate(54, {50: 3, 10: 6.8117550891274865, 11: 7.0230619671322, 3118254485: 0})\n",
      "crosscat.incorporate(55, {50: 3, 10: 6.029059431488819, 11: 7.222851343267736, 3118254485: 0})\n",
      "crosscat.incorporate(56, {50: 3, 10: 7.598325931880578, 11: 6.392230449699767, 3118254485: 0})\n",
      "crosscat.incorporate(57, {50: 3, 10: 7.247873438631066, 11: 6.072075501075397, 3118254485: 0})\n",
      "crosscat.incorporate(58, {50: 3, 10: 6.972638142996509, 11: 5.857476411135544, 3118254485: 0})\n",
      "crosscat.incorporate(59, {50: 3, 10: 7.792962066036115, 11: 7.289136343205959, 3118254485: 0})\n",
      "crosscat.incorporate(0, {50: 0, 10: nan, 11: -1.5004463182407526, 3118254485: 1})\n",
      "crosscat.incorporate(1, {50: 0, 10: 0.7969081275921855, 11: 0.038204738865170895, 3118254485: 1})\n",
      "crosscat.incorporate(2, {50: 0, 10: 0.12955200657547158, 11: -1.4978816131518256, 3118254485: 1})\n",
      "crosscat.incorporate(3, {50: 0, 10: -1.1102675350407265, 11: -1.6485220965496494, 3118254485: 1})\n",
      "crosscat.incorporate(4, {50: 0, 10: -0.16405680978186304, 11: -0.34038829330897513, 3118254485: 1})\n",
      "crosscat.incorporate(5, {50: 0, 10: -0.427528083575921, 11: -1.8842675494601768, 3118254485: 1})\n",
      "crosscat.incorporate(6, {50: 0, 10: 0.3906768996415964, 11: 0.1191094611113362, 3118254485: 1})\n",
      "crosscat.incorporate(7, {50: 0, 10: -0.5074531579769204, 11: -1.285193731662537, 3118254485: 1})\n",
      "crosscat.incorporate(8, {50: 0, 10: 0.446686287296853, 11: -0.17405335293704327, 3118254485: 1})\n",
      "crosscat.incorporate(9, {50: 0, 10: -0.23942919194625376, 11: 0.17268339785089107, 3118254485: 1})\n",
      "crosscat.incorporate(10, {50: 0, 10: nan, 11: 1.274836808019637, 3118254485: 1})\n",
      "crosscat.incorporate(11, {50: 0, 10: -0.8904286258591081, 11: -0.5351114713137458, 3118254485: 1})\n",
      "crosscat.incorporate(12, {50: 0, 10: -0.4704548579929912, 11: -0.953923463701323, 3118254485: 1})\n",
      "crosscat.incorporate(13, {50: 0, 10: 0.42799770999851205, 11: -0.2336912025931746, 3118254485: 1})\n",
      "crosscat.incorporate(14, {50: 0, 10: 0.024275148921725664, 11: 0.39929309589165324, 3118254485: 1})\n",
      "crosscat.incorporate(15, {50: 1, 10: 0.6870793905488233, 11: 0.40653228124928253, 3118254485: 1})\n",
      "crosscat.incorporate(16, {50: 1, 10: 0.8420830398668838, 11: 0.24443239926601296, 3118254485: 1})\n",
      "crosscat.incorporate(17, {50: 1, 10: 0.5351442728932148, 11: 0.5261890491166519, 3118254485: 1})\n",
      "crosscat.incorporate(18, {50: 1, 10: 0.8004329239695493, 11: 0.9661898535125913, 3118254485: 1})\n",
      "crosscat.incorporate(19, {50: 1, 10: -1.5745410651854024, 11: -1.0498366073012884, 3118254485: 1})\n",
      "crosscat.incorporate(20, {50: 1, 10: 0.465483550255788, 11: -0.16216490942619008, 3118254485: 1})\n",
      "crosscat.incorporate(21, {50: 1, 10: -0.00769256738409673, 11: 1.1890535578529955, 3118254485: 1})\n",
      "crosscat.incorporate(22, {50: 1, 10: 0.1850449136648621, 11: -0.265379027610637, 3118254485: 1})\n",
      "crosscat.incorporate(23, {50: 1, 10: -0.8934842676490701, 11: 0.591620381576997, 3118254485: 1})\n",
      "crosscat.incorporate(24, {50: 1, 10: -0.31320824489724275, 11: 0.12322025934629803, 3118254485: 1})\n",
      "crosscat.incorporate(25, {50: 1, 10: -0.11276634669673327, 11: -0.3618446018242206, 3118254485: 1})\n",
      "crosscat.incorporate(26, {50: 1, 10: 1.0267512474734692, 11: 0.7797286394971535, 3118254485: 1})\n",
      "crosscat.incorporate(27, {50: 1, 10: -0.042257226358347035, 11: 0.3725480101278774, 3118254485: 1})\n",
      "crosscat.incorporate(28, {50: 1, 10: -0.9924689245701136, 11: -0.3340803289034601, 3118254485: 1})\n",
      "crosscat.incorporate(29, {50: 1, 10: -0.5387212644512895, 11: 0.08716805511189808, 3118254485: 1})\n",
      "\n",
      "\n",
      "\n"
     ]
    }
   ],
   "source": [
    "embedded_dsl = render_trace_in_embedded_dsl(inference.crosscat).getvalue()\n",
    "print embedded_dsl"
   ]
  },
  {
   "cell_type": "code",
   "execution_count": 27,
   "metadata": {},
   "outputs": [],
   "source": [
    "exec(embedded_dsl)"
   ]
  },
  {
   "cell_type": "code",
   "execution_count": 28,
   "metadata": {},
   "outputs": [
    {
     "data": {
      "image/png": "[encoded data removed]",
      "text/plain": [
       "<matplotlib.figure.Figure at 0x7efedaeb3110>"
      ]
     },
     "metadata": {},
     "output_type": "display_data"
    }
   ],
   "source": [
    "crp_output = crosscat.cgpms[0].cgpm_row_divide.outputs[0]\n",
    "samples = crosscat.simulate(None, [crp_output,10,11], N=100)\n",
    "fig, ax = plt.subplots()\n",
    "zs = set([s[crp_output] for s in samples])\n",
    "for z, c in zip(zs, ['r','k','b','g']):\n",
    "    xs = [s[10] for s in samples if s[crp_output] == z]\n",
    "    ys = [s[11] for s in samples if s[crp_output] == z]\n",
    "    ax.scatter(xs,ys, color=c)"
   ]
  },
  {
   "cell_type": "code",
   "execution_count": 29,
   "metadata": {
    "scrolled": false
   },
   "outputs": [
    {
     "name": "stderr",
     "output_type": "stream",
     "text": [
      "/usr/lib/python2.7/dist-packages/matplotlib/figure.py:1744: UserWarning: This figure includes Axes that are not compatible with tight_layout, so its results might be incorrect.\n",
      "  warnings.warn(\"This figure includes Axes that are not \"\n"
     ]
    },
    {
     "data": {
      "image/png": "[encoded data removed]",
      "text/plain": [
       "<matplotlib.figure.Figure at 0x7efedadfc3d0>"
      ]
     },
     "metadata": {},
     "output_type": "display_data"
    }
   ],
   "source": [
    "fig, axes = plt.subplots(nrows=4)\n",
    "for ax, z, c in zip(axes, [0,1,2,3], ['r','k','b','g']):\n",
    "    samples = crosscat.simulate(None, [10,11], {50:z}, N=100)\n",
    "    xs = [s[10] for s in samples]\n",
    "    ys = [s[11] for s in samples]\n",
    "    ax.scatter(xs,ys, color=c)\n",
    "    ax.set_xlim([-5,10])\n",
    "    ax.set_ylim([-5,10])\n",
    "fig.set_size_inches(4,10)\n",
    "fig.set_tight_layout(True)"
   ]
  },
  {
   "cell_type": "code",
   "execution_count": 30,
   "metadata": {},
   "outputs": [
    {
     "name": "stdout",
     "output_type": "stream",
     "text": [
      "0.003946695012007402\n",
      "0.003946695012007402\n",
      "0.49605330498799266\n",
      "0.49605330498799266\n"
     ]
    }
   ],
   "source": [
    "print np.exp(crosscat.cgpms[0].cgpm_components_array.cgpms[0].cgpms[2].logpdf(None, {50:0}))\n",
    "print np.exp(crosscat.cgpms[0].cgpm_components_array.cgpms[0].cgpms[2].logpdf(None, {50:1}))\n",
    "print np.exp(crosscat.cgpms[0].cgpm_components_array.cgpms[0].cgpms[2].logpdf(None, {50:2}))\n",
    "print np.exp(crosscat.cgpms[0].cgpm_components_array.cgpms[0].cgpms[2].logpdf(None, {50:3}))"
   ]
  },
  {
   "cell_type": "code",
   "execution_count": 31,
   "metadata": {},
   "outputs": [
    {
     "name": "stdout",
     "output_type": "stream",
     "text": [
      "Completed: 100 iterations in 1.720478 seconds.\n"
     ]
    }
   ],
   "source": [
    "inference = GibbsCrossCat(crosscat, prng)\n",
    "inference.transition(N=100, kernels=['hypers_row_divide', 'hypers_distributions'])"
   ]
  },
  {
   "cell_type": "code",
   "execution_count": 32,
   "metadata": {
    "scrolled": false
   },
   "outputs": [
    {
     "data": {
      "image/png": "[encoded data removed]",
      "text/plain": [
       "<matplotlib.figure.Figure at 0x7efedae18dd0>"
      ]
     },
     "metadata": {},
     "output_type": "display_data"
    }
   ],
   "source": [
    "fig, axes = plt.subplots(nrows=4)\n",
    "for ax, z, c in zip(axes, [0,1,2,3], ['r','k','b','g']):\n",
    "    samples = inference.crosscat.simulate(None, [10,11], {50:z}, N=100)\n",
    "    xs = [s[10] for s in samples]\n",
    "    ys = [s[11] for s in samples]\n",
    "    ax.scatter(xs,ys, color=c)\n",
    "    ax.set_xlim([-5,10])\n",
    "    ax.set_ylim([-5,10])\n",
    "fig.set_size_inches(4,10)\n",
    "fig.set_tight_layout(True)"
   ]
  },
  {
   "cell_type": "markdown",
   "metadata": {},
   "source": [
    "#### Good test (move me) to ensure that we cannot incorpoate 677109989 into cluster 10"
   ]
  },
  {
   "cell_type": "code",
   "execution_count": 33,
   "metadata": {},
   "outputs": [],
   "source": [
    "from cgpm2.categorical import Categorical\n",
    "from cgpm2.crp import CRP\n",
    "from cgpm2.flexible_rowmix import FlexibleRowMixture\n",
    "from cgpm2.normal import Normal\n",
    "from cgpm2.poisson import Poisson\n",
    "from cgpm2.product import Product\n",
    "\n",
    "nan = float('nan')\n",
    "\n",
    "view0 = FlexibleRowMixture(\n",
    "  cgpm_row_divide=CRP(outputs=[677109989], inputs=[], hypers={'alpha': 0.6547},),\n",
    "  cgpm_components_base=Product(cgpms=[\n",
    "    Normal(outputs=[10], inputs=[], hypers={'s': 10.1385, 'r': 0.0306, 'm': 6.2461, 'nu': 1.3216},),\n",
    "    Normal(outputs=[11], inputs=[], hypers={'s': 7.4421, 'r': 0.0306, 'm': 10.2671, 'nu': 16.2535},),\n",
    "    Categorical(outputs=[50], inputs=[], distargs={'k': 4}, hypers={'alpha': 1},),])\n",
    ")\n",
    "crosscat = Product(cgpms=[view0])"
   ]
  },
  {
   "cell_type": "code",
   "execution_count": 34,
   "metadata": {},
   "outputs": [],
   "source": [
    "# Incorporates for view 0.\n",
    "try:\n",
    "    crosscat.incorporate(30, {50: 2, 10: 6.466560100208097, 11: nan, 677109989: 10})\n",
    "    raise ValueError('Failed to fail!')\n",
    "except AssertionError:\n",
    "    pass"
   ]
  }
 ],
 "metadata": {
  "kernelspec": {
   "display_name": "Python 2",
   "language": "python",
   "name": "python2"
  },
  "language_info": {
   "codemirror_mode": {
    "name": "ipython",
    "version": 2
   },
   "file_extension": ".py",
   "mimetype": "text/x-python",
   "name": "python",
   "nbconvert_exporter": "python",
   "pygments_lexer": "ipython2",
   "version": "2.7.12"
  }
 },
 "nbformat": 4,
 "nbformat_minor": 2
}
